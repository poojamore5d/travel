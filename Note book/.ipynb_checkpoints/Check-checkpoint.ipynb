{
 "cells": [
  {
   "cell_type": "code",
   "execution_count": 1,
   "id": "58b5f440",
   "metadata": {},
   "outputs": [],
   "source": [
    "import pandas as pd\n",
    "import numpy as np\n"
   ]
  },
  {
   "cell_type": "code",
   "execution_count": 26,
   "id": "fd1d6141",
   "metadata": {},
   "outputs": [],
   "source": [
    "d={\n",
    "  \"Age\": [\n",
    "    34\n",
    "  ],\n",
    "  \"CityTier\": [\n",
    "    1\n",
    "  ],\n",
    "  \"Designation\": [\n",
    "    \"Senior Manager\"\n",
    "  ],\n",
    "  \"DurationOfPitch\": [\n",
    "    3\n",
    "  ],\n",
    "  \"Gender\": [\n",
    "    \"Male\"\n",
    "  ],\n",
    "  \"MaritalStatus\": [\n",
    "    \"Married\"\n",
    "  ],\n",
    "  \"MonthlyIncome\": [\n",
    "    45678\n",
    "  ],\n",
    "  \"NumberOfChildrenVisiting\": [\n",
    "    0\n",
    "  ],\n",
    "  \"NumberOfFollowups\": [\n",
    "    1\n",
    "  ],\n",
    "  \"NumberOfPersonVisiting\": [\n",
    "    1\n",
    "  ],\n",
    "  \"NumberOfTrips\": [\n",
    "    1\n",
    "  ],\n",
    "  \"Occupation\": [\n",
    "    \"Free Lancer\"\n",
    "  ],\n",
    "  \"OwnCar\": [\n",
    "    0\n",
    "  ],\n",
    "  \"Passport\": [\n",
    "    0\n",
    "  ],\n",
    "  \"PitchSatisfactionScore\": [\n",
    "    1\n",
    "  ],\n",
    "  \"PreferredPropertyStar\": [\n",
    "    3\n",
    "  ],\n",
    "  \"ProductPitched\": [\n",
    "    \"Standard\"\n",
    "  ],\n",
    "  \"TypeofContact\": [\n",
    "    \"Company Invited\"\n",
    "  ]\n",
    "}"
   ]
  },
  {
   "cell_type": "code",
   "execution_count": 27,
   "id": "572cb796",
   "metadata": {},
   "outputs": [
    {
     "data": {
      "text/plain": [
       "{'Age': [34],\n",
       " 'CityTier': [1],\n",
       " 'Designation': ['Senior Manager'],\n",
       " 'DurationOfPitch': [3],\n",
       " 'Gender': ['Male'],\n",
       " 'MaritalStatus': ['Married'],\n",
       " 'MonthlyIncome': [45678],\n",
       " 'NumberOfChildrenVisiting': [0],\n",
       " 'NumberOfFollowups': [1],\n",
       " 'NumberOfPersonVisiting': [1],\n",
       " 'NumberOfTrips': [1],\n",
       " 'Occupation': ['Free Lancer'],\n",
       " 'OwnCar': [0],\n",
       " 'Passport': [0],\n",
       " 'PitchSatisfactionScore': [1],\n",
       " 'PreferredPropertyStar': [3],\n",
       " 'ProductPitched': ['Standard'],\n",
       " 'TypeofContact': ['Company Invited']}"
      ]
     },
     "execution_count": 27,
     "metadata": {},
     "output_type": "execute_result"
    }
   ],
   "source": [
    "d"
   ]
  },
  {
   "cell_type": "code",
   "execution_count": 37,
   "id": "10e0447e",
   "metadata": {},
   "outputs": [
    {
     "data": {
      "text/html": [
       "<div>\n",
       "<style scoped>\n",
       "    .dataframe tbody tr th:only-of-type {\n",
       "        vertical-align: middle;\n",
       "    }\n",
       "\n",
       "    .dataframe tbody tr th {\n",
       "        vertical-align: top;\n",
       "    }\n",
       "\n",
       "    .dataframe thead th {\n",
       "        text-align: right;\n",
       "    }\n",
       "</style>\n",
       "<table border=\"1\" class=\"dataframe\">\n",
       "  <thead>\n",
       "    <tr style=\"text-align: right;\">\n",
       "      <th></th>\n",
       "      <th>Age</th>\n",
       "      <th>CityTier</th>\n",
       "      <th>Designation</th>\n",
       "      <th>DurationOfPitch</th>\n",
       "      <th>Gender</th>\n",
       "      <th>MaritalStatus</th>\n",
       "      <th>MonthlyIncome</th>\n",
       "      <th>NumberOfChildrenVisiting</th>\n",
       "      <th>NumberOfFollowups</th>\n",
       "      <th>NumberOfPersonVisiting</th>\n",
       "      <th>NumberOfTrips</th>\n",
       "      <th>Occupation</th>\n",
       "      <th>OwnCar</th>\n",
       "      <th>Passport</th>\n",
       "      <th>PitchSatisfactionScore</th>\n",
       "      <th>PreferredPropertyStar</th>\n",
       "      <th>ProductPitched</th>\n",
       "      <th>TypeofContact</th>\n",
       "    </tr>\n",
       "  </thead>\n",
       "  <tbody>\n",
       "    <tr>\n",
       "      <th>0</th>\n",
       "      <td>34</td>\n",
       "      <td>1</td>\n",
       "      <td>Senior Manager</td>\n",
       "      <td>3</td>\n",
       "      <td>Male</td>\n",
       "      <td>Married</td>\n",
       "      <td>45678</td>\n",
       "      <td>0</td>\n",
       "      <td>1</td>\n",
       "      <td>1</td>\n",
       "      <td>1</td>\n",
       "      <td>Free Lancer</td>\n",
       "      <td>0</td>\n",
       "      <td>0</td>\n",
       "      <td>1</td>\n",
       "      <td>3</td>\n",
       "      <td>Standard</td>\n",
       "      <td>Company Invited</td>\n",
       "    </tr>\n",
       "  </tbody>\n",
       "</table>\n",
       "</div>"
      ],
      "text/plain": [
       "   Age  CityTier     Designation  DurationOfPitch Gender MaritalStatus  \\\n",
       "0   34         1  Senior Manager                3   Male       Married   \n",
       "\n",
       "   MonthlyIncome  NumberOfChildrenVisiting  NumberOfFollowups  \\\n",
       "0          45678                         0                  1   \n",
       "\n",
       "   NumberOfPersonVisiting  NumberOfTrips   Occupation  OwnCar  Passport  \\\n",
       "0                       1              1  Free Lancer       0         0   \n",
       "\n",
       "   PitchSatisfactionScore  PreferredPropertyStar ProductPitched  \\\n",
       "0                       1                      3       Standard   \n",
       "\n",
       "     TypeofContact  \n",
       "0  Company Invited  "
      ]
     },
     "execution_count": 37,
     "metadata": {},
     "output_type": "execute_result"
    }
   ],
   "source": [
    "data=pd.DataFrame(d)\n",
    "data"
   ]
  },
  {
   "cell_type": "code",
   "execution_count": 39,
   "id": "55f8e47a",
   "metadata": {},
   "outputs": [
    {
     "name": "stdout",
     "output_type": "stream",
     "text": [
      "<class 'pandas.core.frame.DataFrame'>\n",
      "RangeIndex: 1 entries, 0 to 0\n",
      "Data columns (total 18 columns):\n",
      " #   Column                    Non-Null Count  Dtype \n",
      "---  ------                    --------------  ----- \n",
      " 0   Age                       1 non-null      int64 \n",
      " 1   CityTier                  1 non-null      int64 \n",
      " 2   Designation               1 non-null      object\n",
      " 3   DurationOfPitch           1 non-null      int64 \n",
      " 4   Gender                    1 non-null      object\n",
      " 5   MaritalStatus             1 non-null      object\n",
      " 6   MonthlyIncome             1 non-null      int64 \n",
      " 7   NumberOfChildrenVisiting  1 non-null      int64 \n",
      " 8   NumberOfFollowups         1 non-null      int64 \n",
      " 9   NumberOfPersonVisiting    1 non-null      int64 \n",
      " 10  NumberOfTrips             1 non-null      int64 \n",
      " 11  Occupation                1 non-null      object\n",
      " 12  OwnCar                    1 non-null      int64 \n",
      " 13  Passport                  1 non-null      int64 \n",
      " 14  PitchSatisfactionScore    1 non-null      int64 \n",
      " 15  PreferredPropertyStar     1 non-null      int64 \n",
      " 16  ProductPitched            1 non-null      object\n",
      " 17  TypeofContact             1 non-null      object\n",
      "dtypes: int64(12), object(6)\n",
      "memory usage: 272.0+ bytes\n"
     ]
    }
   ],
   "source": [
    "data.info()"
   ]
  },
  {
   "cell_type": "code",
   "execution_count": 30,
   "id": "3e9eb4ca",
   "metadata": {},
   "outputs": [],
   "source": [
    "import pickle"
   ]
  },
  {
   "cell_type": "code",
   "execution_count": 34,
   "id": "082e19bd",
   "metadata": {},
   "outputs": [],
   "source": [
    "with open(r\"C:\\Users\\asdf\\Documents\\D.S\\INEURON-PROJECTS\\Tour_Package_Project\\notebook\\Processor.pkl\",\"rb\") as f:\n",
    "    preprocessor=pickle.load(f)"
   ]
  },
  {
   "cell_type": "code",
   "execution_count": 35,
   "id": "b5b72128",
   "metadata": {},
   "outputs": [
    {
     "data": {
      "text/html": [
       "<style>#sk-container-id-1 {color: black;background-color: white;}#sk-container-id-1 pre{padding: 0;}#sk-container-id-1 div.sk-toggleable {background-color: white;}#sk-container-id-1 label.sk-toggleable__label {cursor: pointer;display: block;width: 100%;margin-bottom: 0;padding: 0.3em;box-sizing: border-box;text-align: center;}#sk-container-id-1 label.sk-toggleable__label-arrow:before {content: \"▸\";float: left;margin-right: 0.25em;color: #696969;}#sk-container-id-1 label.sk-toggleable__label-arrow:hover:before {color: black;}#sk-container-id-1 div.sk-estimator:hover label.sk-toggleable__label-arrow:before {color: black;}#sk-container-id-1 div.sk-toggleable__content {max-height: 0;max-width: 0;overflow: hidden;text-align: left;background-color: #f0f8ff;}#sk-container-id-1 div.sk-toggleable__content pre {margin: 0.2em;color: black;border-radius: 0.25em;background-color: #f0f8ff;}#sk-container-id-1 input.sk-toggleable__control:checked~div.sk-toggleable__content {max-height: 200px;max-width: 100%;overflow: auto;}#sk-container-id-1 input.sk-toggleable__control:checked~label.sk-toggleable__label-arrow:before {content: \"▾\";}#sk-container-id-1 div.sk-estimator input.sk-toggleable__control:checked~label.sk-toggleable__label {background-color: #d4ebff;}#sk-container-id-1 div.sk-label input.sk-toggleable__control:checked~label.sk-toggleable__label {background-color: #d4ebff;}#sk-container-id-1 input.sk-hidden--visually {border: 0;clip: rect(1px 1px 1px 1px);clip: rect(1px, 1px, 1px, 1px);height: 1px;margin: -1px;overflow: hidden;padding: 0;position: absolute;width: 1px;}#sk-container-id-1 div.sk-estimator {font-family: monospace;background-color: #f0f8ff;border: 1px dotted black;border-radius: 0.25em;box-sizing: border-box;margin-bottom: 0.5em;}#sk-container-id-1 div.sk-estimator:hover {background-color: #d4ebff;}#sk-container-id-1 div.sk-parallel-item::after {content: \"\";width: 100%;border-bottom: 1px solid gray;flex-grow: 1;}#sk-container-id-1 div.sk-label:hover label.sk-toggleable__label {background-color: #d4ebff;}#sk-container-id-1 div.sk-serial::before {content: \"\";position: absolute;border-left: 1px solid gray;box-sizing: border-box;top: 0;bottom: 0;left: 50%;z-index: 0;}#sk-container-id-1 div.sk-serial {display: flex;flex-direction: column;align-items: center;background-color: white;padding-right: 0.2em;padding-left: 0.2em;position: relative;}#sk-container-id-1 div.sk-item {position: relative;z-index: 1;}#sk-container-id-1 div.sk-parallel {display: flex;align-items: stretch;justify-content: center;background-color: white;position: relative;}#sk-container-id-1 div.sk-item::before, #sk-container-id-1 div.sk-parallel-item::before {content: \"\";position: absolute;border-left: 1px solid gray;box-sizing: border-box;top: 0;bottom: 0;left: 50%;z-index: -1;}#sk-container-id-1 div.sk-parallel-item {display: flex;flex-direction: column;z-index: 1;position: relative;background-color: white;}#sk-container-id-1 div.sk-parallel-item:first-child::after {align-self: flex-end;width: 50%;}#sk-container-id-1 div.sk-parallel-item:last-child::after {align-self: flex-start;width: 50%;}#sk-container-id-1 div.sk-parallel-item:only-child::after {width: 0;}#sk-container-id-1 div.sk-dashed-wrapped {border: 1px dashed gray;margin: 0 0.4em 0.5em 0.4em;box-sizing: border-box;padding-bottom: 0.4em;background-color: white;}#sk-container-id-1 div.sk-label label {font-family: monospace;font-weight: bold;display: inline-block;line-height: 1.2em;}#sk-container-id-1 div.sk-label-container {text-align: center;}#sk-container-id-1 div.sk-container {/* jupyter's `normalize.less` sets `[hidden] { display: none; }` but bootstrap.min.css set `[hidden] { display: none !important; }` so we also need the `!important` here to be able to override the default hidden behavior on the sphinx rendered scikit-learn.org. See: https://github.com/scikit-learn/scikit-learn/issues/21755 */display: inline-block !important;position: relative;}#sk-container-id-1 div.sk-text-repr-fallback {display: none;}</style><div id=\"sk-container-id-1\" class=\"sk-top-container\"><div class=\"sk-text-repr-fallback\"><pre>ColumnTransformer(transformers=[(&#x27;num_pipeline&#x27;,\n",
       "                                 Pipeline(steps=[(&#x27;Imputer&#x27;, SimpleImputer()),\n",
       "                                                 (&#x27;Scaling&#x27;,\n",
       "                                                  StandardScaler())]),\n",
       "                                 Index([&#x27;Age&#x27;, &#x27;CityTier&#x27;, &#x27;DurationOfPitch&#x27;, &#x27;NumberOfPersonVisiting&#x27;,\n",
       "       &#x27;NumberOfFollowups&#x27;, &#x27;PreferredPropertyStar&#x27;, &#x27;NumberOfTrips&#x27;,\n",
       "       &#x27;Passport&#x27;, &#x27;PitchSatisfactionScore&#x27;, &#x27;OwnCar&#x27;,\n",
       "       &#x27;NumberOfChildrenVisiting&#x27;, &#x27;MonthlyIncome&#x27;],\n",
       "      dtype=&#x27;object&#x27;)),\n",
       "                                (&#x27;cat_pipeline&#x27;,\n",
       "                                 Pipeline(steps=[(&#x27;imputing&#x27;,\n",
       "                                                  SimpleImputer(strategy=&#x27;most_frequent&#x27;)),\n",
       "                                                 (&#x27;Encoding&#x27;,\n",
       "                                                  OneHotEncoder())]),\n",
       "                                 Index([&#x27;TypeofContact&#x27;, &#x27;Occupation&#x27;, &#x27;Gender&#x27;, &#x27;ProductPitched&#x27;,\n",
       "       &#x27;MaritalStatus&#x27;, &#x27;Designation&#x27;],\n",
       "      dtype=&#x27;object&#x27;))])</pre><b>In a Jupyter environment, please rerun this cell to show the HTML representation or trust the notebook. <br />On GitHub, the HTML representation is unable to render, please try loading this page with nbviewer.org.</b></div><div class=\"sk-container\" hidden><div class=\"sk-item sk-dashed-wrapped\"><div class=\"sk-label-container\"><div class=\"sk-label sk-toggleable\"><input class=\"sk-toggleable__control sk-hidden--visually\" id=\"sk-estimator-id-1\" type=\"checkbox\" ><label for=\"sk-estimator-id-1\" class=\"sk-toggleable__label sk-toggleable__label-arrow\">ColumnTransformer</label><div class=\"sk-toggleable__content\"><pre>ColumnTransformer(transformers=[(&#x27;num_pipeline&#x27;,\n",
       "                                 Pipeline(steps=[(&#x27;Imputer&#x27;, SimpleImputer()),\n",
       "                                                 (&#x27;Scaling&#x27;,\n",
       "                                                  StandardScaler())]),\n",
       "                                 Index([&#x27;Age&#x27;, &#x27;CityTier&#x27;, &#x27;DurationOfPitch&#x27;, &#x27;NumberOfPersonVisiting&#x27;,\n",
       "       &#x27;NumberOfFollowups&#x27;, &#x27;PreferredPropertyStar&#x27;, &#x27;NumberOfTrips&#x27;,\n",
       "       &#x27;Passport&#x27;, &#x27;PitchSatisfactionScore&#x27;, &#x27;OwnCar&#x27;,\n",
       "       &#x27;NumberOfChildrenVisiting&#x27;, &#x27;MonthlyIncome&#x27;],\n",
       "      dtype=&#x27;object&#x27;)),\n",
       "                                (&#x27;cat_pipeline&#x27;,\n",
       "                                 Pipeline(steps=[(&#x27;imputing&#x27;,\n",
       "                                                  SimpleImputer(strategy=&#x27;most_frequent&#x27;)),\n",
       "                                                 (&#x27;Encoding&#x27;,\n",
       "                                                  OneHotEncoder())]),\n",
       "                                 Index([&#x27;TypeofContact&#x27;, &#x27;Occupation&#x27;, &#x27;Gender&#x27;, &#x27;ProductPitched&#x27;,\n",
       "       &#x27;MaritalStatus&#x27;, &#x27;Designation&#x27;],\n",
       "      dtype=&#x27;object&#x27;))])</pre></div></div></div><div class=\"sk-parallel\"><div class=\"sk-parallel-item\"><div class=\"sk-item\"><div class=\"sk-label-container\"><div class=\"sk-label sk-toggleable\"><input class=\"sk-toggleable__control sk-hidden--visually\" id=\"sk-estimator-id-2\" type=\"checkbox\" ><label for=\"sk-estimator-id-2\" class=\"sk-toggleable__label sk-toggleable__label-arrow\">num_pipeline</label><div class=\"sk-toggleable__content\"><pre>Index([&#x27;Age&#x27;, &#x27;CityTier&#x27;, &#x27;DurationOfPitch&#x27;, &#x27;NumberOfPersonVisiting&#x27;,\n",
       "       &#x27;NumberOfFollowups&#x27;, &#x27;PreferredPropertyStar&#x27;, &#x27;NumberOfTrips&#x27;,\n",
       "       &#x27;Passport&#x27;, &#x27;PitchSatisfactionScore&#x27;, &#x27;OwnCar&#x27;,\n",
       "       &#x27;NumberOfChildrenVisiting&#x27;, &#x27;MonthlyIncome&#x27;],\n",
       "      dtype=&#x27;object&#x27;)</pre></div></div></div><div class=\"sk-serial\"><div class=\"sk-item\"><div class=\"sk-serial\"><div class=\"sk-item\"><div class=\"sk-estimator sk-toggleable\"><input class=\"sk-toggleable__control sk-hidden--visually\" id=\"sk-estimator-id-3\" type=\"checkbox\" ><label for=\"sk-estimator-id-3\" class=\"sk-toggleable__label sk-toggleable__label-arrow\">SimpleImputer</label><div class=\"sk-toggleable__content\"><pre>SimpleImputer()</pre></div></div></div><div class=\"sk-item\"><div class=\"sk-estimator sk-toggleable\"><input class=\"sk-toggleable__control sk-hidden--visually\" id=\"sk-estimator-id-4\" type=\"checkbox\" ><label for=\"sk-estimator-id-4\" class=\"sk-toggleable__label sk-toggleable__label-arrow\">StandardScaler</label><div class=\"sk-toggleable__content\"><pre>StandardScaler()</pre></div></div></div></div></div></div></div></div><div class=\"sk-parallel-item\"><div class=\"sk-item\"><div class=\"sk-label-container\"><div class=\"sk-label sk-toggleable\"><input class=\"sk-toggleable__control sk-hidden--visually\" id=\"sk-estimator-id-5\" type=\"checkbox\" ><label for=\"sk-estimator-id-5\" class=\"sk-toggleable__label sk-toggleable__label-arrow\">cat_pipeline</label><div class=\"sk-toggleable__content\"><pre>Index([&#x27;TypeofContact&#x27;, &#x27;Occupation&#x27;, &#x27;Gender&#x27;, &#x27;ProductPitched&#x27;,\n",
       "       &#x27;MaritalStatus&#x27;, &#x27;Designation&#x27;],\n",
       "      dtype=&#x27;object&#x27;)</pre></div></div></div><div class=\"sk-serial\"><div class=\"sk-item\"><div class=\"sk-serial\"><div class=\"sk-item\"><div class=\"sk-estimator sk-toggleable\"><input class=\"sk-toggleable__control sk-hidden--visually\" id=\"sk-estimator-id-6\" type=\"checkbox\" ><label for=\"sk-estimator-id-6\" class=\"sk-toggleable__label sk-toggleable__label-arrow\">SimpleImputer</label><div class=\"sk-toggleable__content\"><pre>SimpleImputer(strategy=&#x27;most_frequent&#x27;)</pre></div></div></div><div class=\"sk-item\"><div class=\"sk-estimator sk-toggleable\"><input class=\"sk-toggleable__control sk-hidden--visually\" id=\"sk-estimator-id-7\" type=\"checkbox\" ><label for=\"sk-estimator-id-7\" class=\"sk-toggleable__label sk-toggleable__label-arrow\">OneHotEncoder</label><div class=\"sk-toggleable__content\"><pre>OneHotEncoder()</pre></div></div></div></div></div></div></div></div></div></div></div></div>"
      ],
      "text/plain": [
       "ColumnTransformer(transformers=[('num_pipeline',\n",
       "                                 Pipeline(steps=[('Imputer', SimpleImputer()),\n",
       "                                                 ('Scaling',\n",
       "                                                  StandardScaler())]),\n",
       "                                 Index(['Age', 'CityTier', 'DurationOfPitch', 'NumberOfPersonVisiting',\n",
       "       'NumberOfFollowups', 'PreferredPropertyStar', 'NumberOfTrips',\n",
       "       'Passport', 'PitchSatisfactionScore', 'OwnCar',\n",
       "       'NumberOfChildrenVisiting', 'MonthlyIncome'],\n",
       "      dtype='object')),\n",
       "                                ('cat_pipeline',\n",
       "                                 Pipeline(steps=[('imputing',\n",
       "                                                  SimpleImputer(strategy='most_frequent')),\n",
       "                                                 ('Encoding',\n",
       "                                                  OneHotEncoder())]),\n",
       "                                 Index(['TypeofContact', 'Occupation', 'Gender', 'ProductPitched',\n",
       "       'MaritalStatus', 'Designation'],\n",
       "      dtype='object'))])"
      ]
     },
     "execution_count": 35,
     "metadata": {},
     "output_type": "execute_result"
    }
   ],
   "source": [
    "preprocessor"
   ]
  },
  {
   "cell_type": "code",
   "execution_count": 42,
   "id": "c46a1c52",
   "metadata": {},
   "outputs": [
    {
     "data": {
      "text/plain": [
       "array([[-0.38403076, -0.70823914, -1.52367004, -2.65377552, -2.72291588,\n",
       "        -0.73136573, -1.22252293, -0.63793554, -1.50547848, -1.27660443,\n",
       "        -1.39848643,  4.13449742,  1.        ,  0.        ,  1.        ,\n",
       "         0.        ,  0.        ,  0.        ,  0.        ,  1.        ,\n",
       "         0.        ,  0.        ,  0.        ,  1.        ,  0.        ,\n",
       "         0.        ,  1.        ,  0.        ,  0.        ,  0.        ,\n",
       "         0.        ,  1.        ,  0.        ]])"
      ]
     },
     "execution_count": 42,
     "metadata": {},
     "output_type": "execute_result"
    }
   ],
   "source": [
    "arr=preprocessor.transform(data)\n",
    "arr"
   ]
  },
  {
   "cell_type": "code",
   "execution_count": 40,
   "id": "c53e5932",
   "metadata": {},
   "outputs": [],
   "source": [
    "with open(r\"C:\\Users\\asdf\\Documents\\D.S\\INEURON-PROJECTS\\Tour_Package_Project\\notebook\\Model.pkl\",\"rb\") as f:\n",
    "    Model=pickle.load(f)"
   ]
  },
  {
   "cell_type": "code",
   "execution_count": 43,
   "id": "6a053a49",
   "metadata": {},
   "outputs": [
    {
     "data": {
      "text/plain": [
       "array([0], dtype=int64)"
      ]
     },
     "execution_count": 43,
     "metadata": {},
     "output_type": "execute_result"
    }
   ],
   "source": [
    "Model.predict(arr)"
   ]
  },
  {
   "cell_type": "code",
   "execution_count": null,
   "id": "05547cc5",
   "metadata": {},
   "outputs": [],
   "source": []
  }
 ],
 "metadata": {
  "kernelspec": {
   "display_name": "Python 3 (ipykernel)",
   "language": "python",
   "name": "python3"
  },
  "language_info": {
   "codemirror_mode": {
    "name": "ipython",
    "version": 3
   },
   "file_extension": ".py",
   "mimetype": "text/x-python",
   "name": "python",
   "nbconvert_exporter": "python",
   "pygments_lexer": "ipython3",
   "version": "3.10.9"
  }
 },
 "nbformat": 4,
 "nbformat_minor": 5
}
