{
 "cells": [
  {
   "cell_type": "code",
   "execution_count": 1,
   "id": "ac528b21",
   "metadata": {},
   "outputs": [],
   "source": [
    "import pandas as pd\n",
    "import numpy as np\n",
    "import matplotlib.pyplot as plt\n",
    "import seaborn as sns\n",
    "from sklearn.model_selection import train_test_split\n",
    "from sklearn.preprocessing import OneHotEncoder,StandardScaler\n",
    "from sklearn.linear_model import LogisticRegression\n",
    "from sklearn.ensemble import RandomForestClassifier\n",
    "from sklearn.tree import DecisionTreeClassifier\n",
    "from sklearn.svm import SVC\n",
    "from sklearn.neighbors import KNeighborsClassifier\n",
    "from sklearn.naive_bayes import GaussianNB\n",
    "from sklearn.pipeline import Pipeline\n",
    "from sklearn.compose import ColumnTransformer\n",
    "from sklearn.impute import SimpleImputer\n",
    "from sklearn.metrics import f1_score,classification_report,accuracy_score\n",
    "import pickle\n",
    "from sklearn.model_selection import RandomizedSearchCV\n"
   ]
  },
  {
   "cell_type": "code",
   "execution_count": 2,
   "id": "084f9758",
   "metadata": {},
   "outputs": [],
   "source": [
    "data=pd.read_csv(r\"C:\\Users\\asdf\\Documents\\D.S\\INEURON-PROJECTS\\Tour_Package_Project\\data\\tour_package.csv\")"
   ]
  },
  {
   "cell_type": "code",
   "execution_count": 3,
   "id": "6f30e547",
   "metadata": {},
   "outputs": [
    {
     "data": {
      "text/html": [
       "<div>\n",
       "<style scoped>\n",
       "    .dataframe tbody tr th:only-of-type {\n",
       "        vertical-align: middle;\n",
       "    }\n",
       "\n",
       "    .dataframe tbody tr th {\n",
       "        vertical-align: top;\n",
       "    }\n",
       "\n",
       "    .dataframe thead th {\n",
       "        text-align: right;\n",
       "    }\n",
       "</style>\n",
       "<table border=\"1\" class=\"dataframe\">\n",
       "  <thead>\n",
       "    <tr style=\"text-align: right;\">\n",
       "      <th></th>\n",
       "      <th>CustomerID</th>\n",
       "      <th>ProdTaken</th>\n",
       "      <th>Age</th>\n",
       "      <th>TypeofContact</th>\n",
       "      <th>CityTier</th>\n",
       "      <th>DurationOfPitch</th>\n",
       "      <th>Occupation</th>\n",
       "      <th>Gender</th>\n",
       "      <th>NumberOfPersonVisiting</th>\n",
       "      <th>NumberOfFollowups</th>\n",
       "      <th>ProductPitched</th>\n",
       "      <th>PreferredPropertyStar</th>\n",
       "      <th>MaritalStatus</th>\n",
       "      <th>NumberOfTrips</th>\n",
       "      <th>Passport</th>\n",
       "      <th>PitchSatisfactionScore</th>\n",
       "      <th>OwnCar</th>\n",
       "      <th>NumberOfChildrenVisiting</th>\n",
       "      <th>Designation</th>\n",
       "      <th>MonthlyIncome</th>\n",
       "    </tr>\n",
       "  </thead>\n",
       "  <tbody>\n",
       "    <tr>\n",
       "      <th>0</th>\n",
       "      <td>200000</td>\n",
       "      <td>1</td>\n",
       "      <td>41.0</td>\n",
       "      <td>Self Enquiry</td>\n",
       "      <td>3</td>\n",
       "      <td>6.0</td>\n",
       "      <td>Salaried</td>\n",
       "      <td>Female</td>\n",
       "      <td>3</td>\n",
       "      <td>3.0</td>\n",
       "      <td>Deluxe</td>\n",
       "      <td>3.0</td>\n",
       "      <td>Single</td>\n",
       "      <td>1.0</td>\n",
       "      <td>1</td>\n",
       "      <td>2</td>\n",
       "      <td>1</td>\n",
       "      <td>0.0</td>\n",
       "      <td>Manager</td>\n",
       "      <td>20993.0</td>\n",
       "    </tr>\n",
       "    <tr>\n",
       "      <th>1</th>\n",
       "      <td>200001</td>\n",
       "      <td>0</td>\n",
       "      <td>49.0</td>\n",
       "      <td>Company Invited</td>\n",
       "      <td>1</td>\n",
       "      <td>14.0</td>\n",
       "      <td>Salaried</td>\n",
       "      <td>Male</td>\n",
       "      <td>3</td>\n",
       "      <td>4.0</td>\n",
       "      <td>Deluxe</td>\n",
       "      <td>4.0</td>\n",
       "      <td>Divorced</td>\n",
       "      <td>2.0</td>\n",
       "      <td>0</td>\n",
       "      <td>3</td>\n",
       "      <td>1</td>\n",
       "      <td>2.0</td>\n",
       "      <td>Manager</td>\n",
       "      <td>20130.0</td>\n",
       "    </tr>\n",
       "    <tr>\n",
       "      <th>2</th>\n",
       "      <td>200002</td>\n",
       "      <td>1</td>\n",
       "      <td>37.0</td>\n",
       "      <td>Self Enquiry</td>\n",
       "      <td>1</td>\n",
       "      <td>8.0</td>\n",
       "      <td>Free Lancer</td>\n",
       "      <td>Male</td>\n",
       "      <td>3</td>\n",
       "      <td>4.0</td>\n",
       "      <td>Basic</td>\n",
       "      <td>3.0</td>\n",
       "      <td>Single</td>\n",
       "      <td>7.0</td>\n",
       "      <td>1</td>\n",
       "      <td>3</td>\n",
       "      <td>0</td>\n",
       "      <td>0.0</td>\n",
       "      <td>Executive</td>\n",
       "      <td>17090.0</td>\n",
       "    </tr>\n",
       "    <tr>\n",
       "      <th>3</th>\n",
       "      <td>200003</td>\n",
       "      <td>0</td>\n",
       "      <td>33.0</td>\n",
       "      <td>Company Invited</td>\n",
       "      <td>1</td>\n",
       "      <td>9.0</td>\n",
       "      <td>Salaried</td>\n",
       "      <td>Female</td>\n",
       "      <td>2</td>\n",
       "      <td>3.0</td>\n",
       "      <td>Basic</td>\n",
       "      <td>3.0</td>\n",
       "      <td>Divorced</td>\n",
       "      <td>2.0</td>\n",
       "      <td>1</td>\n",
       "      <td>5</td>\n",
       "      <td>1</td>\n",
       "      <td>1.0</td>\n",
       "      <td>Executive</td>\n",
       "      <td>17909.0</td>\n",
       "    </tr>\n",
       "    <tr>\n",
       "      <th>4</th>\n",
       "      <td>200004</td>\n",
       "      <td>0</td>\n",
       "      <td>NaN</td>\n",
       "      <td>Self Enquiry</td>\n",
       "      <td>1</td>\n",
       "      <td>8.0</td>\n",
       "      <td>Small Business</td>\n",
       "      <td>Male</td>\n",
       "      <td>2</td>\n",
       "      <td>3.0</td>\n",
       "      <td>Basic</td>\n",
       "      <td>4.0</td>\n",
       "      <td>Divorced</td>\n",
       "      <td>1.0</td>\n",
       "      <td>0</td>\n",
       "      <td>5</td>\n",
       "      <td>1</td>\n",
       "      <td>0.0</td>\n",
       "      <td>Executive</td>\n",
       "      <td>18468.0</td>\n",
       "    </tr>\n",
       "  </tbody>\n",
       "</table>\n",
       "</div>"
      ],
      "text/plain": [
       "   CustomerID  ProdTaken   Age    TypeofContact  CityTier  DurationOfPitch  \\\n",
       "0      200000          1  41.0     Self Enquiry         3              6.0   \n",
       "1      200001          0  49.0  Company Invited         1             14.0   \n",
       "2      200002          1  37.0     Self Enquiry         1              8.0   \n",
       "3      200003          0  33.0  Company Invited         1              9.0   \n",
       "4      200004          0   NaN     Self Enquiry         1              8.0   \n",
       "\n",
       "       Occupation  Gender  NumberOfPersonVisiting  NumberOfFollowups  \\\n",
       "0        Salaried  Female                       3                3.0   \n",
       "1        Salaried    Male                       3                4.0   \n",
       "2     Free Lancer    Male                       3                4.0   \n",
       "3        Salaried  Female                       2                3.0   \n",
       "4  Small Business    Male                       2                3.0   \n",
       "\n",
       "  ProductPitched  PreferredPropertyStar MaritalStatus  NumberOfTrips  \\\n",
       "0         Deluxe                    3.0        Single            1.0   \n",
       "1         Deluxe                    4.0      Divorced            2.0   \n",
       "2          Basic                    3.0        Single            7.0   \n",
       "3          Basic                    3.0      Divorced            2.0   \n",
       "4          Basic                    4.0      Divorced            1.0   \n",
       "\n",
       "   Passport  PitchSatisfactionScore  OwnCar  NumberOfChildrenVisiting  \\\n",
       "0         1                       2       1                       0.0   \n",
       "1         0                       3       1                       2.0   \n",
       "2         1                       3       0                       0.0   \n",
       "3         1                       5       1                       1.0   \n",
       "4         0                       5       1                       0.0   \n",
       "\n",
       "  Designation  MonthlyIncome  \n",
       "0     Manager        20993.0  \n",
       "1     Manager        20130.0  \n",
       "2   Executive        17090.0  \n",
       "3   Executive        17909.0  \n",
       "4   Executive        18468.0  "
      ]
     },
     "execution_count": 3,
     "metadata": {},
     "output_type": "execute_result"
    }
   ],
   "source": [
    "data.head()"
   ]
  },
  {
   "cell_type": "markdown",
   "id": "89fd5a19",
   "metadata": {},
   "source": [
    "### Now see the Null values and Handle them"
   ]
  },
  {
   "cell_type": "code",
   "execution_count": 4,
   "id": "e4bb507c",
   "metadata": {},
   "outputs": [
    {
     "data": {
      "text/plain": [
       "CustomerID                    0\n",
       "ProdTaken                     0\n",
       "Age                         226\n",
       "TypeofContact                25\n",
       "CityTier                      0\n",
       "DurationOfPitch             251\n",
       "Occupation                    0\n",
       "Gender                        0\n",
       "NumberOfPersonVisiting        0\n",
       "NumberOfFollowups            45\n",
       "ProductPitched                0\n",
       "PreferredPropertyStar        26\n",
       "MaritalStatus                 0\n",
       "NumberOfTrips               140\n",
       "Passport                      0\n",
       "PitchSatisfactionScore        0\n",
       "OwnCar                        0\n",
       "NumberOfChildrenVisiting     66\n",
       "Designation                   0\n",
       "MonthlyIncome               233\n",
       "dtype: int64"
      ]
     },
     "execution_count": 4,
     "metadata": {},
     "output_type": "execute_result"
    }
   ],
   "source": [
    "data.isnull().sum()"
   ]
  },
  {
   "cell_type": "code",
   "execution_count": 5,
   "id": "ee676d20",
   "metadata": {},
   "outputs": [],
   "source": [
    "data=data.drop(\"CustomerID\",axis=1)"
   ]
  },
  {
   "cell_type": "code",
   "execution_count": 6,
   "id": "e958780a",
   "metadata": {},
   "outputs": [
    {
     "data": {
      "text/html": [
       "<div>\n",
       "<style scoped>\n",
       "    .dataframe tbody tr th:only-of-type {\n",
       "        vertical-align: middle;\n",
       "    }\n",
       "\n",
       "    .dataframe tbody tr th {\n",
       "        vertical-align: top;\n",
       "    }\n",
       "\n",
       "    .dataframe thead th {\n",
       "        text-align: right;\n",
       "    }\n",
       "</style>\n",
       "<table border=\"1\" class=\"dataframe\">\n",
       "  <thead>\n",
       "    <tr style=\"text-align: right;\">\n",
       "      <th></th>\n",
       "      <th>ProdTaken</th>\n",
       "      <th>Age</th>\n",
       "      <th>TypeofContact</th>\n",
       "      <th>CityTier</th>\n",
       "      <th>DurationOfPitch</th>\n",
       "      <th>Occupation</th>\n",
       "      <th>Gender</th>\n",
       "      <th>NumberOfPersonVisiting</th>\n",
       "      <th>NumberOfFollowups</th>\n",
       "      <th>ProductPitched</th>\n",
       "      <th>PreferredPropertyStar</th>\n",
       "      <th>MaritalStatus</th>\n",
       "      <th>NumberOfTrips</th>\n",
       "      <th>Passport</th>\n",
       "      <th>PitchSatisfactionScore</th>\n",
       "      <th>OwnCar</th>\n",
       "      <th>NumberOfChildrenVisiting</th>\n",
       "      <th>Designation</th>\n",
       "      <th>MonthlyIncome</th>\n",
       "    </tr>\n",
       "  </thead>\n",
       "  <tbody>\n",
       "    <tr>\n",
       "      <th>0</th>\n",
       "      <td>1</td>\n",
       "      <td>41.0</td>\n",
       "      <td>Self Enquiry</td>\n",
       "      <td>3</td>\n",
       "      <td>6.0</td>\n",
       "      <td>Salaried</td>\n",
       "      <td>Female</td>\n",
       "      <td>3</td>\n",
       "      <td>3.0</td>\n",
       "      <td>Deluxe</td>\n",
       "      <td>3.0</td>\n",
       "      <td>Single</td>\n",
       "      <td>1.0</td>\n",
       "      <td>1</td>\n",
       "      <td>2</td>\n",
       "      <td>1</td>\n",
       "      <td>0.0</td>\n",
       "      <td>Manager</td>\n",
       "      <td>20993.0</td>\n",
       "    </tr>\n",
       "    <tr>\n",
       "      <th>1</th>\n",
       "      <td>0</td>\n",
       "      <td>49.0</td>\n",
       "      <td>Company Invited</td>\n",
       "      <td>1</td>\n",
       "      <td>14.0</td>\n",
       "      <td>Salaried</td>\n",
       "      <td>Male</td>\n",
       "      <td>3</td>\n",
       "      <td>4.0</td>\n",
       "      <td>Deluxe</td>\n",
       "      <td>4.0</td>\n",
       "      <td>Divorced</td>\n",
       "      <td>2.0</td>\n",
       "      <td>0</td>\n",
       "      <td>3</td>\n",
       "      <td>1</td>\n",
       "      <td>2.0</td>\n",
       "      <td>Manager</td>\n",
       "      <td>20130.0</td>\n",
       "    </tr>\n",
       "    <tr>\n",
       "      <th>2</th>\n",
       "      <td>1</td>\n",
       "      <td>37.0</td>\n",
       "      <td>Self Enquiry</td>\n",
       "      <td>1</td>\n",
       "      <td>8.0</td>\n",
       "      <td>Free Lancer</td>\n",
       "      <td>Male</td>\n",
       "      <td>3</td>\n",
       "      <td>4.0</td>\n",
       "      <td>Basic</td>\n",
       "      <td>3.0</td>\n",
       "      <td>Single</td>\n",
       "      <td>7.0</td>\n",
       "      <td>1</td>\n",
       "      <td>3</td>\n",
       "      <td>0</td>\n",
       "      <td>0.0</td>\n",
       "      <td>Executive</td>\n",
       "      <td>17090.0</td>\n",
       "    </tr>\n",
       "    <tr>\n",
       "      <th>3</th>\n",
       "      <td>0</td>\n",
       "      <td>33.0</td>\n",
       "      <td>Company Invited</td>\n",
       "      <td>1</td>\n",
       "      <td>9.0</td>\n",
       "      <td>Salaried</td>\n",
       "      <td>Female</td>\n",
       "      <td>2</td>\n",
       "      <td>3.0</td>\n",
       "      <td>Basic</td>\n",
       "      <td>3.0</td>\n",
       "      <td>Divorced</td>\n",
       "      <td>2.0</td>\n",
       "      <td>1</td>\n",
       "      <td>5</td>\n",
       "      <td>1</td>\n",
       "      <td>1.0</td>\n",
       "      <td>Executive</td>\n",
       "      <td>17909.0</td>\n",
       "    </tr>\n",
       "    <tr>\n",
       "      <th>4</th>\n",
       "      <td>0</td>\n",
       "      <td>NaN</td>\n",
       "      <td>Self Enquiry</td>\n",
       "      <td>1</td>\n",
       "      <td>8.0</td>\n",
       "      <td>Small Business</td>\n",
       "      <td>Male</td>\n",
       "      <td>2</td>\n",
       "      <td>3.0</td>\n",
       "      <td>Basic</td>\n",
       "      <td>4.0</td>\n",
       "      <td>Divorced</td>\n",
       "      <td>1.0</td>\n",
       "      <td>0</td>\n",
       "      <td>5</td>\n",
       "      <td>1</td>\n",
       "      <td>0.0</td>\n",
       "      <td>Executive</td>\n",
       "      <td>18468.0</td>\n",
       "    </tr>\n",
       "  </tbody>\n",
       "</table>\n",
       "</div>"
      ],
      "text/plain": [
       "   ProdTaken   Age    TypeofContact  CityTier  DurationOfPitch  \\\n",
       "0          1  41.0     Self Enquiry         3              6.0   \n",
       "1          0  49.0  Company Invited         1             14.0   \n",
       "2          1  37.0     Self Enquiry         1              8.0   \n",
       "3          0  33.0  Company Invited         1              9.0   \n",
       "4          0   NaN     Self Enquiry         1              8.0   \n",
       "\n",
       "       Occupation  Gender  NumberOfPersonVisiting  NumberOfFollowups  \\\n",
       "0        Salaried  Female                       3                3.0   \n",
       "1        Salaried    Male                       3                4.0   \n",
       "2     Free Lancer    Male                       3                4.0   \n",
       "3        Salaried  Female                       2                3.0   \n",
       "4  Small Business    Male                       2                3.0   \n",
       "\n",
       "  ProductPitched  PreferredPropertyStar MaritalStatus  NumberOfTrips  \\\n",
       "0         Deluxe                    3.0        Single            1.0   \n",
       "1         Deluxe                    4.0      Divorced            2.0   \n",
       "2          Basic                    3.0        Single            7.0   \n",
       "3          Basic                    3.0      Divorced            2.0   \n",
       "4          Basic                    4.0      Divorced            1.0   \n",
       "\n",
       "   Passport  PitchSatisfactionScore  OwnCar  NumberOfChildrenVisiting  \\\n",
       "0         1                       2       1                       0.0   \n",
       "1         0                       3       1                       2.0   \n",
       "2         1                       3       0                       0.0   \n",
       "3         1                       5       1                       1.0   \n",
       "4         0                       5       1                       0.0   \n",
       "\n",
       "  Designation  MonthlyIncome  \n",
       "0     Manager        20993.0  \n",
       "1     Manager        20130.0  \n",
       "2   Executive        17090.0  \n",
       "3   Executive        17909.0  \n",
       "4   Executive        18468.0  "
      ]
     },
     "execution_count": 6,
     "metadata": {},
     "output_type": "execute_result"
    }
   ],
   "source": [
    "data.head()"
   ]
  },
  {
   "cell_type": "markdown",
   "id": "7eec92e7",
   "metadata": {},
   "source": [
    "as we know from eda part we need to handle some feature engineering on the columns which have different values"
   ]
  },
  {
   "cell_type": "code",
   "execution_count": 7,
   "id": "c0223cda",
   "metadata": {},
   "outputs": [],
   "source": [
    "data[\"Gender\"]=np.where(data[\"Gender\"]==\"Fe Male\",\"Female\",data[\"Gender\"])\n",
    "data[\"MaritalStatus\"]=np.where(data[\"MaritalStatus\"]==\"Single\",\"Unmarried\",data[\"MaritalStatus\"])"
   ]
  },
  {
   "cell_type": "code",
   "execution_count": 8,
   "id": "58300f7f",
   "metadata": {},
   "outputs": [
    {
     "data": {
      "text/plain": [
       "0       1\n",
       "1       0\n",
       "2       1\n",
       "3       0\n",
       "4       0\n",
       "       ..\n",
       "4883    1\n",
       "4884    1\n",
       "4885    1\n",
       "4886    1\n",
       "4887    1\n",
       "Name: ProdTaken, Length: 4888, dtype: int64"
      ]
     },
     "execution_count": 8,
     "metadata": {},
     "output_type": "execute_result"
    }
   ],
   "source": [
    "y=data[\"ProdTaken\"]\n",
    "y"
   ]
  },
  {
   "cell_type": "code",
   "execution_count": 9,
   "id": "485e8510",
   "metadata": {},
   "outputs": [
    {
     "data": {
      "text/plain": [
       "(4888,)"
      ]
     },
     "execution_count": 9,
     "metadata": {},
     "output_type": "execute_result"
    }
   ],
   "source": [
    "y.shape"
   ]
  },
  {
   "cell_type": "code",
   "execution_count": 10,
   "id": "92eff6f6",
   "metadata": {},
   "outputs": [],
   "source": [
    "x=data.drop(\"ProdTaken\",axis=1)"
   ]
  },
  {
   "cell_type": "code",
   "execution_count": 11,
   "id": "d53a3e91",
   "metadata": {},
   "outputs": [
    {
     "data": {
      "text/plain": [
       "(4888, 18)"
      ]
     },
     "execution_count": 11,
     "metadata": {},
     "output_type": "execute_result"
    }
   ],
   "source": [
    "x.shape"
   ]
  },
  {
   "cell_type": "code",
   "execution_count": 12,
   "id": "5dabadbc",
   "metadata": {},
   "outputs": [
    {
     "data": {
      "text/plain": [
       "Index(['Age', 'TypeofContact', 'CityTier', 'DurationOfPitch', 'Occupation',\n",
       "       'Gender', 'NumberOfPersonVisiting', 'NumberOfFollowups',\n",
       "       'ProductPitched', 'PreferredPropertyStar', 'MaritalStatus',\n",
       "       'NumberOfTrips', 'Passport', 'PitchSatisfactionScore', 'OwnCar',\n",
       "       'NumberOfChildrenVisiting', 'Designation', 'MonthlyIncome'],\n",
       "      dtype='object')"
      ]
     },
     "execution_count": 12,
     "metadata": {},
     "output_type": "execute_result"
    }
   ],
   "source": [
    "column_names=x.columns\n",
    "column_names"
   ]
  },
  {
   "cell_type": "code",
   "execution_count": 13,
   "id": "d938e8be",
   "metadata": {},
   "outputs": [],
   "source": [
    "x_train, x_test, y_train, y_test = train_test_split(x, y, test_size=0.33, random_state=42)"
   ]
  },
  {
   "cell_type": "code",
   "execution_count": 14,
   "id": "dbbe5187",
   "metadata": {},
   "outputs": [
    {
     "data": {
      "text/html": [
       "<div>\n",
       "<style scoped>\n",
       "    .dataframe tbody tr th:only-of-type {\n",
       "        vertical-align: middle;\n",
       "    }\n",
       "\n",
       "    .dataframe tbody tr th {\n",
       "        vertical-align: top;\n",
       "    }\n",
       "\n",
       "    .dataframe thead th {\n",
       "        text-align: right;\n",
       "    }\n",
       "</style>\n",
       "<table border=\"1\" class=\"dataframe\">\n",
       "  <thead>\n",
       "    <tr style=\"text-align: right;\">\n",
       "      <th></th>\n",
       "      <th>Age</th>\n",
       "      <th>TypeofContact</th>\n",
       "      <th>CityTier</th>\n",
       "      <th>DurationOfPitch</th>\n",
       "      <th>Occupation</th>\n",
       "      <th>Gender</th>\n",
       "      <th>NumberOfPersonVisiting</th>\n",
       "      <th>NumberOfFollowups</th>\n",
       "      <th>ProductPitched</th>\n",
       "      <th>PreferredPropertyStar</th>\n",
       "      <th>MaritalStatus</th>\n",
       "      <th>NumberOfTrips</th>\n",
       "      <th>Passport</th>\n",
       "      <th>PitchSatisfactionScore</th>\n",
       "      <th>OwnCar</th>\n",
       "      <th>NumberOfChildrenVisiting</th>\n",
       "      <th>Designation</th>\n",
       "      <th>MonthlyIncome</th>\n",
       "    </tr>\n",
       "  </thead>\n",
       "  <tbody>\n",
       "    <tr>\n",
       "      <th>2962</th>\n",
       "      <td>39.0</td>\n",
       "      <td>Self Enquiry</td>\n",
       "      <td>3</td>\n",
       "      <td>14.0</td>\n",
       "      <td>Small Business</td>\n",
       "      <td>Female</td>\n",
       "      <td>3</td>\n",
       "      <td>5.0</td>\n",
       "      <td>Deluxe</td>\n",
       "      <td>3.0</td>\n",
       "      <td>Unmarried</td>\n",
       "      <td>2.0</td>\n",
       "      <td>0</td>\n",
       "      <td>2</td>\n",
       "      <td>1</td>\n",
       "      <td>2.0</td>\n",
       "      <td>Manager</td>\n",
       "      <td>22706.0</td>\n",
       "    </tr>\n",
       "    <tr>\n",
       "      <th>1788</th>\n",
       "      <td>27.0</td>\n",
       "      <td>Self Enquiry</td>\n",
       "      <td>1</td>\n",
       "      <td>11.0</td>\n",
       "      <td>Salaried</td>\n",
       "      <td>Female</td>\n",
       "      <td>2</td>\n",
       "      <td>3.0</td>\n",
       "      <td>Basic</td>\n",
       "      <td>4.0</td>\n",
       "      <td>Unmarried</td>\n",
       "      <td>2.0</td>\n",
       "      <td>1</td>\n",
       "      <td>3</td>\n",
       "      <td>0</td>\n",
       "      <td>1.0</td>\n",
       "      <td>Executive</td>\n",
       "      <td>17478.0</td>\n",
       "    </tr>\n",
       "    <tr>\n",
       "      <th>3499</th>\n",
       "      <td>35.0</td>\n",
       "      <td>Company Invited</td>\n",
       "      <td>1</td>\n",
       "      <td>22.0</td>\n",
       "      <td>Small Business</td>\n",
       "      <td>Male</td>\n",
       "      <td>4</td>\n",
       "      <td>4.0</td>\n",
       "      <td>Super Deluxe</td>\n",
       "      <td>5.0</td>\n",
       "      <td>Married</td>\n",
       "      <td>NaN</td>\n",
       "      <td>0</td>\n",
       "      <td>4</td>\n",
       "      <td>1</td>\n",
       "      <td>3.0</td>\n",
       "      <td>AVP</td>\n",
       "      <td>35685.0</td>\n",
       "    </tr>\n",
       "    <tr>\n",
       "      <th>3173</th>\n",
       "      <td>36.0</td>\n",
       "      <td>Self Enquiry</td>\n",
       "      <td>1</td>\n",
       "      <td>32.0</td>\n",
       "      <td>Small Business</td>\n",
       "      <td>Female</td>\n",
       "      <td>3</td>\n",
       "      <td>4.0</td>\n",
       "      <td>Standard</td>\n",
       "      <td>3.0</td>\n",
       "      <td>Married</td>\n",
       "      <td>3.0</td>\n",
       "      <td>1</td>\n",
       "      <td>3</td>\n",
       "      <td>1</td>\n",
       "      <td>2.0</td>\n",
       "      <td>Senior Manager</td>\n",
       "      <td>29066.0</td>\n",
       "    </tr>\n",
       "    <tr>\n",
       "      <th>3126</th>\n",
       "      <td>33.0</td>\n",
       "      <td>Company Invited</td>\n",
       "      <td>1</td>\n",
       "      <td>7.0</td>\n",
       "      <td>Salaried</td>\n",
       "      <td>Female</td>\n",
       "      <td>4</td>\n",
       "      <td>5.0</td>\n",
       "      <td>Basic</td>\n",
       "      <td>4.0</td>\n",
       "      <td>Divorced</td>\n",
       "      <td>8.0</td>\n",
       "      <td>0</td>\n",
       "      <td>3</td>\n",
       "      <td>1</td>\n",
       "      <td>1.0</td>\n",
       "      <td>Executive</td>\n",
       "      <td>21010.0</td>\n",
       "    </tr>\n",
       "    <tr>\n",
       "      <th>...</th>\n",
       "      <td>...</td>\n",
       "      <td>...</td>\n",
       "      <td>...</td>\n",
       "      <td>...</td>\n",
       "      <td>...</td>\n",
       "      <td>...</td>\n",
       "      <td>...</td>\n",
       "      <td>...</td>\n",
       "      <td>...</td>\n",
       "      <td>...</td>\n",
       "      <td>...</td>\n",
       "      <td>...</td>\n",
       "      <td>...</td>\n",
       "      <td>...</td>\n",
       "      <td>...</td>\n",
       "      <td>...</td>\n",
       "      <td>...</td>\n",
       "      <td>...</td>\n",
       "    </tr>\n",
       "    <tr>\n",
       "      <th>4426</th>\n",
       "      <td>28.0</td>\n",
       "      <td>Self Enquiry</td>\n",
       "      <td>1</td>\n",
       "      <td>10.0</td>\n",
       "      <td>Small Business</td>\n",
       "      <td>Male</td>\n",
       "      <td>3</td>\n",
       "      <td>5.0</td>\n",
       "      <td>Basic</td>\n",
       "      <td>3.0</td>\n",
       "      <td>Unmarried</td>\n",
       "      <td>2.0</td>\n",
       "      <td>0</td>\n",
       "      <td>1</td>\n",
       "      <td>1</td>\n",
       "      <td>2.0</td>\n",
       "      <td>Executive</td>\n",
       "      <td>20723.0</td>\n",
       "    </tr>\n",
       "    <tr>\n",
       "      <th>466</th>\n",
       "      <td>41.0</td>\n",
       "      <td>Self Enquiry</td>\n",
       "      <td>3</td>\n",
       "      <td>8.0</td>\n",
       "      <td>Salaried</td>\n",
       "      <td>Female</td>\n",
       "      <td>3</td>\n",
       "      <td>3.0</td>\n",
       "      <td>Super Deluxe</td>\n",
       "      <td>5.0</td>\n",
       "      <td>Divorced</td>\n",
       "      <td>1.0</td>\n",
       "      <td>0</td>\n",
       "      <td>5</td>\n",
       "      <td>1</td>\n",
       "      <td>1.0</td>\n",
       "      <td>AVP</td>\n",
       "      <td>31595.0</td>\n",
       "    </tr>\n",
       "    <tr>\n",
       "      <th>3092</th>\n",
       "      <td>38.0</td>\n",
       "      <td>Company Invited</td>\n",
       "      <td>3</td>\n",
       "      <td>28.0</td>\n",
       "      <td>Small Business</td>\n",
       "      <td>Female</td>\n",
       "      <td>3</td>\n",
       "      <td>4.0</td>\n",
       "      <td>Basic</td>\n",
       "      <td>3.0</td>\n",
       "      <td>Divorced</td>\n",
       "      <td>7.0</td>\n",
       "      <td>0</td>\n",
       "      <td>2</td>\n",
       "      <td>1</td>\n",
       "      <td>2.0</td>\n",
       "      <td>Executive</td>\n",
       "      <td>21651.0</td>\n",
       "    </tr>\n",
       "    <tr>\n",
       "      <th>3772</th>\n",
       "      <td>28.0</td>\n",
       "      <td>Self Enquiry</td>\n",
       "      <td>3</td>\n",
       "      <td>30.0</td>\n",
       "      <td>Small Business</td>\n",
       "      <td>Female</td>\n",
       "      <td>3</td>\n",
       "      <td>5.0</td>\n",
       "      <td>Deluxe</td>\n",
       "      <td>3.0</td>\n",
       "      <td>Married</td>\n",
       "      <td>3.0</td>\n",
       "      <td>0</td>\n",
       "      <td>1</td>\n",
       "      <td>1</td>\n",
       "      <td>2.0</td>\n",
       "      <td>Manager</td>\n",
       "      <td>22218.0</td>\n",
       "    </tr>\n",
       "    <tr>\n",
       "      <th>860</th>\n",
       "      <td>22.0</td>\n",
       "      <td>Company Invited</td>\n",
       "      <td>1</td>\n",
       "      <td>9.0</td>\n",
       "      <td>Salaried</td>\n",
       "      <td>Male</td>\n",
       "      <td>2</td>\n",
       "      <td>4.0</td>\n",
       "      <td>Basic</td>\n",
       "      <td>3.0</td>\n",
       "      <td>Divorced</td>\n",
       "      <td>1.0</td>\n",
       "      <td>1</td>\n",
       "      <td>3</td>\n",
       "      <td>0</td>\n",
       "      <td>0.0</td>\n",
       "      <td>Executive</td>\n",
       "      <td>17853.0</td>\n",
       "    </tr>\n",
       "  </tbody>\n",
       "</table>\n",
       "<p>3274 rows × 18 columns</p>\n",
       "</div>"
      ],
      "text/plain": [
       "       Age    TypeofContact  CityTier  DurationOfPitch      Occupation  \\\n",
       "2962  39.0     Self Enquiry         3             14.0  Small Business   \n",
       "1788  27.0     Self Enquiry         1             11.0        Salaried   \n",
       "3499  35.0  Company Invited         1             22.0  Small Business   \n",
       "3173  36.0     Self Enquiry         1             32.0  Small Business   \n",
       "3126  33.0  Company Invited         1              7.0        Salaried   \n",
       "...    ...              ...       ...              ...             ...   \n",
       "4426  28.0     Self Enquiry         1             10.0  Small Business   \n",
       "466   41.0     Self Enquiry         3              8.0        Salaried   \n",
       "3092  38.0  Company Invited         3             28.0  Small Business   \n",
       "3772  28.0     Self Enquiry         3             30.0  Small Business   \n",
       "860   22.0  Company Invited         1              9.0        Salaried   \n",
       "\n",
       "      Gender  NumberOfPersonVisiting  NumberOfFollowups ProductPitched  \\\n",
       "2962  Female                       3                5.0         Deluxe   \n",
       "1788  Female                       2                3.0          Basic   \n",
       "3499    Male                       4                4.0   Super Deluxe   \n",
       "3173  Female                       3                4.0       Standard   \n",
       "3126  Female                       4                5.0          Basic   \n",
       "...      ...                     ...                ...            ...   \n",
       "4426    Male                       3                5.0          Basic   \n",
       "466   Female                       3                3.0   Super Deluxe   \n",
       "3092  Female                       3                4.0          Basic   \n",
       "3772  Female                       3                5.0         Deluxe   \n",
       "860     Male                       2                4.0          Basic   \n",
       "\n",
       "      PreferredPropertyStar MaritalStatus  NumberOfTrips  Passport  \\\n",
       "2962                    3.0     Unmarried            2.0         0   \n",
       "1788                    4.0     Unmarried            2.0         1   \n",
       "3499                    5.0       Married            NaN         0   \n",
       "3173                    3.0       Married            3.0         1   \n",
       "3126                    4.0      Divorced            8.0         0   \n",
       "...                     ...           ...            ...       ...   \n",
       "4426                    3.0     Unmarried            2.0         0   \n",
       "466                     5.0      Divorced            1.0         0   \n",
       "3092                    3.0      Divorced            7.0         0   \n",
       "3772                    3.0       Married            3.0         0   \n",
       "860                     3.0      Divorced            1.0         1   \n",
       "\n",
       "      PitchSatisfactionScore  OwnCar  NumberOfChildrenVisiting  \\\n",
       "2962                       2       1                       2.0   \n",
       "1788                       3       0                       1.0   \n",
       "3499                       4       1                       3.0   \n",
       "3173                       3       1                       2.0   \n",
       "3126                       3       1                       1.0   \n",
       "...                      ...     ...                       ...   \n",
       "4426                       1       1                       2.0   \n",
       "466                        5       1                       1.0   \n",
       "3092                       2       1                       2.0   \n",
       "3772                       1       1                       2.0   \n",
       "860                        3       0                       0.0   \n",
       "\n",
       "         Designation  MonthlyIncome  \n",
       "2962         Manager        22706.0  \n",
       "1788       Executive        17478.0  \n",
       "3499             AVP        35685.0  \n",
       "3173  Senior Manager        29066.0  \n",
       "3126       Executive        21010.0  \n",
       "...              ...            ...  \n",
       "4426       Executive        20723.0  \n",
       "466              AVP        31595.0  \n",
       "3092       Executive        21651.0  \n",
       "3772         Manager        22218.0  \n",
       "860        Executive        17853.0  \n",
       "\n",
       "[3274 rows x 18 columns]"
      ]
     },
     "execution_count": 14,
     "metadata": {},
     "output_type": "execute_result"
    }
   ],
   "source": [
    "x_train"
   ]
  },
  {
   "cell_type": "code",
   "execution_count": 15,
   "id": "f649b527",
   "metadata": {},
   "outputs": [],
   "source": [
    "num_features=x_train.select_dtypes([float,int]).columns\n",
    "cat_features=x_train.select_dtypes(object).columns"
   ]
  },
  {
   "cell_type": "code",
   "execution_count": 16,
   "id": "e25acfa0",
   "metadata": {},
   "outputs": [
    {
     "data": {
      "text/plain": [
       "Index(['Age', 'CityTier', 'DurationOfPitch', 'NumberOfPersonVisiting',\n",
       "       'NumberOfFollowups', 'PreferredPropertyStar', 'NumberOfTrips',\n",
       "       'Passport', 'PitchSatisfactionScore', 'OwnCar',\n",
       "       'NumberOfChildrenVisiting', 'MonthlyIncome'],\n",
       "      dtype='object')"
      ]
     },
     "execution_count": 16,
     "metadata": {},
     "output_type": "execute_result"
    }
   ],
   "source": [
    "num_features"
   ]
  },
  {
   "cell_type": "code",
   "execution_count": 17,
   "id": "c2a3bc57",
   "metadata": {},
   "outputs": [
    {
     "data": {
      "text/plain": [
       "Index(['TypeofContact', 'Occupation', 'Gender', 'ProductPitched',\n",
       "       'MaritalStatus', 'Designation'],\n",
       "      dtype='object')"
      ]
     },
     "execution_count": 17,
     "metadata": {},
     "output_type": "execute_result"
    }
   ],
   "source": [
    "cat_features"
   ]
  },
  {
   "cell_type": "code",
   "execution_count": 18,
   "id": "61af1877",
   "metadata": {},
   "outputs": [],
   "source": [
    "num_pipeline=Pipeline(steps=[\n",
    "    (\"Imputer\",SimpleImputer(strategy=\"mean\")),\n",
    "    (\"Scaling\",StandardScaler())\n",
    "])"
   ]
  },
  {
   "cell_type": "code",
   "execution_count": 19,
   "id": "22aaaadc",
   "metadata": {},
   "outputs": [
    {
     "data": {
      "text/html": [
       "<style>#sk-container-id-1 {color: black;background-color: white;}#sk-container-id-1 pre{padding: 0;}#sk-container-id-1 div.sk-toggleable {background-color: white;}#sk-container-id-1 label.sk-toggleable__label {cursor: pointer;display: block;width: 100%;margin-bottom: 0;padding: 0.3em;box-sizing: border-box;text-align: center;}#sk-container-id-1 label.sk-toggleable__label-arrow:before {content: \"▸\";float: left;margin-right: 0.25em;color: #696969;}#sk-container-id-1 label.sk-toggleable__label-arrow:hover:before {color: black;}#sk-container-id-1 div.sk-estimator:hover label.sk-toggleable__label-arrow:before {color: black;}#sk-container-id-1 div.sk-toggleable__content {max-height: 0;max-width: 0;overflow: hidden;text-align: left;background-color: #f0f8ff;}#sk-container-id-1 div.sk-toggleable__content pre {margin: 0.2em;color: black;border-radius: 0.25em;background-color: #f0f8ff;}#sk-container-id-1 input.sk-toggleable__control:checked~div.sk-toggleable__content {max-height: 200px;max-width: 100%;overflow: auto;}#sk-container-id-1 input.sk-toggleable__control:checked~label.sk-toggleable__label-arrow:before {content: \"▾\";}#sk-container-id-1 div.sk-estimator input.sk-toggleable__control:checked~label.sk-toggleable__label {background-color: #d4ebff;}#sk-container-id-1 div.sk-label input.sk-toggleable__control:checked~label.sk-toggleable__label {background-color: #d4ebff;}#sk-container-id-1 input.sk-hidden--visually {border: 0;clip: rect(1px 1px 1px 1px);clip: rect(1px, 1px, 1px, 1px);height: 1px;margin: -1px;overflow: hidden;padding: 0;position: absolute;width: 1px;}#sk-container-id-1 div.sk-estimator {font-family: monospace;background-color: #f0f8ff;border: 1px dotted black;border-radius: 0.25em;box-sizing: border-box;margin-bottom: 0.5em;}#sk-container-id-1 div.sk-estimator:hover {background-color: #d4ebff;}#sk-container-id-1 div.sk-parallel-item::after {content: \"\";width: 100%;border-bottom: 1px solid gray;flex-grow: 1;}#sk-container-id-1 div.sk-label:hover label.sk-toggleable__label {background-color: #d4ebff;}#sk-container-id-1 div.sk-serial::before {content: \"\";position: absolute;border-left: 1px solid gray;box-sizing: border-box;top: 0;bottom: 0;left: 50%;z-index: 0;}#sk-container-id-1 div.sk-serial {display: flex;flex-direction: column;align-items: center;background-color: white;padding-right: 0.2em;padding-left: 0.2em;position: relative;}#sk-container-id-1 div.sk-item {position: relative;z-index: 1;}#sk-container-id-1 div.sk-parallel {display: flex;align-items: stretch;justify-content: center;background-color: white;position: relative;}#sk-container-id-1 div.sk-item::before, #sk-container-id-1 div.sk-parallel-item::before {content: \"\";position: absolute;border-left: 1px solid gray;box-sizing: border-box;top: 0;bottom: 0;left: 50%;z-index: -1;}#sk-container-id-1 div.sk-parallel-item {display: flex;flex-direction: column;z-index: 1;position: relative;background-color: white;}#sk-container-id-1 div.sk-parallel-item:first-child::after {align-self: flex-end;width: 50%;}#sk-container-id-1 div.sk-parallel-item:last-child::after {align-self: flex-start;width: 50%;}#sk-container-id-1 div.sk-parallel-item:only-child::after {width: 0;}#sk-container-id-1 div.sk-dashed-wrapped {border: 1px dashed gray;margin: 0 0.4em 0.5em 0.4em;box-sizing: border-box;padding-bottom: 0.4em;background-color: white;}#sk-container-id-1 div.sk-label label {font-family: monospace;font-weight: bold;display: inline-block;line-height: 1.2em;}#sk-container-id-1 div.sk-label-container {text-align: center;}#sk-container-id-1 div.sk-container {/* jupyter's `normalize.less` sets `[hidden] { display: none; }` but bootstrap.min.css set `[hidden] { display: none !important; }` so we also need the `!important` here to be able to override the default hidden behavior on the sphinx rendered scikit-learn.org. See: https://github.com/scikit-learn/scikit-learn/issues/21755 */display: inline-block !important;position: relative;}#sk-container-id-1 div.sk-text-repr-fallback {display: none;}</style><div id=\"sk-container-id-1\" class=\"sk-top-container\"><div class=\"sk-text-repr-fallback\"><pre>Pipeline(steps=[(&#x27;Imputer&#x27;, SimpleImputer()), (&#x27;Scaling&#x27;, StandardScaler())])</pre><b>In a Jupyter environment, please rerun this cell to show the HTML representation or trust the notebook. <br />On GitHub, the HTML representation is unable to render, please try loading this page with nbviewer.org.</b></div><div class=\"sk-container\" hidden><div class=\"sk-item sk-dashed-wrapped\"><div class=\"sk-label-container\"><div class=\"sk-label sk-toggleable\"><input class=\"sk-toggleable__control sk-hidden--visually\" id=\"sk-estimator-id-1\" type=\"checkbox\" ><label for=\"sk-estimator-id-1\" class=\"sk-toggleable__label sk-toggleable__label-arrow\">Pipeline</label><div class=\"sk-toggleable__content\"><pre>Pipeline(steps=[(&#x27;Imputer&#x27;, SimpleImputer()), (&#x27;Scaling&#x27;, StandardScaler())])</pre></div></div></div><div class=\"sk-serial\"><div class=\"sk-item\"><div class=\"sk-estimator sk-toggleable\"><input class=\"sk-toggleable__control sk-hidden--visually\" id=\"sk-estimator-id-2\" type=\"checkbox\" ><label for=\"sk-estimator-id-2\" class=\"sk-toggleable__label sk-toggleable__label-arrow\">SimpleImputer</label><div class=\"sk-toggleable__content\"><pre>SimpleImputer()</pre></div></div></div><div class=\"sk-item\"><div class=\"sk-estimator sk-toggleable\"><input class=\"sk-toggleable__control sk-hidden--visually\" id=\"sk-estimator-id-3\" type=\"checkbox\" ><label for=\"sk-estimator-id-3\" class=\"sk-toggleable__label sk-toggleable__label-arrow\">StandardScaler</label><div class=\"sk-toggleable__content\"><pre>StandardScaler()</pre></div></div></div></div></div></div></div>"
      ],
      "text/plain": [
       "Pipeline(steps=[('Imputer', SimpleImputer()), ('Scaling', StandardScaler())])"
      ]
     },
     "execution_count": 19,
     "metadata": {},
     "output_type": "execute_result"
    }
   ],
   "source": [
    "num_pipeline"
   ]
  },
  {
   "cell_type": "code",
   "execution_count": 20,
   "id": "f0acc106",
   "metadata": {},
   "outputs": [],
   "source": [
    "cat_pipeline=Pipeline(steps=[\n",
    "    (\"imputing\",SimpleImputer(strategy=\"most_frequent\")),\n",
    "    (\"Encoding\",OneHotEncoder())\n",
    "])"
   ]
  },
  {
   "cell_type": "code",
   "execution_count": 21,
   "id": "92b9e137",
   "metadata": {},
   "outputs": [
    {
     "data": {
      "text/html": [
       "<style>#sk-container-id-2 {color: black;background-color: white;}#sk-container-id-2 pre{padding: 0;}#sk-container-id-2 div.sk-toggleable {background-color: white;}#sk-container-id-2 label.sk-toggleable__label {cursor: pointer;display: block;width: 100%;margin-bottom: 0;padding: 0.3em;box-sizing: border-box;text-align: center;}#sk-container-id-2 label.sk-toggleable__label-arrow:before {content: \"▸\";float: left;margin-right: 0.25em;color: #696969;}#sk-container-id-2 label.sk-toggleable__label-arrow:hover:before {color: black;}#sk-container-id-2 div.sk-estimator:hover label.sk-toggleable__label-arrow:before {color: black;}#sk-container-id-2 div.sk-toggleable__content {max-height: 0;max-width: 0;overflow: hidden;text-align: left;background-color: #f0f8ff;}#sk-container-id-2 div.sk-toggleable__content pre {margin: 0.2em;color: black;border-radius: 0.25em;background-color: #f0f8ff;}#sk-container-id-2 input.sk-toggleable__control:checked~div.sk-toggleable__content {max-height: 200px;max-width: 100%;overflow: auto;}#sk-container-id-2 input.sk-toggleable__control:checked~label.sk-toggleable__label-arrow:before {content: \"▾\";}#sk-container-id-2 div.sk-estimator input.sk-toggleable__control:checked~label.sk-toggleable__label {background-color: #d4ebff;}#sk-container-id-2 div.sk-label input.sk-toggleable__control:checked~label.sk-toggleable__label {background-color: #d4ebff;}#sk-container-id-2 input.sk-hidden--visually {border: 0;clip: rect(1px 1px 1px 1px);clip: rect(1px, 1px, 1px, 1px);height: 1px;margin: -1px;overflow: hidden;padding: 0;position: absolute;width: 1px;}#sk-container-id-2 div.sk-estimator {font-family: monospace;background-color: #f0f8ff;border: 1px dotted black;border-radius: 0.25em;box-sizing: border-box;margin-bottom: 0.5em;}#sk-container-id-2 div.sk-estimator:hover {background-color: #d4ebff;}#sk-container-id-2 div.sk-parallel-item::after {content: \"\";width: 100%;border-bottom: 1px solid gray;flex-grow: 1;}#sk-container-id-2 div.sk-label:hover label.sk-toggleable__label {background-color: #d4ebff;}#sk-container-id-2 div.sk-serial::before {content: \"\";position: absolute;border-left: 1px solid gray;box-sizing: border-box;top: 0;bottom: 0;left: 50%;z-index: 0;}#sk-container-id-2 div.sk-serial {display: flex;flex-direction: column;align-items: center;background-color: white;padding-right: 0.2em;padding-left: 0.2em;position: relative;}#sk-container-id-2 div.sk-item {position: relative;z-index: 1;}#sk-container-id-2 div.sk-parallel {display: flex;align-items: stretch;justify-content: center;background-color: white;position: relative;}#sk-container-id-2 div.sk-item::before, #sk-container-id-2 div.sk-parallel-item::before {content: \"\";position: absolute;border-left: 1px solid gray;box-sizing: border-box;top: 0;bottom: 0;left: 50%;z-index: -1;}#sk-container-id-2 div.sk-parallel-item {display: flex;flex-direction: column;z-index: 1;position: relative;background-color: white;}#sk-container-id-2 div.sk-parallel-item:first-child::after {align-self: flex-end;width: 50%;}#sk-container-id-2 div.sk-parallel-item:last-child::after {align-self: flex-start;width: 50%;}#sk-container-id-2 div.sk-parallel-item:only-child::after {width: 0;}#sk-container-id-2 div.sk-dashed-wrapped {border: 1px dashed gray;margin: 0 0.4em 0.5em 0.4em;box-sizing: border-box;padding-bottom: 0.4em;background-color: white;}#sk-container-id-2 div.sk-label label {font-family: monospace;font-weight: bold;display: inline-block;line-height: 1.2em;}#sk-container-id-2 div.sk-label-container {text-align: center;}#sk-container-id-2 div.sk-container {/* jupyter's `normalize.less` sets `[hidden] { display: none; }` but bootstrap.min.css set `[hidden] { display: none !important; }` so we also need the `!important` here to be able to override the default hidden behavior on the sphinx rendered scikit-learn.org. See: https://github.com/scikit-learn/scikit-learn/issues/21755 */display: inline-block !important;position: relative;}#sk-container-id-2 div.sk-text-repr-fallback {display: none;}</style><div id=\"sk-container-id-2\" class=\"sk-top-container\"><div class=\"sk-text-repr-fallback\"><pre>Pipeline(steps=[(&#x27;imputing&#x27;, SimpleImputer(strategy=&#x27;most_frequent&#x27;)),\n",
       "                (&#x27;Encoding&#x27;, OneHotEncoder())])</pre><b>In a Jupyter environment, please rerun this cell to show the HTML representation or trust the notebook. <br />On GitHub, the HTML representation is unable to render, please try loading this page with nbviewer.org.</b></div><div class=\"sk-container\" hidden><div class=\"sk-item sk-dashed-wrapped\"><div class=\"sk-label-container\"><div class=\"sk-label sk-toggleable\"><input class=\"sk-toggleable__control sk-hidden--visually\" id=\"sk-estimator-id-4\" type=\"checkbox\" ><label for=\"sk-estimator-id-4\" class=\"sk-toggleable__label sk-toggleable__label-arrow\">Pipeline</label><div class=\"sk-toggleable__content\"><pre>Pipeline(steps=[(&#x27;imputing&#x27;, SimpleImputer(strategy=&#x27;most_frequent&#x27;)),\n",
       "                (&#x27;Encoding&#x27;, OneHotEncoder())])</pre></div></div></div><div class=\"sk-serial\"><div class=\"sk-item\"><div class=\"sk-estimator sk-toggleable\"><input class=\"sk-toggleable__control sk-hidden--visually\" id=\"sk-estimator-id-5\" type=\"checkbox\" ><label for=\"sk-estimator-id-5\" class=\"sk-toggleable__label sk-toggleable__label-arrow\">SimpleImputer</label><div class=\"sk-toggleable__content\"><pre>SimpleImputer(strategy=&#x27;most_frequent&#x27;)</pre></div></div></div><div class=\"sk-item\"><div class=\"sk-estimator sk-toggleable\"><input class=\"sk-toggleable__control sk-hidden--visually\" id=\"sk-estimator-id-6\" type=\"checkbox\" ><label for=\"sk-estimator-id-6\" class=\"sk-toggleable__label sk-toggleable__label-arrow\">OneHotEncoder</label><div class=\"sk-toggleable__content\"><pre>OneHotEncoder()</pre></div></div></div></div></div></div></div>"
      ],
      "text/plain": [
       "Pipeline(steps=[('imputing', SimpleImputer(strategy='most_frequent')),\n",
       "                ('Encoding', OneHotEncoder())])"
      ]
     },
     "execution_count": 21,
     "metadata": {},
     "output_type": "execute_result"
    }
   ],
   "source": [
    "cat_pipeline"
   ]
  },
  {
   "cell_type": "code",
   "execution_count": 22,
   "id": "9a87ff6f",
   "metadata": {},
   "outputs": [],
   "source": [
    "preprocessor=ColumnTransformer([\n",
    "    (\"num_pipeline\",num_pipeline,num_features),\n",
    "    (\"cat_pipeline\",cat_pipeline,cat_features)\n",
    "])"
   ]
  },
  {
   "cell_type": "code",
   "execution_count": 23,
   "id": "198e5563",
   "metadata": {},
   "outputs": [
    {
     "data": {
      "text/html": [
       "<style>#sk-container-id-3 {color: black;background-color: white;}#sk-container-id-3 pre{padding: 0;}#sk-container-id-3 div.sk-toggleable {background-color: white;}#sk-container-id-3 label.sk-toggleable__label {cursor: pointer;display: block;width: 100%;margin-bottom: 0;padding: 0.3em;box-sizing: border-box;text-align: center;}#sk-container-id-3 label.sk-toggleable__label-arrow:before {content: \"▸\";float: left;margin-right: 0.25em;color: #696969;}#sk-container-id-3 label.sk-toggleable__label-arrow:hover:before {color: black;}#sk-container-id-3 div.sk-estimator:hover label.sk-toggleable__label-arrow:before {color: black;}#sk-container-id-3 div.sk-toggleable__content {max-height: 0;max-width: 0;overflow: hidden;text-align: left;background-color: #f0f8ff;}#sk-container-id-3 div.sk-toggleable__content pre {margin: 0.2em;color: black;border-radius: 0.25em;background-color: #f0f8ff;}#sk-container-id-3 input.sk-toggleable__control:checked~div.sk-toggleable__content {max-height: 200px;max-width: 100%;overflow: auto;}#sk-container-id-3 input.sk-toggleable__control:checked~label.sk-toggleable__label-arrow:before {content: \"▾\";}#sk-container-id-3 div.sk-estimator input.sk-toggleable__control:checked~label.sk-toggleable__label {background-color: #d4ebff;}#sk-container-id-3 div.sk-label input.sk-toggleable__control:checked~label.sk-toggleable__label {background-color: #d4ebff;}#sk-container-id-3 input.sk-hidden--visually {border: 0;clip: rect(1px 1px 1px 1px);clip: rect(1px, 1px, 1px, 1px);height: 1px;margin: -1px;overflow: hidden;padding: 0;position: absolute;width: 1px;}#sk-container-id-3 div.sk-estimator {font-family: monospace;background-color: #f0f8ff;border: 1px dotted black;border-radius: 0.25em;box-sizing: border-box;margin-bottom: 0.5em;}#sk-container-id-3 div.sk-estimator:hover {background-color: #d4ebff;}#sk-container-id-3 div.sk-parallel-item::after {content: \"\";width: 100%;border-bottom: 1px solid gray;flex-grow: 1;}#sk-container-id-3 div.sk-label:hover label.sk-toggleable__label {background-color: #d4ebff;}#sk-container-id-3 div.sk-serial::before {content: \"\";position: absolute;border-left: 1px solid gray;box-sizing: border-box;top: 0;bottom: 0;left: 50%;z-index: 0;}#sk-container-id-3 div.sk-serial {display: flex;flex-direction: column;align-items: center;background-color: white;padding-right: 0.2em;padding-left: 0.2em;position: relative;}#sk-container-id-3 div.sk-item {position: relative;z-index: 1;}#sk-container-id-3 div.sk-parallel {display: flex;align-items: stretch;justify-content: center;background-color: white;position: relative;}#sk-container-id-3 div.sk-item::before, #sk-container-id-3 div.sk-parallel-item::before {content: \"\";position: absolute;border-left: 1px solid gray;box-sizing: border-box;top: 0;bottom: 0;left: 50%;z-index: -1;}#sk-container-id-3 div.sk-parallel-item {display: flex;flex-direction: column;z-index: 1;position: relative;background-color: white;}#sk-container-id-3 div.sk-parallel-item:first-child::after {align-self: flex-end;width: 50%;}#sk-container-id-3 div.sk-parallel-item:last-child::after {align-self: flex-start;width: 50%;}#sk-container-id-3 div.sk-parallel-item:only-child::after {width: 0;}#sk-container-id-3 div.sk-dashed-wrapped {border: 1px dashed gray;margin: 0 0.4em 0.5em 0.4em;box-sizing: border-box;padding-bottom: 0.4em;background-color: white;}#sk-container-id-3 div.sk-label label {font-family: monospace;font-weight: bold;display: inline-block;line-height: 1.2em;}#sk-container-id-3 div.sk-label-container {text-align: center;}#sk-container-id-3 div.sk-container {/* jupyter's `normalize.less` sets `[hidden] { display: none; }` but bootstrap.min.css set `[hidden] { display: none !important; }` so we also need the `!important` here to be able to override the default hidden behavior on the sphinx rendered scikit-learn.org. See: https://github.com/scikit-learn/scikit-learn/issues/21755 */display: inline-block !important;position: relative;}#sk-container-id-3 div.sk-text-repr-fallback {display: none;}</style><div id=\"sk-container-id-3\" class=\"sk-top-container\"><div class=\"sk-text-repr-fallback\"><pre>ColumnTransformer(transformers=[(&#x27;num_pipeline&#x27;,\n",
       "                                 Pipeline(steps=[(&#x27;Imputer&#x27;, SimpleImputer()),\n",
       "                                                 (&#x27;Scaling&#x27;,\n",
       "                                                  StandardScaler())]),\n",
       "                                 Index([&#x27;Age&#x27;, &#x27;CityTier&#x27;, &#x27;DurationOfPitch&#x27;, &#x27;NumberOfPersonVisiting&#x27;,\n",
       "       &#x27;NumberOfFollowups&#x27;, &#x27;PreferredPropertyStar&#x27;, &#x27;NumberOfTrips&#x27;,\n",
       "       &#x27;Passport&#x27;, &#x27;PitchSatisfactionScore&#x27;, &#x27;OwnCar&#x27;,\n",
       "       &#x27;NumberOfChildrenVisiting&#x27;, &#x27;MonthlyIncome&#x27;],\n",
       "      dtype=&#x27;object&#x27;)),\n",
       "                                (&#x27;cat_pipeline&#x27;,\n",
       "                                 Pipeline(steps=[(&#x27;imputing&#x27;,\n",
       "                                                  SimpleImputer(strategy=&#x27;most_frequent&#x27;)),\n",
       "                                                 (&#x27;Encoding&#x27;,\n",
       "                                                  OneHotEncoder())]),\n",
       "                                 Index([&#x27;TypeofContact&#x27;, &#x27;Occupation&#x27;, &#x27;Gender&#x27;, &#x27;ProductPitched&#x27;,\n",
       "       &#x27;MaritalStatus&#x27;, &#x27;Designation&#x27;],\n",
       "      dtype=&#x27;object&#x27;))])</pre><b>In a Jupyter environment, please rerun this cell to show the HTML representation or trust the notebook. <br />On GitHub, the HTML representation is unable to render, please try loading this page with nbviewer.org.</b></div><div class=\"sk-container\" hidden><div class=\"sk-item sk-dashed-wrapped\"><div class=\"sk-label-container\"><div class=\"sk-label sk-toggleable\"><input class=\"sk-toggleable__control sk-hidden--visually\" id=\"sk-estimator-id-7\" type=\"checkbox\" ><label for=\"sk-estimator-id-7\" class=\"sk-toggleable__label sk-toggleable__label-arrow\">ColumnTransformer</label><div class=\"sk-toggleable__content\"><pre>ColumnTransformer(transformers=[(&#x27;num_pipeline&#x27;,\n",
       "                                 Pipeline(steps=[(&#x27;Imputer&#x27;, SimpleImputer()),\n",
       "                                                 (&#x27;Scaling&#x27;,\n",
       "                                                  StandardScaler())]),\n",
       "                                 Index([&#x27;Age&#x27;, &#x27;CityTier&#x27;, &#x27;DurationOfPitch&#x27;, &#x27;NumberOfPersonVisiting&#x27;,\n",
       "       &#x27;NumberOfFollowups&#x27;, &#x27;PreferredPropertyStar&#x27;, &#x27;NumberOfTrips&#x27;,\n",
       "       &#x27;Passport&#x27;, &#x27;PitchSatisfactionScore&#x27;, &#x27;OwnCar&#x27;,\n",
       "       &#x27;NumberOfChildrenVisiting&#x27;, &#x27;MonthlyIncome&#x27;],\n",
       "      dtype=&#x27;object&#x27;)),\n",
       "                                (&#x27;cat_pipeline&#x27;,\n",
       "                                 Pipeline(steps=[(&#x27;imputing&#x27;,\n",
       "                                                  SimpleImputer(strategy=&#x27;most_frequent&#x27;)),\n",
       "                                                 (&#x27;Encoding&#x27;,\n",
       "                                                  OneHotEncoder())]),\n",
       "                                 Index([&#x27;TypeofContact&#x27;, &#x27;Occupation&#x27;, &#x27;Gender&#x27;, &#x27;ProductPitched&#x27;,\n",
       "       &#x27;MaritalStatus&#x27;, &#x27;Designation&#x27;],\n",
       "      dtype=&#x27;object&#x27;))])</pre></div></div></div><div class=\"sk-parallel\"><div class=\"sk-parallel-item\"><div class=\"sk-item\"><div class=\"sk-label-container\"><div class=\"sk-label sk-toggleable\"><input class=\"sk-toggleable__control sk-hidden--visually\" id=\"sk-estimator-id-8\" type=\"checkbox\" ><label for=\"sk-estimator-id-8\" class=\"sk-toggleable__label sk-toggleable__label-arrow\">num_pipeline</label><div class=\"sk-toggleable__content\"><pre>Index([&#x27;Age&#x27;, &#x27;CityTier&#x27;, &#x27;DurationOfPitch&#x27;, &#x27;NumberOfPersonVisiting&#x27;,\n",
       "       &#x27;NumberOfFollowups&#x27;, &#x27;PreferredPropertyStar&#x27;, &#x27;NumberOfTrips&#x27;,\n",
       "       &#x27;Passport&#x27;, &#x27;PitchSatisfactionScore&#x27;, &#x27;OwnCar&#x27;,\n",
       "       &#x27;NumberOfChildrenVisiting&#x27;, &#x27;MonthlyIncome&#x27;],\n",
       "      dtype=&#x27;object&#x27;)</pre></div></div></div><div class=\"sk-serial\"><div class=\"sk-item\"><div class=\"sk-serial\"><div class=\"sk-item\"><div class=\"sk-estimator sk-toggleable\"><input class=\"sk-toggleable__control sk-hidden--visually\" id=\"sk-estimator-id-9\" type=\"checkbox\" ><label for=\"sk-estimator-id-9\" class=\"sk-toggleable__label sk-toggleable__label-arrow\">SimpleImputer</label><div class=\"sk-toggleable__content\"><pre>SimpleImputer()</pre></div></div></div><div class=\"sk-item\"><div class=\"sk-estimator sk-toggleable\"><input class=\"sk-toggleable__control sk-hidden--visually\" id=\"sk-estimator-id-10\" type=\"checkbox\" ><label for=\"sk-estimator-id-10\" class=\"sk-toggleable__label sk-toggleable__label-arrow\">StandardScaler</label><div class=\"sk-toggleable__content\"><pre>StandardScaler()</pre></div></div></div></div></div></div></div></div><div class=\"sk-parallel-item\"><div class=\"sk-item\"><div class=\"sk-label-container\"><div class=\"sk-label sk-toggleable\"><input class=\"sk-toggleable__control sk-hidden--visually\" id=\"sk-estimator-id-11\" type=\"checkbox\" ><label for=\"sk-estimator-id-11\" class=\"sk-toggleable__label sk-toggleable__label-arrow\">cat_pipeline</label><div class=\"sk-toggleable__content\"><pre>Index([&#x27;TypeofContact&#x27;, &#x27;Occupation&#x27;, &#x27;Gender&#x27;, &#x27;ProductPitched&#x27;,\n",
       "       &#x27;MaritalStatus&#x27;, &#x27;Designation&#x27;],\n",
       "      dtype=&#x27;object&#x27;)</pre></div></div></div><div class=\"sk-serial\"><div class=\"sk-item\"><div class=\"sk-serial\"><div class=\"sk-item\"><div class=\"sk-estimator sk-toggleable\"><input class=\"sk-toggleable__control sk-hidden--visually\" id=\"sk-estimator-id-12\" type=\"checkbox\" ><label for=\"sk-estimator-id-12\" class=\"sk-toggleable__label sk-toggleable__label-arrow\">SimpleImputer</label><div class=\"sk-toggleable__content\"><pre>SimpleImputer(strategy=&#x27;most_frequent&#x27;)</pre></div></div></div><div class=\"sk-item\"><div class=\"sk-estimator sk-toggleable\"><input class=\"sk-toggleable__control sk-hidden--visually\" id=\"sk-estimator-id-13\" type=\"checkbox\" ><label for=\"sk-estimator-id-13\" class=\"sk-toggleable__label sk-toggleable__label-arrow\">OneHotEncoder</label><div class=\"sk-toggleable__content\"><pre>OneHotEncoder()</pre></div></div></div></div></div></div></div></div></div></div></div></div>"
      ],
      "text/plain": [
       "ColumnTransformer(transformers=[('num_pipeline',\n",
       "                                 Pipeline(steps=[('Imputer', SimpleImputer()),\n",
       "                                                 ('Scaling',\n",
       "                                                  StandardScaler())]),\n",
       "                                 Index(['Age', 'CityTier', 'DurationOfPitch', 'NumberOfPersonVisiting',\n",
       "       'NumberOfFollowups', 'PreferredPropertyStar', 'NumberOfTrips',\n",
       "       'Passport', 'PitchSatisfactionScore', 'OwnCar',\n",
       "       'NumberOfChildrenVisiting', 'MonthlyIncome'],\n",
       "      dtype='object')),\n",
       "                                ('cat_pipeline',\n",
       "                                 Pipeline(steps=[('imputing',\n",
       "                                                  SimpleImputer(strategy='most_frequent')),\n",
       "                                                 ('Encoding',\n",
       "                                                  OneHotEncoder())]),\n",
       "                                 Index(['TypeofContact', 'Occupation', 'Gender', 'ProductPitched',\n",
       "       'MaritalStatus', 'Designation'],\n",
       "      dtype='object'))])"
      ]
     },
     "execution_count": 23,
     "metadata": {},
     "output_type": "execute_result"
    }
   ],
   "source": [
    "preprocessor"
   ]
  },
  {
   "cell_type": "code",
   "execution_count": 24,
   "id": "0bc01dd6",
   "metadata": {},
   "outputs": [],
   "source": [
    "preprocessor=preprocessor.fit(x_train)"
   ]
  },
  {
   "cell_type": "code",
   "execution_count": 25,
   "id": "19546240",
   "metadata": {},
   "outputs": [],
   "source": [
    "with open(\"Processor.pkl\",\"wb\") as f:\n",
    "    pickle.dump(preprocessor,f)"
   ]
  },
  {
   "cell_type": "code",
   "execution_count": 26,
   "id": "d4320f58",
   "metadata": {},
   "outputs": [
    {
     "data": {
      "text/html": [
       "<div>\n",
       "<style scoped>\n",
       "    .dataframe tbody tr th:only-of-type {\n",
       "        vertical-align: middle;\n",
       "    }\n",
       "\n",
       "    .dataframe tbody tr th {\n",
       "        vertical-align: top;\n",
       "    }\n",
       "\n",
       "    .dataframe thead th {\n",
       "        text-align: right;\n",
       "    }\n",
       "</style>\n",
       "<table border=\"1\" class=\"dataframe\">\n",
       "  <thead>\n",
       "    <tr style=\"text-align: right;\">\n",
       "      <th></th>\n",
       "      <th>Age</th>\n",
       "      <th>TypeofContact</th>\n",
       "      <th>CityTier</th>\n",
       "      <th>DurationOfPitch</th>\n",
       "      <th>Occupation</th>\n",
       "      <th>Gender</th>\n",
       "      <th>NumberOfPersonVisiting</th>\n",
       "      <th>NumberOfFollowups</th>\n",
       "      <th>ProductPitched</th>\n",
       "      <th>PreferredPropertyStar</th>\n",
       "      <th>MaritalStatus</th>\n",
       "      <th>NumberOfTrips</th>\n",
       "      <th>Passport</th>\n",
       "      <th>PitchSatisfactionScore</th>\n",
       "      <th>OwnCar</th>\n",
       "      <th>NumberOfChildrenVisiting</th>\n",
       "      <th>Designation</th>\n",
       "      <th>MonthlyIncome</th>\n",
       "    </tr>\n",
       "  </thead>\n",
       "  <tbody>\n",
       "    <tr>\n",
       "      <th>2962</th>\n",
       "      <td>39.0</td>\n",
       "      <td>Self Enquiry</td>\n",
       "      <td>3</td>\n",
       "      <td>14.0</td>\n",
       "      <td>Small Business</td>\n",
       "      <td>Female</td>\n",
       "      <td>3</td>\n",
       "      <td>5.0</td>\n",
       "      <td>Deluxe</td>\n",
       "      <td>3.0</td>\n",
       "      <td>Unmarried</td>\n",
       "      <td>2.0</td>\n",
       "      <td>0</td>\n",
       "      <td>2</td>\n",
       "      <td>1</td>\n",
       "      <td>2.0</td>\n",
       "      <td>Manager</td>\n",
       "      <td>22706.0</td>\n",
       "    </tr>\n",
       "    <tr>\n",
       "      <th>1788</th>\n",
       "      <td>27.0</td>\n",
       "      <td>Self Enquiry</td>\n",
       "      <td>1</td>\n",
       "      <td>11.0</td>\n",
       "      <td>Salaried</td>\n",
       "      <td>Female</td>\n",
       "      <td>2</td>\n",
       "      <td>3.0</td>\n",
       "      <td>Basic</td>\n",
       "      <td>4.0</td>\n",
       "      <td>Unmarried</td>\n",
       "      <td>2.0</td>\n",
       "      <td>1</td>\n",
       "      <td>3</td>\n",
       "      <td>0</td>\n",
       "      <td>1.0</td>\n",
       "      <td>Executive</td>\n",
       "      <td>17478.0</td>\n",
       "    </tr>\n",
       "    <tr>\n",
       "      <th>3499</th>\n",
       "      <td>35.0</td>\n",
       "      <td>Company Invited</td>\n",
       "      <td>1</td>\n",
       "      <td>22.0</td>\n",
       "      <td>Small Business</td>\n",
       "      <td>Male</td>\n",
       "      <td>4</td>\n",
       "      <td>4.0</td>\n",
       "      <td>Super Deluxe</td>\n",
       "      <td>5.0</td>\n",
       "      <td>Married</td>\n",
       "      <td>NaN</td>\n",
       "      <td>0</td>\n",
       "      <td>4</td>\n",
       "      <td>1</td>\n",
       "      <td>3.0</td>\n",
       "      <td>AVP</td>\n",
       "      <td>35685.0</td>\n",
       "    </tr>\n",
       "    <tr>\n",
       "      <th>3173</th>\n",
       "      <td>36.0</td>\n",
       "      <td>Self Enquiry</td>\n",
       "      <td>1</td>\n",
       "      <td>32.0</td>\n",
       "      <td>Small Business</td>\n",
       "      <td>Female</td>\n",
       "      <td>3</td>\n",
       "      <td>4.0</td>\n",
       "      <td>Standard</td>\n",
       "      <td>3.0</td>\n",
       "      <td>Married</td>\n",
       "      <td>3.0</td>\n",
       "      <td>1</td>\n",
       "      <td>3</td>\n",
       "      <td>1</td>\n",
       "      <td>2.0</td>\n",
       "      <td>Senior Manager</td>\n",
       "      <td>29066.0</td>\n",
       "    </tr>\n",
       "    <tr>\n",
       "      <th>3126</th>\n",
       "      <td>33.0</td>\n",
       "      <td>Company Invited</td>\n",
       "      <td>1</td>\n",
       "      <td>7.0</td>\n",
       "      <td>Salaried</td>\n",
       "      <td>Female</td>\n",
       "      <td>4</td>\n",
       "      <td>5.0</td>\n",
       "      <td>Basic</td>\n",
       "      <td>4.0</td>\n",
       "      <td>Divorced</td>\n",
       "      <td>8.0</td>\n",
       "      <td>0</td>\n",
       "      <td>3</td>\n",
       "      <td>1</td>\n",
       "      <td>1.0</td>\n",
       "      <td>Executive</td>\n",
       "      <td>21010.0</td>\n",
       "    </tr>\n",
       "    <tr>\n",
       "      <th>...</th>\n",
       "      <td>...</td>\n",
       "      <td>...</td>\n",
       "      <td>...</td>\n",
       "      <td>...</td>\n",
       "      <td>...</td>\n",
       "      <td>...</td>\n",
       "      <td>...</td>\n",
       "      <td>...</td>\n",
       "      <td>...</td>\n",
       "      <td>...</td>\n",
       "      <td>...</td>\n",
       "      <td>...</td>\n",
       "      <td>...</td>\n",
       "      <td>...</td>\n",
       "      <td>...</td>\n",
       "      <td>...</td>\n",
       "      <td>...</td>\n",
       "      <td>...</td>\n",
       "    </tr>\n",
       "    <tr>\n",
       "      <th>4426</th>\n",
       "      <td>28.0</td>\n",
       "      <td>Self Enquiry</td>\n",
       "      <td>1</td>\n",
       "      <td>10.0</td>\n",
       "      <td>Small Business</td>\n",
       "      <td>Male</td>\n",
       "      <td>3</td>\n",
       "      <td>5.0</td>\n",
       "      <td>Basic</td>\n",
       "      <td>3.0</td>\n",
       "      <td>Unmarried</td>\n",
       "      <td>2.0</td>\n",
       "      <td>0</td>\n",
       "      <td>1</td>\n",
       "      <td>1</td>\n",
       "      <td>2.0</td>\n",
       "      <td>Executive</td>\n",
       "      <td>20723.0</td>\n",
       "    </tr>\n",
       "    <tr>\n",
       "      <th>466</th>\n",
       "      <td>41.0</td>\n",
       "      <td>Self Enquiry</td>\n",
       "      <td>3</td>\n",
       "      <td>8.0</td>\n",
       "      <td>Salaried</td>\n",
       "      <td>Female</td>\n",
       "      <td>3</td>\n",
       "      <td>3.0</td>\n",
       "      <td>Super Deluxe</td>\n",
       "      <td>5.0</td>\n",
       "      <td>Divorced</td>\n",
       "      <td>1.0</td>\n",
       "      <td>0</td>\n",
       "      <td>5</td>\n",
       "      <td>1</td>\n",
       "      <td>1.0</td>\n",
       "      <td>AVP</td>\n",
       "      <td>31595.0</td>\n",
       "    </tr>\n",
       "    <tr>\n",
       "      <th>3092</th>\n",
       "      <td>38.0</td>\n",
       "      <td>Company Invited</td>\n",
       "      <td>3</td>\n",
       "      <td>28.0</td>\n",
       "      <td>Small Business</td>\n",
       "      <td>Female</td>\n",
       "      <td>3</td>\n",
       "      <td>4.0</td>\n",
       "      <td>Basic</td>\n",
       "      <td>3.0</td>\n",
       "      <td>Divorced</td>\n",
       "      <td>7.0</td>\n",
       "      <td>0</td>\n",
       "      <td>2</td>\n",
       "      <td>1</td>\n",
       "      <td>2.0</td>\n",
       "      <td>Executive</td>\n",
       "      <td>21651.0</td>\n",
       "    </tr>\n",
       "    <tr>\n",
       "      <th>3772</th>\n",
       "      <td>28.0</td>\n",
       "      <td>Self Enquiry</td>\n",
       "      <td>3</td>\n",
       "      <td>30.0</td>\n",
       "      <td>Small Business</td>\n",
       "      <td>Female</td>\n",
       "      <td>3</td>\n",
       "      <td>5.0</td>\n",
       "      <td>Deluxe</td>\n",
       "      <td>3.0</td>\n",
       "      <td>Married</td>\n",
       "      <td>3.0</td>\n",
       "      <td>0</td>\n",
       "      <td>1</td>\n",
       "      <td>1</td>\n",
       "      <td>2.0</td>\n",
       "      <td>Manager</td>\n",
       "      <td>22218.0</td>\n",
       "    </tr>\n",
       "    <tr>\n",
       "      <th>860</th>\n",
       "      <td>22.0</td>\n",
       "      <td>Company Invited</td>\n",
       "      <td>1</td>\n",
       "      <td>9.0</td>\n",
       "      <td>Salaried</td>\n",
       "      <td>Male</td>\n",
       "      <td>2</td>\n",
       "      <td>4.0</td>\n",
       "      <td>Basic</td>\n",
       "      <td>3.0</td>\n",
       "      <td>Divorced</td>\n",
       "      <td>1.0</td>\n",
       "      <td>1</td>\n",
       "      <td>3</td>\n",
       "      <td>0</td>\n",
       "      <td>0.0</td>\n",
       "      <td>Executive</td>\n",
       "      <td>17853.0</td>\n",
       "    </tr>\n",
       "  </tbody>\n",
       "</table>\n",
       "<p>3274 rows × 18 columns</p>\n",
       "</div>"
      ],
      "text/plain": [
       "       Age    TypeofContact  CityTier  DurationOfPitch      Occupation  \\\n",
       "2962  39.0     Self Enquiry         3             14.0  Small Business   \n",
       "1788  27.0     Self Enquiry         1             11.0        Salaried   \n",
       "3499  35.0  Company Invited         1             22.0  Small Business   \n",
       "3173  36.0     Self Enquiry         1             32.0  Small Business   \n",
       "3126  33.0  Company Invited         1              7.0        Salaried   \n",
       "...    ...              ...       ...              ...             ...   \n",
       "4426  28.0     Self Enquiry         1             10.0  Small Business   \n",
       "466   41.0     Self Enquiry         3              8.0        Salaried   \n",
       "3092  38.0  Company Invited         3             28.0  Small Business   \n",
       "3772  28.0     Self Enquiry         3             30.0  Small Business   \n",
       "860   22.0  Company Invited         1              9.0        Salaried   \n",
       "\n",
       "      Gender  NumberOfPersonVisiting  NumberOfFollowups ProductPitched  \\\n",
       "2962  Female                       3                5.0         Deluxe   \n",
       "1788  Female                       2                3.0          Basic   \n",
       "3499    Male                       4                4.0   Super Deluxe   \n",
       "3173  Female                       3                4.0       Standard   \n",
       "3126  Female                       4                5.0          Basic   \n",
       "...      ...                     ...                ...            ...   \n",
       "4426    Male                       3                5.0          Basic   \n",
       "466   Female                       3                3.0   Super Deluxe   \n",
       "3092  Female                       3                4.0          Basic   \n",
       "3772  Female                       3                5.0         Deluxe   \n",
       "860     Male                       2                4.0          Basic   \n",
       "\n",
       "      PreferredPropertyStar MaritalStatus  NumberOfTrips  Passport  \\\n",
       "2962                    3.0     Unmarried            2.0         0   \n",
       "1788                    4.0     Unmarried            2.0         1   \n",
       "3499                    5.0       Married            NaN         0   \n",
       "3173                    3.0       Married            3.0         1   \n",
       "3126                    4.0      Divorced            8.0         0   \n",
       "...                     ...           ...            ...       ...   \n",
       "4426                    3.0     Unmarried            2.0         0   \n",
       "466                     5.0      Divorced            1.0         0   \n",
       "3092                    3.0      Divorced            7.0         0   \n",
       "3772                    3.0       Married            3.0         0   \n",
       "860                     3.0      Divorced            1.0         1   \n",
       "\n",
       "      PitchSatisfactionScore  OwnCar  NumberOfChildrenVisiting  \\\n",
       "2962                       2       1                       2.0   \n",
       "1788                       3       0                       1.0   \n",
       "3499                       4       1                       3.0   \n",
       "3173                       3       1                       2.0   \n",
       "3126                       3       1                       1.0   \n",
       "...                      ...     ...                       ...   \n",
       "4426                       1       1                       2.0   \n",
       "466                        5       1                       1.0   \n",
       "3092                       2       1                       2.0   \n",
       "3772                       1       1                       2.0   \n",
       "860                        3       0                       0.0   \n",
       "\n",
       "         Designation  MonthlyIncome  \n",
       "2962         Manager        22706.0  \n",
       "1788       Executive        17478.0  \n",
       "3499             AVP        35685.0  \n",
       "3173  Senior Manager        29066.0  \n",
       "3126       Executive        21010.0  \n",
       "...              ...            ...  \n",
       "4426       Executive        20723.0  \n",
       "466              AVP        31595.0  \n",
       "3092       Executive        21651.0  \n",
       "3772         Manager        22218.0  \n",
       "860        Executive        17853.0  \n",
       "\n",
       "[3274 rows x 18 columns]"
      ]
     },
     "execution_count": 26,
     "metadata": {},
     "output_type": "execute_result"
    }
   ],
   "source": [
    "x_train"
   ]
  },
  {
   "cell_type": "code",
   "execution_count": 27,
   "id": "cfc3a384",
   "metadata": {},
   "outputs": [
    {
     "data": {
      "text/plain": [
       "array([[ 0.16752713,  1.4834196 , -0.17769967, ...,  1.        ,\n",
       "         0.        ,  0.        ],\n",
       "       [-1.15621181, -0.70823914, -0.54478249, ...,  0.        ,\n",
       "         0.        ,  0.        ],\n",
       "       [-0.27371919, -0.70823914,  0.80118788, ...,  0.        ,\n",
       "         0.        ,  0.        ],\n",
       "       ...,\n",
       "       [ 0.05721555,  1.4834196 ,  1.53535353, ...,  0.        ,\n",
       "         0.        ,  0.        ],\n",
       "       [-1.04590023,  1.4834196 ,  1.78007542, ...,  1.        ,\n",
       "         0.        ,  0.        ],\n",
       "       [-1.7077697 , -0.70823914, -0.78950438, ...,  0.        ,\n",
       "         0.        ,  0.        ]])"
      ]
     },
     "execution_count": 27,
     "metadata": {},
     "output_type": "execute_result"
    }
   ],
   "source": [
    "x_train=preprocessor.transform(x_train)\n",
    "x_train"
   ]
  },
  {
   "cell_type": "code",
   "execution_count": 28,
   "id": "09b7ddc4",
   "metadata": {},
   "outputs": [],
   "source": [
    "x_test=preprocessor.transform(x_test)"
   ]
  },
  {
   "cell_type": "code",
   "execution_count": 29,
   "id": "a24910db",
   "metadata": {},
   "outputs": [
    {
     "data": {
      "text/plain": [
       "((3274, 33), (1614, 33))"
      ]
     },
     "execution_count": 29,
     "metadata": {},
     "output_type": "execute_result"
    }
   ],
   "source": [
    "x_train.shape,x_test.shape"
   ]
  },
  {
   "cell_type": "code",
   "execution_count": 30,
   "id": "df74642b",
   "metadata": {},
   "outputs": [
    {
     "data": {
      "text/plain": [
       "Index(['Age', 'TypeofContact', 'CityTier', 'DurationOfPitch', 'Occupation',\n",
       "       'Gender', 'NumberOfPersonVisiting', 'NumberOfFollowups',\n",
       "       'ProductPitched', 'PreferredPropertyStar', 'MaritalStatus',\n",
       "       'NumberOfTrips', 'Passport', 'PitchSatisfactionScore', 'OwnCar',\n",
       "       'NumberOfChildrenVisiting', 'Designation', 'MonthlyIncome'],\n",
       "      dtype='object')"
      ]
     },
     "execution_count": 30,
     "metadata": {},
     "output_type": "execute_result"
    }
   ],
   "source": [
    "column_names"
   ]
  },
  {
   "cell_type": "code",
   "execution_count": 31,
   "id": "9edc6a8e",
   "metadata": {},
   "outputs": [],
   "source": [
    "new_columns=pd.get_dummies(x,columns=cat_features).columns"
   ]
  },
  {
   "cell_type": "code",
   "execution_count": 32,
   "id": "0c2c3ff5",
   "metadata": {},
   "outputs": [
    {
     "data": {
      "text/plain": [
       "Index(['Age', 'CityTier', 'DurationOfPitch', 'NumberOfPersonVisiting',\n",
       "       'NumberOfFollowups', 'PreferredPropertyStar', 'NumberOfTrips',\n",
       "       'Passport', 'PitchSatisfactionScore', 'OwnCar',\n",
       "       'NumberOfChildrenVisiting', 'MonthlyIncome',\n",
       "       'TypeofContact_Company Invited', 'TypeofContact_Self Enquiry',\n",
       "       'Occupation_Free Lancer', 'Occupation_Large Business',\n",
       "       'Occupation_Salaried', 'Occupation_Small Business', 'Gender_Female',\n",
       "       'Gender_Male', 'ProductPitched_Basic', 'ProductPitched_Deluxe',\n",
       "       'ProductPitched_King', 'ProductPitched_Standard',\n",
       "       'ProductPitched_Super Deluxe', 'MaritalStatus_Divorced',\n",
       "       'MaritalStatus_Married', 'MaritalStatus_Unmarried', 'Designation_AVP',\n",
       "       'Designation_Executive', 'Designation_Manager',\n",
       "       'Designation_Senior Manager', 'Designation_VP'],\n",
       "      dtype='object')"
      ]
     },
     "execution_count": 32,
     "metadata": {},
     "output_type": "execute_result"
    }
   ],
   "source": [
    "new_columns"
   ]
  },
  {
   "cell_type": "code",
   "execution_count": 33,
   "id": "ea548e9d",
   "metadata": {},
   "outputs": [
    {
     "data": {
      "text/html": [
       "<div>\n",
       "<style scoped>\n",
       "    .dataframe tbody tr th:only-of-type {\n",
       "        vertical-align: middle;\n",
       "    }\n",
       "\n",
       "    .dataframe tbody tr th {\n",
       "        vertical-align: top;\n",
       "    }\n",
       "\n",
       "    .dataframe thead th {\n",
       "        text-align: right;\n",
       "    }\n",
       "</style>\n",
       "<table border=\"1\" class=\"dataframe\">\n",
       "  <thead>\n",
       "    <tr style=\"text-align: right;\">\n",
       "      <th></th>\n",
       "      <th>Age</th>\n",
       "      <th>CityTier</th>\n",
       "      <th>DurationOfPitch</th>\n",
       "      <th>NumberOfPersonVisiting</th>\n",
       "      <th>NumberOfFollowups</th>\n",
       "      <th>PreferredPropertyStar</th>\n",
       "      <th>NumberOfTrips</th>\n",
       "      <th>Passport</th>\n",
       "      <th>PitchSatisfactionScore</th>\n",
       "      <th>OwnCar</th>\n",
       "      <th>...</th>\n",
       "      <th>ProductPitched_Standard</th>\n",
       "      <th>ProductPitched_Super Deluxe</th>\n",
       "      <th>MaritalStatus_Divorced</th>\n",
       "      <th>MaritalStatus_Married</th>\n",
       "      <th>MaritalStatus_Unmarried</th>\n",
       "      <th>Designation_AVP</th>\n",
       "      <th>Designation_Executive</th>\n",
       "      <th>Designation_Manager</th>\n",
       "      <th>Designation_Senior Manager</th>\n",
       "      <th>Designation_VP</th>\n",
       "    </tr>\n",
       "  </thead>\n",
       "  <tbody>\n",
       "    <tr>\n",
       "      <th>0</th>\n",
       "      <td>0.167527</td>\n",
       "      <td>1.483420</td>\n",
       "      <td>-0.177700</td>\n",
       "      <td>0.125643</td>\n",
       "      <td>1.282986</td>\n",
       "      <td>-0.731366</td>\n",
       "      <td>-0.678533</td>\n",
       "      <td>-0.637936</td>\n",
       "      <td>-0.776562</td>\n",
       "      <td>0.783328</td>\n",
       "      <td>...</td>\n",
       "      <td>0.0</td>\n",
       "      <td>0.0</td>\n",
       "      <td>0.0</td>\n",
       "      <td>0.0</td>\n",
       "      <td>1.0</td>\n",
       "      <td>0.0</td>\n",
       "      <td>0.0</td>\n",
       "      <td>1.0</td>\n",
       "      <td>0.0</td>\n",
       "      <td>0.0</td>\n",
       "    </tr>\n",
       "    <tr>\n",
       "      <th>1</th>\n",
       "      <td>-1.156212</td>\n",
       "      <td>-0.708239</td>\n",
       "      <td>-0.544782</td>\n",
       "      <td>-1.264066</td>\n",
       "      <td>-0.719965</td>\n",
       "      <td>0.523065</td>\n",
       "      <td>-0.678533</td>\n",
       "      <td>1.567556</td>\n",
       "      <td>-0.047645</td>\n",
       "      <td>-1.276604</td>\n",
       "      <td>...</td>\n",
       "      <td>0.0</td>\n",
       "      <td>0.0</td>\n",
       "      <td>0.0</td>\n",
       "      <td>0.0</td>\n",
       "      <td>1.0</td>\n",
       "      <td>0.0</td>\n",
       "      <td>1.0</td>\n",
       "      <td>0.0</td>\n",
       "      <td>0.0</td>\n",
       "      <td>0.0</td>\n",
       "    </tr>\n",
       "    <tr>\n",
       "      <th>2</th>\n",
       "      <td>-0.273719</td>\n",
       "      <td>-0.708239</td>\n",
       "      <td>0.801188</td>\n",
       "      <td>1.515352</td>\n",
       "      <td>0.281511</td>\n",
       "      <td>1.777496</td>\n",
       "      <td>0.000000</td>\n",
       "      <td>-0.637936</td>\n",
       "      <td>0.681272</td>\n",
       "      <td>0.783328</td>\n",
       "      <td>...</td>\n",
       "      <td>0.0</td>\n",
       "      <td>1.0</td>\n",
       "      <td>0.0</td>\n",
       "      <td>1.0</td>\n",
       "      <td>0.0</td>\n",
       "      <td>1.0</td>\n",
       "      <td>0.0</td>\n",
       "      <td>0.0</td>\n",
       "      <td>0.0</td>\n",
       "      <td>0.0</td>\n",
       "    </tr>\n",
       "    <tr>\n",
       "      <th>3</th>\n",
       "      <td>-0.163408</td>\n",
       "      <td>-0.708239</td>\n",
       "      <td>2.024797</td>\n",
       "      <td>0.125643</td>\n",
       "      <td>0.281511</td>\n",
       "      <td>-0.731366</td>\n",
       "      <td>-0.134543</td>\n",
       "      <td>1.567556</td>\n",
       "      <td>-0.047645</td>\n",
       "      <td>0.783328</td>\n",
       "      <td>...</td>\n",
       "      <td>1.0</td>\n",
       "      <td>0.0</td>\n",
       "      <td>0.0</td>\n",
       "      <td>1.0</td>\n",
       "      <td>0.0</td>\n",
       "      <td>0.0</td>\n",
       "      <td>0.0</td>\n",
       "      <td>0.0</td>\n",
       "      <td>1.0</td>\n",
       "      <td>0.0</td>\n",
       "    </tr>\n",
       "    <tr>\n",
       "      <th>4</th>\n",
       "      <td>-0.494342</td>\n",
       "      <td>-0.708239</td>\n",
       "      <td>-1.034226</td>\n",
       "      <td>1.515352</td>\n",
       "      <td>1.282986</td>\n",
       "      <td>0.523065</td>\n",
       "      <td>2.585408</td>\n",
       "      <td>-0.637936</td>\n",
       "      <td>-0.047645</td>\n",
       "      <td>0.783328</td>\n",
       "      <td>...</td>\n",
       "      <td>0.0</td>\n",
       "      <td>0.0</td>\n",
       "      <td>1.0</td>\n",
       "      <td>0.0</td>\n",
       "      <td>0.0</td>\n",
       "      <td>0.0</td>\n",
       "      <td>1.0</td>\n",
       "      <td>0.0</td>\n",
       "      <td>0.0</td>\n",
       "      <td>0.0</td>\n",
       "    </tr>\n",
       "    <tr>\n",
       "      <th>...</th>\n",
       "      <td>...</td>\n",
       "      <td>...</td>\n",
       "      <td>...</td>\n",
       "      <td>...</td>\n",
       "      <td>...</td>\n",
       "      <td>...</td>\n",
       "      <td>...</td>\n",
       "      <td>...</td>\n",
       "      <td>...</td>\n",
       "      <td>...</td>\n",
       "      <td>...</td>\n",
       "      <td>...</td>\n",
       "      <td>...</td>\n",
       "      <td>...</td>\n",
       "      <td>...</td>\n",
       "      <td>...</td>\n",
       "      <td>...</td>\n",
       "      <td>...</td>\n",
       "      <td>...</td>\n",
       "      <td>...</td>\n",
       "      <td>...</td>\n",
       "    </tr>\n",
       "    <tr>\n",
       "      <th>3269</th>\n",
       "      <td>-1.045900</td>\n",
       "      <td>-0.708239</td>\n",
       "      <td>-0.667143</td>\n",
       "      <td>0.125643</td>\n",
       "      <td>1.282986</td>\n",
       "      <td>-0.731366</td>\n",
       "      <td>-0.678533</td>\n",
       "      <td>-0.637936</td>\n",
       "      <td>-1.505478</td>\n",
       "      <td>0.783328</td>\n",
       "      <td>...</td>\n",
       "      <td>0.0</td>\n",
       "      <td>0.0</td>\n",
       "      <td>0.0</td>\n",
       "      <td>0.0</td>\n",
       "      <td>1.0</td>\n",
       "      <td>0.0</td>\n",
       "      <td>1.0</td>\n",
       "      <td>0.0</td>\n",
       "      <td>0.0</td>\n",
       "      <td>0.0</td>\n",
       "    </tr>\n",
       "    <tr>\n",
       "      <th>3270</th>\n",
       "      <td>0.388150</td>\n",
       "      <td>1.483420</td>\n",
       "      <td>-0.911865</td>\n",
       "      <td>0.125643</td>\n",
       "      <td>-0.719965</td>\n",
       "      <td>1.777496</td>\n",
       "      <td>-1.222523</td>\n",
       "      <td>-0.637936</td>\n",
       "      <td>1.410189</td>\n",
       "      <td>0.783328</td>\n",
       "      <td>...</td>\n",
       "      <td>0.0</td>\n",
       "      <td>1.0</td>\n",
       "      <td>1.0</td>\n",
       "      <td>0.0</td>\n",
       "      <td>0.0</td>\n",
       "      <td>1.0</td>\n",
       "      <td>0.0</td>\n",
       "      <td>0.0</td>\n",
       "      <td>0.0</td>\n",
       "      <td>0.0</td>\n",
       "    </tr>\n",
       "    <tr>\n",
       "      <th>3271</th>\n",
       "      <td>0.057216</td>\n",
       "      <td>1.483420</td>\n",
       "      <td>1.535354</td>\n",
       "      <td>0.125643</td>\n",
       "      <td>0.281511</td>\n",
       "      <td>-0.731366</td>\n",
       "      <td>2.041418</td>\n",
       "      <td>-0.637936</td>\n",
       "      <td>-0.776562</td>\n",
       "      <td>0.783328</td>\n",
       "      <td>...</td>\n",
       "      <td>0.0</td>\n",
       "      <td>0.0</td>\n",
       "      <td>1.0</td>\n",
       "      <td>0.0</td>\n",
       "      <td>0.0</td>\n",
       "      <td>0.0</td>\n",
       "      <td>1.0</td>\n",
       "      <td>0.0</td>\n",
       "      <td>0.0</td>\n",
       "      <td>0.0</td>\n",
       "    </tr>\n",
       "    <tr>\n",
       "      <th>3272</th>\n",
       "      <td>-1.045900</td>\n",
       "      <td>1.483420</td>\n",
       "      <td>1.780075</td>\n",
       "      <td>0.125643</td>\n",
       "      <td>1.282986</td>\n",
       "      <td>-0.731366</td>\n",
       "      <td>-0.134543</td>\n",
       "      <td>-0.637936</td>\n",
       "      <td>-1.505478</td>\n",
       "      <td>0.783328</td>\n",
       "      <td>...</td>\n",
       "      <td>0.0</td>\n",
       "      <td>0.0</td>\n",
       "      <td>0.0</td>\n",
       "      <td>1.0</td>\n",
       "      <td>0.0</td>\n",
       "      <td>0.0</td>\n",
       "      <td>0.0</td>\n",
       "      <td>1.0</td>\n",
       "      <td>0.0</td>\n",
       "      <td>0.0</td>\n",
       "    </tr>\n",
       "    <tr>\n",
       "      <th>3273</th>\n",
       "      <td>-1.707770</td>\n",
       "      <td>-0.708239</td>\n",
       "      <td>-0.789504</td>\n",
       "      <td>-1.264066</td>\n",
       "      <td>0.281511</td>\n",
       "      <td>-0.731366</td>\n",
       "      <td>-1.222523</td>\n",
       "      <td>1.567556</td>\n",
       "      <td>-0.047645</td>\n",
       "      <td>-1.276604</td>\n",
       "      <td>...</td>\n",
       "      <td>0.0</td>\n",
       "      <td>0.0</td>\n",
       "      <td>1.0</td>\n",
       "      <td>0.0</td>\n",
       "      <td>0.0</td>\n",
       "      <td>0.0</td>\n",
       "      <td>1.0</td>\n",
       "      <td>0.0</td>\n",
       "      <td>0.0</td>\n",
       "      <td>0.0</td>\n",
       "    </tr>\n",
       "  </tbody>\n",
       "</table>\n",
       "<p>3274 rows × 33 columns</p>\n",
       "</div>"
      ],
      "text/plain": [
       "           Age  CityTier  DurationOfPitch  NumberOfPersonVisiting  \\\n",
       "0     0.167527  1.483420        -0.177700                0.125643   \n",
       "1    -1.156212 -0.708239        -0.544782               -1.264066   \n",
       "2    -0.273719 -0.708239         0.801188                1.515352   \n",
       "3    -0.163408 -0.708239         2.024797                0.125643   \n",
       "4    -0.494342 -0.708239        -1.034226                1.515352   \n",
       "...        ...       ...              ...                     ...   \n",
       "3269 -1.045900 -0.708239        -0.667143                0.125643   \n",
       "3270  0.388150  1.483420        -0.911865                0.125643   \n",
       "3271  0.057216  1.483420         1.535354                0.125643   \n",
       "3272 -1.045900  1.483420         1.780075                0.125643   \n",
       "3273 -1.707770 -0.708239        -0.789504               -1.264066   \n",
       "\n",
       "      NumberOfFollowups  PreferredPropertyStar  NumberOfTrips  Passport  \\\n",
       "0              1.282986              -0.731366      -0.678533 -0.637936   \n",
       "1             -0.719965               0.523065      -0.678533  1.567556   \n",
       "2              0.281511               1.777496       0.000000 -0.637936   \n",
       "3              0.281511              -0.731366      -0.134543  1.567556   \n",
       "4              1.282986               0.523065       2.585408 -0.637936   \n",
       "...                 ...                    ...            ...       ...   \n",
       "3269           1.282986              -0.731366      -0.678533 -0.637936   \n",
       "3270          -0.719965               1.777496      -1.222523 -0.637936   \n",
       "3271           0.281511              -0.731366       2.041418 -0.637936   \n",
       "3272           1.282986              -0.731366      -0.134543 -0.637936   \n",
       "3273           0.281511              -0.731366      -1.222523  1.567556   \n",
       "\n",
       "      PitchSatisfactionScore    OwnCar  ...  ProductPitched_Standard  \\\n",
       "0                  -0.776562  0.783328  ...                      0.0   \n",
       "1                  -0.047645 -1.276604  ...                      0.0   \n",
       "2                   0.681272  0.783328  ...                      0.0   \n",
       "3                  -0.047645  0.783328  ...                      1.0   \n",
       "4                  -0.047645  0.783328  ...                      0.0   \n",
       "...                      ...       ...  ...                      ...   \n",
       "3269               -1.505478  0.783328  ...                      0.0   \n",
       "3270                1.410189  0.783328  ...                      0.0   \n",
       "3271               -0.776562  0.783328  ...                      0.0   \n",
       "3272               -1.505478  0.783328  ...                      0.0   \n",
       "3273               -0.047645 -1.276604  ...                      0.0   \n",
       "\n",
       "      ProductPitched_Super Deluxe  MaritalStatus_Divorced  \\\n",
       "0                             0.0                     0.0   \n",
       "1                             0.0                     0.0   \n",
       "2                             1.0                     0.0   \n",
       "3                             0.0                     0.0   \n",
       "4                             0.0                     1.0   \n",
       "...                           ...                     ...   \n",
       "3269                          0.0                     0.0   \n",
       "3270                          1.0                     1.0   \n",
       "3271                          0.0                     1.0   \n",
       "3272                          0.0                     0.0   \n",
       "3273                          0.0                     1.0   \n",
       "\n",
       "      MaritalStatus_Married  MaritalStatus_Unmarried  Designation_AVP  \\\n",
       "0                       0.0                      1.0              0.0   \n",
       "1                       0.0                      1.0              0.0   \n",
       "2                       1.0                      0.0              1.0   \n",
       "3                       1.0                      0.0              0.0   \n",
       "4                       0.0                      0.0              0.0   \n",
       "...                     ...                      ...              ...   \n",
       "3269                    0.0                      1.0              0.0   \n",
       "3270                    0.0                      0.0              1.0   \n",
       "3271                    0.0                      0.0              0.0   \n",
       "3272                    1.0                      0.0              0.0   \n",
       "3273                    0.0                      0.0              0.0   \n",
       "\n",
       "      Designation_Executive  Designation_Manager  Designation_Senior Manager  \\\n",
       "0                       0.0                  1.0                         0.0   \n",
       "1                       1.0                  0.0                         0.0   \n",
       "2                       0.0                  0.0                         0.0   \n",
       "3                       0.0                  0.0                         1.0   \n",
       "4                       1.0                  0.0                         0.0   \n",
       "...                     ...                  ...                         ...   \n",
       "3269                    1.0                  0.0                         0.0   \n",
       "3270                    0.0                  0.0                         0.0   \n",
       "3271                    1.0                  0.0                         0.0   \n",
       "3272                    0.0                  1.0                         0.0   \n",
       "3273                    1.0                  0.0                         0.0   \n",
       "\n",
       "      Designation_VP  \n",
       "0                0.0  \n",
       "1                0.0  \n",
       "2                0.0  \n",
       "3                0.0  \n",
       "4                0.0  \n",
       "...              ...  \n",
       "3269             0.0  \n",
       "3270             0.0  \n",
       "3271             0.0  \n",
       "3272             0.0  \n",
       "3273             0.0  \n",
       "\n",
       "[3274 rows x 33 columns]"
      ]
     },
     "execution_count": 33,
     "metadata": {},
     "output_type": "execute_result"
    }
   ],
   "source": [
    "pd.DataFrame(x_train,columns=new_columns)"
   ]
  },
  {
   "cell_type": "code",
   "execution_count": 34,
   "id": "fdd150d4",
   "metadata": {},
   "outputs": [
    {
     "data": {
      "text/plain": [
       "0    3968\n",
       "1     920\n",
       "Name: ProdTaken, dtype: int64"
      ]
     },
     "execution_count": 34,
     "metadata": {},
     "output_type": "execute_result"
    }
   ],
   "source": [
    "data[\"ProdTaken\"].value_counts()  #it is not the Imbalanced Dataset"
   ]
  },
  {
   "cell_type": "markdown",
   "id": "1c7985e0",
   "metadata": {},
   "source": [
    "### Define the Models"
   ]
  },
  {
   "cell_type": "code",
   "execution_count": 35,
   "id": "3e20f81e",
   "metadata": {},
   "outputs": [],
   "source": [
    "models={\n",
    "    \"Logistic_Regression\":LogisticRegression(),\n",
    "    \"Random_Forest_Classifier\":RandomForestClassifier(),\n",
    "    \"Naive_Bayes_Classifier\":GaussianNB(),\n",
    "    \"Decision_Tree_Classifier\":DecisionTreeClassifier(),\n",
    "    \"Support_Vector_Machine\":SVC(),\n",
    "    \"KNeighborsClassifier\":KNeighborsClassifier()\n",
    "}"
   ]
  },
  {
   "cell_type": "code",
   "execution_count": 36,
   "id": "a45d3ce3",
   "metadata": {},
   "outputs": [
    {
     "data": {
      "text/plain": [
       "['Logistic_Regression',\n",
       " 'Random_Forest_Classifier',\n",
       " 'Naive_Bayes_Classifier',\n",
       " 'Decision_Tree_Classifier',\n",
       " 'Support_Vector_Machine',\n",
       " 'KNeighborsClassifier']"
      ]
     },
     "execution_count": 36,
     "metadata": {},
     "output_type": "execute_result"
    }
   ],
   "source": [
    "list(models)"
   ]
  },
  {
   "cell_type": "code",
   "execution_count": 37,
   "id": "6a9d9993",
   "metadata": {},
   "outputs": [
    {
     "data": {
      "text/html": [
       "<style>#sk-container-id-4 {color: black;background-color: white;}#sk-container-id-4 pre{padding: 0;}#sk-container-id-4 div.sk-toggleable {background-color: white;}#sk-container-id-4 label.sk-toggleable__label {cursor: pointer;display: block;width: 100%;margin-bottom: 0;padding: 0.3em;box-sizing: border-box;text-align: center;}#sk-container-id-4 label.sk-toggleable__label-arrow:before {content: \"▸\";float: left;margin-right: 0.25em;color: #696969;}#sk-container-id-4 label.sk-toggleable__label-arrow:hover:before {color: black;}#sk-container-id-4 div.sk-estimator:hover label.sk-toggleable__label-arrow:before {color: black;}#sk-container-id-4 div.sk-toggleable__content {max-height: 0;max-width: 0;overflow: hidden;text-align: left;background-color: #f0f8ff;}#sk-container-id-4 div.sk-toggleable__content pre {margin: 0.2em;color: black;border-radius: 0.25em;background-color: #f0f8ff;}#sk-container-id-4 input.sk-toggleable__control:checked~div.sk-toggleable__content {max-height: 200px;max-width: 100%;overflow: auto;}#sk-container-id-4 input.sk-toggleable__control:checked~label.sk-toggleable__label-arrow:before {content: \"▾\";}#sk-container-id-4 div.sk-estimator input.sk-toggleable__control:checked~label.sk-toggleable__label {background-color: #d4ebff;}#sk-container-id-4 div.sk-label input.sk-toggleable__control:checked~label.sk-toggleable__label {background-color: #d4ebff;}#sk-container-id-4 input.sk-hidden--visually {border: 0;clip: rect(1px 1px 1px 1px);clip: rect(1px, 1px, 1px, 1px);height: 1px;margin: -1px;overflow: hidden;padding: 0;position: absolute;width: 1px;}#sk-container-id-4 div.sk-estimator {font-family: monospace;background-color: #f0f8ff;border: 1px dotted black;border-radius: 0.25em;box-sizing: border-box;margin-bottom: 0.5em;}#sk-container-id-4 div.sk-estimator:hover {background-color: #d4ebff;}#sk-container-id-4 div.sk-parallel-item::after {content: \"\";width: 100%;border-bottom: 1px solid gray;flex-grow: 1;}#sk-container-id-4 div.sk-label:hover label.sk-toggleable__label {background-color: #d4ebff;}#sk-container-id-4 div.sk-serial::before {content: \"\";position: absolute;border-left: 1px solid gray;box-sizing: border-box;top: 0;bottom: 0;left: 50%;z-index: 0;}#sk-container-id-4 div.sk-serial {display: flex;flex-direction: column;align-items: center;background-color: white;padding-right: 0.2em;padding-left: 0.2em;position: relative;}#sk-container-id-4 div.sk-item {position: relative;z-index: 1;}#sk-container-id-4 div.sk-parallel {display: flex;align-items: stretch;justify-content: center;background-color: white;position: relative;}#sk-container-id-4 div.sk-item::before, #sk-container-id-4 div.sk-parallel-item::before {content: \"\";position: absolute;border-left: 1px solid gray;box-sizing: border-box;top: 0;bottom: 0;left: 50%;z-index: -1;}#sk-container-id-4 div.sk-parallel-item {display: flex;flex-direction: column;z-index: 1;position: relative;background-color: white;}#sk-container-id-4 div.sk-parallel-item:first-child::after {align-self: flex-end;width: 50%;}#sk-container-id-4 div.sk-parallel-item:last-child::after {align-self: flex-start;width: 50%;}#sk-container-id-4 div.sk-parallel-item:only-child::after {width: 0;}#sk-container-id-4 div.sk-dashed-wrapped {border: 1px dashed gray;margin: 0 0.4em 0.5em 0.4em;box-sizing: border-box;padding-bottom: 0.4em;background-color: white;}#sk-container-id-4 div.sk-label label {font-family: monospace;font-weight: bold;display: inline-block;line-height: 1.2em;}#sk-container-id-4 div.sk-label-container {text-align: center;}#sk-container-id-4 div.sk-container {/* jupyter's `normalize.less` sets `[hidden] { display: none; }` but bootstrap.min.css set `[hidden] { display: none !important; }` so we also need the `!important` here to be able to override the default hidden behavior on the sphinx rendered scikit-learn.org. See: https://github.com/scikit-learn/scikit-learn/issues/21755 */display: inline-block !important;position: relative;}#sk-container-id-4 div.sk-text-repr-fallback {display: none;}</style><div id=\"sk-container-id-4\" class=\"sk-top-container\"><div class=\"sk-text-repr-fallback\"><pre>LogisticRegression()</pre><b>In a Jupyter environment, please rerun this cell to show the HTML representation or trust the notebook. <br />On GitHub, the HTML representation is unable to render, please try loading this page with nbviewer.org.</b></div><div class=\"sk-container\" hidden><div class=\"sk-item\"><div class=\"sk-estimator sk-toggleable\"><input class=\"sk-toggleable__control sk-hidden--visually\" id=\"sk-estimator-id-14\" type=\"checkbox\" checked><label for=\"sk-estimator-id-14\" class=\"sk-toggleable__label sk-toggleable__label-arrow\">LogisticRegression</label><div class=\"sk-toggleable__content\"><pre>LogisticRegression()</pre></div></div></div></div></div>"
      ],
      "text/plain": [
       "LogisticRegression()"
      ]
     },
     "execution_count": 37,
     "metadata": {},
     "output_type": "execute_result"
    }
   ],
   "source": [
    "list(models.values())[0]"
   ]
  },
  {
   "cell_type": "code",
   "execution_count": 38,
   "id": "4a42e0a3",
   "metadata": {},
   "outputs": [],
   "source": [
    "def Model_Training(model_dict,x_train_data,y_train_data):\n",
    "    acc_report={}\n",
    "    for i in range(len(list(model_dict))):\n",
    "        model=list(model_dict.values())[i]\n",
    "        model.fit(x_train_data,y_train_data)\n",
    "        y_pred_train=model.predict(x_train_data)\n",
    "        report=classification_report(y_pred_train,y_train_data)\n",
    "        accuracy=accuracy_score(y_pred_train,y_train_data)\n",
    "        print(f\"Model:{model}\")\n",
    "        print(f\"accuracy for training data for {model}: {accuracy}\")\n",
    "        print(report)\n",
    "        acc_report[model]=accuracy\n",
    "    return acc_report"
   ]
  },
  {
   "cell_type": "code",
   "execution_count": 39,
   "id": "a703069b",
   "metadata": {},
   "outputs": [
    {
     "name": "stdout",
     "output_type": "stream",
     "text": [
      "Model:LogisticRegression()\n",
      "accuracy for training data for LogisticRegression(): 0.8463653023824068\n",
      "              precision    recall  f1-score   support\n",
      "\n",
      "           0       0.97      0.86      0.91      2992\n",
      "           1       0.32      0.72      0.45       282\n",
      "\n",
      "    accuracy                           0.85      3274\n",
      "   macro avg       0.65      0.79      0.68      3274\n",
      "weighted avg       0.91      0.85      0.87      3274\n",
      "\n",
      "Model:RandomForestClassifier()\n",
      "accuracy for training data for RandomForestClassifier(): 1.0\n",
      "              precision    recall  f1-score   support\n",
      "\n",
      "           0       1.00      1.00      1.00      2647\n",
      "           1       1.00      1.00      1.00       627\n",
      "\n",
      "    accuracy                           1.00      3274\n",
      "   macro avg       1.00      1.00      1.00      3274\n",
      "weighted avg       1.00      1.00      1.00      3274\n",
      "\n",
      "Model:GaussianNB()\n",
      "accuracy for training data for GaussianNB(): 0.8152107513744655\n",
      "              precision    recall  f1-score   support\n",
      "\n",
      "           0       1.00      0.81      0.90      3242\n",
      "           1       0.04      0.84      0.08        32\n",
      "\n",
      "    accuracy                           0.82      3274\n",
      "   macro avg       0.52      0.83      0.49      3274\n",
      "weighted avg       0.99      0.82      0.89      3274\n",
      "\n",
      "Model:DecisionTreeClassifier()\n",
      "accuracy for training data for DecisionTreeClassifier(): 1.0\n",
      "              precision    recall  f1-score   support\n",
      "\n",
      "           0       1.00      1.00      1.00      2647\n",
      "           1       1.00      1.00      1.00       627\n",
      "\n",
      "    accuracy                           1.00      3274\n",
      "   macro avg       1.00      1.00      1.00      3274\n",
      "weighted avg       1.00      1.00      1.00      3274\n",
      "\n",
      "Model:SVC()\n",
      "accuracy for training data for SVC(): 0.8952351863164325\n",
      "              precision    recall  f1-score   support\n",
      "\n",
      "           0       0.99      0.89      0.94      2928\n",
      "           1       0.50      0.91      0.65       346\n",
      "\n",
      "    accuracy                           0.90      3274\n",
      "   macro avg       0.75      0.90      0.79      3274\n",
      "weighted avg       0.94      0.90      0.91      3274\n",
      "\n",
      "Model:KNeighborsClassifier()\n",
      "accuracy for training data for KNeighborsClassifier(): 0.9331093463653024\n",
      "              precision    recall  f1-score   support\n",
      "\n",
      "           0       0.98      0.94      0.96      2782\n",
      "           1       0.72      0.91      0.80       492\n",
      "\n",
      "    accuracy                           0.93      3274\n",
      "   macro avg       0.85      0.93      0.88      3274\n",
      "weighted avg       0.94      0.93      0.94      3274\n",
      "\n"
     ]
    }
   ],
   "source": [
    "report=Model_Training(models,x_train,y_train)"
   ]
  },
  {
   "cell_type": "code",
   "execution_count": 40,
   "id": "6829553b",
   "metadata": {
    "scrolled": true
   },
   "outputs": [
    {
     "data": {
      "text/plain": [
       "{LogisticRegression(): 0.8463653023824068,\n",
       " RandomForestClassifier(): 1.0,\n",
       " GaussianNB(): 0.8152107513744655,\n",
       " DecisionTreeClassifier(): 1.0,\n",
       " SVC(): 0.8952351863164325,\n",
       " KNeighborsClassifier(): 0.9331093463653024}"
      ]
     },
     "execution_count": 40,
     "metadata": {},
     "output_type": "execute_result"
    }
   ],
   "source": [
    "report"
   ]
  },
  {
   "cell_type": "code",
   "execution_count": 41,
   "id": "23a42080",
   "metadata": {},
   "outputs": [],
   "source": [
    "score_data=pd.DataFrame({\n",
    "    \"Models\":list(models),\n",
    "    \"Score\":report.values()\n",
    "})"
   ]
  },
  {
   "cell_type": "code",
   "execution_count": 42,
   "id": "962577fb",
   "metadata": {},
   "outputs": [
    {
     "data": {
      "text/html": [
       "<div>\n",
       "<style scoped>\n",
       "    .dataframe tbody tr th:only-of-type {\n",
       "        vertical-align: middle;\n",
       "    }\n",
       "\n",
       "    .dataframe tbody tr th {\n",
       "        vertical-align: top;\n",
       "    }\n",
       "\n",
       "    .dataframe thead th {\n",
       "        text-align: right;\n",
       "    }\n",
       "</style>\n",
       "<table border=\"1\" class=\"dataframe\">\n",
       "  <thead>\n",
       "    <tr style=\"text-align: right;\">\n",
       "      <th></th>\n",
       "      <th>Models</th>\n",
       "      <th>Score</th>\n",
       "    </tr>\n",
       "  </thead>\n",
       "  <tbody>\n",
       "    <tr>\n",
       "      <th>0</th>\n",
       "      <td>Logistic_Regression</td>\n",
       "      <td>0.846365</td>\n",
       "    </tr>\n",
       "    <tr>\n",
       "      <th>1</th>\n",
       "      <td>Random_Forest_Classifier</td>\n",
       "      <td>1.000000</td>\n",
       "    </tr>\n",
       "    <tr>\n",
       "      <th>2</th>\n",
       "      <td>Naive_Bayes_Classifier</td>\n",
       "      <td>0.815211</td>\n",
       "    </tr>\n",
       "    <tr>\n",
       "      <th>3</th>\n",
       "      <td>Decision_Tree_Classifier</td>\n",
       "      <td>1.000000</td>\n",
       "    </tr>\n",
       "    <tr>\n",
       "      <th>4</th>\n",
       "      <td>Support_Vector_Machine</td>\n",
       "      <td>0.895235</td>\n",
       "    </tr>\n",
       "    <tr>\n",
       "      <th>5</th>\n",
       "      <td>KNeighborsClassifier</td>\n",
       "      <td>0.933109</td>\n",
       "    </tr>\n",
       "  </tbody>\n",
       "</table>\n",
       "</div>"
      ],
      "text/plain": [
       "                     Models     Score\n",
       "0       Logistic_Regression  0.846365\n",
       "1  Random_Forest_Classifier  1.000000\n",
       "2    Naive_Bayes_Classifier  0.815211\n",
       "3  Decision_Tree_Classifier  1.000000\n",
       "4    Support_Vector_Machine  0.895235\n",
       "5      KNeighborsClassifier  0.933109"
      ]
     },
     "execution_count": 42,
     "metadata": {},
     "output_type": "execute_result"
    }
   ],
   "source": [
    "score_data"
   ]
  },
  {
   "cell_type": "code",
   "execution_count": 43,
   "id": "90792648",
   "metadata": {},
   "outputs": [],
   "source": [
    "score_data=score_data.sort_values(\"Score\",ascending=False).reset_index()"
   ]
  },
  {
   "cell_type": "code",
   "execution_count": 44,
   "id": "8d31b38b",
   "metadata": {},
   "outputs": [
    {
     "data": {
      "text/html": [
       "<div>\n",
       "<style scoped>\n",
       "    .dataframe tbody tr th:only-of-type {\n",
       "        vertical-align: middle;\n",
       "    }\n",
       "\n",
       "    .dataframe tbody tr th {\n",
       "        vertical-align: top;\n",
       "    }\n",
       "\n",
       "    .dataframe thead th {\n",
       "        text-align: right;\n",
       "    }\n",
       "</style>\n",
       "<table border=\"1\" class=\"dataframe\">\n",
       "  <thead>\n",
       "    <tr style=\"text-align: right;\">\n",
       "      <th></th>\n",
       "      <th>index</th>\n",
       "      <th>Models</th>\n",
       "      <th>Score</th>\n",
       "    </tr>\n",
       "  </thead>\n",
       "  <tbody>\n",
       "    <tr>\n",
       "      <th>0</th>\n",
       "      <td>1</td>\n",
       "      <td>Random_Forest_Classifier</td>\n",
       "      <td>1.000000</td>\n",
       "    </tr>\n",
       "    <tr>\n",
       "      <th>1</th>\n",
       "      <td>3</td>\n",
       "      <td>Decision_Tree_Classifier</td>\n",
       "      <td>1.000000</td>\n",
       "    </tr>\n",
       "    <tr>\n",
       "      <th>2</th>\n",
       "      <td>5</td>\n",
       "      <td>KNeighborsClassifier</td>\n",
       "      <td>0.933109</td>\n",
       "    </tr>\n",
       "    <tr>\n",
       "      <th>3</th>\n",
       "      <td>4</td>\n",
       "      <td>Support_Vector_Machine</td>\n",
       "      <td>0.895235</td>\n",
       "    </tr>\n",
       "    <tr>\n",
       "      <th>4</th>\n",
       "      <td>0</td>\n",
       "      <td>Logistic_Regression</td>\n",
       "      <td>0.846365</td>\n",
       "    </tr>\n",
       "    <tr>\n",
       "      <th>5</th>\n",
       "      <td>2</td>\n",
       "      <td>Naive_Bayes_Classifier</td>\n",
       "      <td>0.815211</td>\n",
       "    </tr>\n",
       "  </tbody>\n",
       "</table>\n",
       "</div>"
      ],
      "text/plain": [
       "   index                    Models     Score\n",
       "0      1  Random_Forest_Classifier  1.000000\n",
       "1      3  Decision_Tree_Classifier  1.000000\n",
       "2      5      KNeighborsClassifier  0.933109\n",
       "3      4    Support_Vector_Machine  0.895235\n",
       "4      0       Logistic_Regression  0.846365\n",
       "5      2    Naive_Bayes_Classifier  0.815211"
      ]
     },
     "execution_count": 44,
     "metadata": {},
     "output_type": "execute_result"
    }
   ],
   "source": [
    "score_data"
   ]
  },
  {
   "cell_type": "code",
   "execution_count": 45,
   "id": "f10c8fb6",
   "metadata": {},
   "outputs": [
    {
     "data": {
      "text/plain": [
       "<Axes: xlabel='Score', ylabel='Models'>"
      ]
     },
     "execution_count": 45,
     "metadata": {},
     "output_type": "execute_result"
    },
    {
     "data": {
      "image/png": "[encoded data removed]",
      "text/plain": [
       "<Figure size 640x480 with 1 Axes>"
      ]
     },
     "metadata": {},
     "output_type": "display_data"
    }
   ],
   "source": [
    "sns.barplot(x=score_data[\"Score\"],y=score_data[\"Models\"])"
   ]
  },
  {
   "cell_type": "code",
   "execution_count": 46,
   "id": "3fd77093",
   "metadata": {},
   "outputs": [],
   "source": [
    "best_model_name=score_data[\"Models\"][0]"
   ]
  },
  {
   "cell_type": "code",
   "execution_count": 47,
   "id": "05010831",
   "metadata": {},
   "outputs": [
    {
     "data": {
      "text/plain": [
       "'Random_Forest_Classifier'"
      ]
     },
     "execution_count": 47,
     "metadata": {},
     "output_type": "execute_result"
    }
   ],
   "source": [
    "best_model_name"
   ]
  },
  {
   "cell_type": "code",
   "execution_count": 48,
   "id": "29e470a0",
   "metadata": {},
   "outputs": [],
   "source": [
    "Best_Model=models[best_model_name]"
   ]
  },
  {
   "cell_type": "code",
   "execution_count": 49,
   "id": "1565265f",
   "metadata": {},
   "outputs": [
    {
     "data": {
      "text/plain": [
       "1.0"
      ]
     },
     "execution_count": 49,
     "metadata": {},
     "output_type": "execute_result"
    }
   ],
   "source": [
    "Best_Model.score(x_train,y_train)"
   ]
  },
  {
   "cell_type": "code",
   "execution_count": 50,
   "id": "44404cd1",
   "metadata": {},
   "outputs": [
    {
     "data": {
      "text/plain": [
       "0.909541511771995"
      ]
     },
     "execution_count": 50,
     "metadata": {},
     "output_type": "execute_result"
    }
   ],
   "source": [
    "Best_Model.score(x_test,y_test)"
   ]
  },
  {
   "cell_type": "code",
   "execution_count": 51,
   "id": "956d2f71",
   "metadata": {},
   "outputs": [
    {
     "data": {
      "text/html": [
       "<div>\n",
       "<style scoped>\n",
       "    .dataframe tbody tr th:only-of-type {\n",
       "        vertical-align: middle;\n",
       "    }\n",
       "\n",
       "    .dataframe tbody tr th {\n",
       "        vertical-align: top;\n",
       "    }\n",
       "\n",
       "    .dataframe thead th {\n",
       "        text-align: right;\n",
       "    }\n",
       "</style>\n",
       "<table border=\"1\" class=\"dataframe\">\n",
       "  <thead>\n",
       "    <tr style=\"text-align: right;\">\n",
       "      <th></th>\n",
       "      <th>index</th>\n",
       "      <th>Models</th>\n",
       "      <th>Score</th>\n",
       "    </tr>\n",
       "  </thead>\n",
       "  <tbody>\n",
       "    <tr>\n",
       "      <th>0</th>\n",
       "      <td>1</td>\n",
       "      <td>Random_Forest_Classifier</td>\n",
       "      <td>1.000000</td>\n",
       "    </tr>\n",
       "    <tr>\n",
       "      <th>1</th>\n",
       "      <td>3</td>\n",
       "      <td>Decision_Tree_Classifier</td>\n",
       "      <td>1.000000</td>\n",
       "    </tr>\n",
       "    <tr>\n",
       "      <th>2</th>\n",
       "      <td>5</td>\n",
       "      <td>KNeighborsClassifier</td>\n",
       "      <td>0.933109</td>\n",
       "    </tr>\n",
       "    <tr>\n",
       "      <th>3</th>\n",
       "      <td>4</td>\n",
       "      <td>Support_Vector_Machine</td>\n",
       "      <td>0.895235</td>\n",
       "    </tr>\n",
       "    <tr>\n",
       "      <th>4</th>\n",
       "      <td>0</td>\n",
       "      <td>Logistic_Regression</td>\n",
       "      <td>0.846365</td>\n",
       "    </tr>\n",
       "    <tr>\n",
       "      <th>5</th>\n",
       "      <td>2</td>\n",
       "      <td>Naive_Bayes_Classifier</td>\n",
       "      <td>0.815211</td>\n",
       "    </tr>\n",
       "  </tbody>\n",
       "</table>\n",
       "</div>"
      ],
      "text/plain": [
       "   index                    Models     Score\n",
       "0      1  Random_Forest_Classifier  1.000000\n",
       "1      3  Decision_Tree_Classifier  1.000000\n",
       "2      5      KNeighborsClassifier  0.933109\n",
       "3      4    Support_Vector_Machine  0.895235\n",
       "4      0       Logistic_Regression  0.846365\n",
       "5      2    Naive_Bayes_Classifier  0.815211"
      ]
     },
     "execution_count": 51,
     "metadata": {},
     "output_type": "execute_result"
    }
   ],
   "source": [
    "score_data"
   ]
  },
  {
   "cell_type": "markdown",
   "id": "a3f04a7d",
   "metadata": {},
   "source": [
    "##### Here we can see that there is some overfitting in the model so we need to perform Hyperparametertuning"
   ]
  },
  {
   "cell_type": "markdown",
   "id": "213d94f5",
   "metadata": {},
   "source": [
    "## HyperparameterTuning"
   ]
  },
  {
   "cell_type": "code",
   "execution_count": 52,
   "id": "5c6e274f",
   "metadata": {},
   "outputs": [
    {
     "data": {
      "text/plain": [
       "4"
      ]
     },
     "execution_count": 52,
     "metadata": {},
     "output_type": "execute_result"
    }
   ],
   "source": [
    "from random import randint\n",
    "randint(1,9)"
   ]
  },
  {
   "cell_type": "code",
   "execution_count": 53,
   "id": "ee7e5960",
   "metadata": {},
   "outputs": [],
   "source": [
    "for i in  range(len(list(models))):\n",
    "    model_name=list(models.keys())[i]\n",
    "    model=list(models.values())[i]\n",
    "    param={\n",
    "        \"Random_Forest_Classifier\":{\n",
    "            'criterion':['squared_error', 'friedman_mse', 'absolute_error', 'poisson'],\n",
    "                    'max_features':['sqrt','log2'],\n",
    "                    'n_estimators': [8,16,32,64,128,256] },\n",
    "        \n",
    "        \"Decision_Tree_Classifier\":{\n",
    "           'criterion':['squared_error', 'friedman_mse', 'absolute_error', 'poisson'],\n",
    "                    'splitter':['best','random'],\n",
    "                    'max_features':['sqrt','log2']},\n",
    "        \n",
    "        \"KNeighborsClassifier\":{'n_neighbors' : [5,7,9,11,13,15],\n",
    "               'weights' : ['uniform','distance'],\n",
    "               'metric' : ['minkowski','euclidean','manhattan']},\n",
    "        \n",
    "        \"Support_Vector_Machine\":{\n",
    "            'C': [0.1, 1, 10, 100, 1000], \n",
    "              'gamma': [1, 0.1, 0.01, 0.001, 0.0001],\n",
    "              'kernel': ['rbf']},\n",
    "        \n",
    "        \"Logistic_Regression\":{},\n",
    "        \n",
    "        \"Naive_Bayes_Classifier\":{}\n",
    "    }\n",
    "    \n",
    "    HT_model=RandomizedSearchCV(model, param[model_name], cv = 5)\n",
    "    \n",
    "\n"
   ]
  },
  {
   "cell_type": "code",
   "execution_count": 54,
   "id": "8f07a950",
   "metadata": {},
   "outputs": [
    {
     "data": {
      "text/html": [
       "<style>#sk-container-id-5 {color: black;background-color: white;}#sk-container-id-5 pre{padding: 0;}#sk-container-id-5 div.sk-toggleable {background-color: white;}#sk-container-id-5 label.sk-toggleable__label {cursor: pointer;display: block;width: 100%;margin-bottom: 0;padding: 0.3em;box-sizing: border-box;text-align: center;}#sk-container-id-5 label.sk-toggleable__label-arrow:before {content: \"▸\";float: left;margin-right: 0.25em;color: #696969;}#sk-container-id-5 label.sk-toggleable__label-arrow:hover:before {color: black;}#sk-container-id-5 div.sk-estimator:hover label.sk-toggleable__label-arrow:before {color: black;}#sk-container-id-5 div.sk-toggleable__content {max-height: 0;max-width: 0;overflow: hidden;text-align: left;background-color: #f0f8ff;}#sk-container-id-5 div.sk-toggleable__content pre {margin: 0.2em;color: black;border-radius: 0.25em;background-color: #f0f8ff;}#sk-container-id-5 input.sk-toggleable__control:checked~div.sk-toggleable__content {max-height: 200px;max-width: 100%;overflow: auto;}#sk-container-id-5 input.sk-toggleable__control:checked~label.sk-toggleable__label-arrow:before {content: \"▾\";}#sk-container-id-5 div.sk-estimator input.sk-toggleable__control:checked~label.sk-toggleable__label {background-color: #d4ebff;}#sk-container-id-5 div.sk-label input.sk-toggleable__control:checked~label.sk-toggleable__label {background-color: #d4ebff;}#sk-container-id-5 input.sk-hidden--visually {border: 0;clip: rect(1px 1px 1px 1px);clip: rect(1px, 1px, 1px, 1px);height: 1px;margin: -1px;overflow: hidden;padding: 0;position: absolute;width: 1px;}#sk-container-id-5 div.sk-estimator {font-family: monospace;background-color: #f0f8ff;border: 1px dotted black;border-radius: 0.25em;box-sizing: border-box;margin-bottom: 0.5em;}#sk-container-id-5 div.sk-estimator:hover {background-color: #d4ebff;}#sk-container-id-5 div.sk-parallel-item::after {content: \"\";width: 100%;border-bottom: 1px solid gray;flex-grow: 1;}#sk-container-id-5 div.sk-label:hover label.sk-toggleable__label {background-color: #d4ebff;}#sk-container-id-5 div.sk-serial::before {content: \"\";position: absolute;border-left: 1px solid gray;box-sizing: border-box;top: 0;bottom: 0;left: 50%;z-index: 0;}#sk-container-id-5 div.sk-serial {display: flex;flex-direction: column;align-items: center;background-color: white;padding-right: 0.2em;padding-left: 0.2em;position: relative;}#sk-container-id-5 div.sk-item {position: relative;z-index: 1;}#sk-container-id-5 div.sk-parallel {display: flex;align-items: stretch;justify-content: center;background-color: white;position: relative;}#sk-container-id-5 div.sk-item::before, #sk-container-id-5 div.sk-parallel-item::before {content: \"\";position: absolute;border-left: 1px solid gray;box-sizing: border-box;top: 0;bottom: 0;left: 50%;z-index: -1;}#sk-container-id-5 div.sk-parallel-item {display: flex;flex-direction: column;z-index: 1;position: relative;background-color: white;}#sk-container-id-5 div.sk-parallel-item:first-child::after {align-self: flex-end;width: 50%;}#sk-container-id-5 div.sk-parallel-item:last-child::after {align-self: flex-start;width: 50%;}#sk-container-id-5 div.sk-parallel-item:only-child::after {width: 0;}#sk-container-id-5 div.sk-dashed-wrapped {border: 1px dashed gray;margin: 0 0.4em 0.5em 0.4em;box-sizing: border-box;padding-bottom: 0.4em;background-color: white;}#sk-container-id-5 div.sk-label label {font-family: monospace;font-weight: bold;display: inline-block;line-height: 1.2em;}#sk-container-id-5 div.sk-label-container {text-align: center;}#sk-container-id-5 div.sk-container {/* jupyter's `normalize.less` sets `[hidden] { display: none; }` but bootstrap.min.css set `[hidden] { display: none !important; }` so we also need the `!important` here to be able to override the default hidden behavior on the sphinx rendered scikit-learn.org. See: https://github.com/scikit-learn/scikit-learn/issues/21755 */display: inline-block !important;position: relative;}#sk-container-id-5 div.sk-text-repr-fallback {display: none;}</style><div id=\"sk-container-id-5\" class=\"sk-top-container\"><div class=\"sk-text-repr-fallback\"><pre>RandomizedSearchCV(cv=5, estimator=KNeighborsClassifier(),\n",
       "                   param_distributions={&#x27;metric&#x27;: [&#x27;minkowski&#x27;, &#x27;euclidean&#x27;,\n",
       "                                                   &#x27;manhattan&#x27;],\n",
       "                                        &#x27;n_neighbors&#x27;: [5, 7, 9, 11, 13, 15],\n",
       "                                        &#x27;weights&#x27;: [&#x27;uniform&#x27;, &#x27;distance&#x27;]})</pre><b>In a Jupyter environment, please rerun this cell to show the HTML representation or trust the notebook. <br />On GitHub, the HTML representation is unable to render, please try loading this page with nbviewer.org.</b></div><div class=\"sk-container\" hidden><div class=\"sk-item sk-dashed-wrapped\"><div class=\"sk-label-container\"><div class=\"sk-label sk-toggleable\"><input class=\"sk-toggleable__control sk-hidden--visually\" id=\"sk-estimator-id-15\" type=\"checkbox\" ><label for=\"sk-estimator-id-15\" class=\"sk-toggleable__label sk-toggleable__label-arrow\">RandomizedSearchCV</label><div class=\"sk-toggleable__content\"><pre>RandomizedSearchCV(cv=5, estimator=KNeighborsClassifier(),\n",
       "                   param_distributions={&#x27;metric&#x27;: [&#x27;minkowski&#x27;, &#x27;euclidean&#x27;,\n",
       "                                                   &#x27;manhattan&#x27;],\n",
       "                                        &#x27;n_neighbors&#x27;: [5, 7, 9, 11, 13, 15],\n",
       "                                        &#x27;weights&#x27;: [&#x27;uniform&#x27;, &#x27;distance&#x27;]})</pre></div></div></div><div class=\"sk-parallel\"><div class=\"sk-parallel-item\"><div class=\"sk-item\"><div class=\"sk-label-container\"><div class=\"sk-label sk-toggleable\"><input class=\"sk-toggleable__control sk-hidden--visually\" id=\"sk-estimator-id-16\" type=\"checkbox\" ><label for=\"sk-estimator-id-16\" class=\"sk-toggleable__label sk-toggleable__label-arrow\">estimator: KNeighborsClassifier</label><div class=\"sk-toggleable__content\"><pre>KNeighborsClassifier()</pre></div></div></div><div class=\"sk-serial\"><div class=\"sk-item\"><div class=\"sk-estimator sk-toggleable\"><input class=\"sk-toggleable__control sk-hidden--visually\" id=\"sk-estimator-id-17\" type=\"checkbox\" ><label for=\"sk-estimator-id-17\" class=\"sk-toggleable__label sk-toggleable__label-arrow\">KNeighborsClassifier</label><div class=\"sk-toggleable__content\"><pre>KNeighborsClassifier()</pre></div></div></div></div></div></div></div></div></div></div>"
      ],
      "text/plain": [
       "RandomizedSearchCV(cv=5, estimator=KNeighborsClassifier(),\n",
       "                   param_distributions={'metric': ['minkowski', 'euclidean',\n",
       "                                                   'manhattan'],\n",
       "                                        'n_neighbors': [5, 7, 9, 11, 13, 15],\n",
       "                                        'weights': ['uniform', 'distance']})"
      ]
     },
     "execution_count": 54,
     "metadata": {},
     "output_type": "execute_result"
    }
   ],
   "source": [
    "HT_model.fit(x_train,y_train)"
   ]
  },
  {
   "cell_type": "code",
   "execution_count": 55,
   "id": "99568c72",
   "metadata": {},
   "outputs": [
    {
     "data": {
      "text/html": [
       "<style>#sk-container-id-6 {color: black;background-color: white;}#sk-container-id-6 pre{padding: 0;}#sk-container-id-6 div.sk-toggleable {background-color: white;}#sk-container-id-6 label.sk-toggleable__label {cursor: pointer;display: block;width: 100%;margin-bottom: 0;padding: 0.3em;box-sizing: border-box;text-align: center;}#sk-container-id-6 label.sk-toggleable__label-arrow:before {content: \"▸\";float: left;margin-right: 0.25em;color: #696969;}#sk-container-id-6 label.sk-toggleable__label-arrow:hover:before {color: black;}#sk-container-id-6 div.sk-estimator:hover label.sk-toggleable__label-arrow:before {color: black;}#sk-container-id-6 div.sk-toggleable__content {max-height: 0;max-width: 0;overflow: hidden;text-align: left;background-color: #f0f8ff;}#sk-container-id-6 div.sk-toggleable__content pre {margin: 0.2em;color: black;border-radius: 0.25em;background-color: #f0f8ff;}#sk-container-id-6 input.sk-toggleable__control:checked~div.sk-toggleable__content {max-height: 200px;max-width: 100%;overflow: auto;}#sk-container-id-6 input.sk-toggleable__control:checked~label.sk-toggleable__label-arrow:before {content: \"▾\";}#sk-container-id-6 div.sk-estimator input.sk-toggleable__control:checked~label.sk-toggleable__label {background-color: #d4ebff;}#sk-container-id-6 div.sk-label input.sk-toggleable__control:checked~label.sk-toggleable__label {background-color: #d4ebff;}#sk-container-id-6 input.sk-hidden--visually {border: 0;clip: rect(1px 1px 1px 1px);clip: rect(1px, 1px, 1px, 1px);height: 1px;margin: -1px;overflow: hidden;padding: 0;position: absolute;width: 1px;}#sk-container-id-6 div.sk-estimator {font-family: monospace;background-color: #f0f8ff;border: 1px dotted black;border-radius: 0.25em;box-sizing: border-box;margin-bottom: 0.5em;}#sk-container-id-6 div.sk-estimator:hover {background-color: #d4ebff;}#sk-container-id-6 div.sk-parallel-item::after {content: \"\";width: 100%;border-bottom: 1px solid gray;flex-grow: 1;}#sk-container-id-6 div.sk-label:hover label.sk-toggleable__label {background-color: #d4ebff;}#sk-container-id-6 div.sk-serial::before {content: \"\";position: absolute;border-left: 1px solid gray;box-sizing: border-box;top: 0;bottom: 0;left: 50%;z-index: 0;}#sk-container-id-6 div.sk-serial {display: flex;flex-direction: column;align-items: center;background-color: white;padding-right: 0.2em;padding-left: 0.2em;position: relative;}#sk-container-id-6 div.sk-item {position: relative;z-index: 1;}#sk-container-id-6 div.sk-parallel {display: flex;align-items: stretch;justify-content: center;background-color: white;position: relative;}#sk-container-id-6 div.sk-item::before, #sk-container-id-6 div.sk-parallel-item::before {content: \"\";position: absolute;border-left: 1px solid gray;box-sizing: border-box;top: 0;bottom: 0;left: 50%;z-index: -1;}#sk-container-id-6 div.sk-parallel-item {display: flex;flex-direction: column;z-index: 1;position: relative;background-color: white;}#sk-container-id-6 div.sk-parallel-item:first-child::after {align-self: flex-end;width: 50%;}#sk-container-id-6 div.sk-parallel-item:last-child::after {align-self: flex-start;width: 50%;}#sk-container-id-6 div.sk-parallel-item:only-child::after {width: 0;}#sk-container-id-6 div.sk-dashed-wrapped {border: 1px dashed gray;margin: 0 0.4em 0.5em 0.4em;box-sizing: border-box;padding-bottom: 0.4em;background-color: white;}#sk-container-id-6 div.sk-label label {font-family: monospace;font-weight: bold;display: inline-block;line-height: 1.2em;}#sk-container-id-6 div.sk-label-container {text-align: center;}#sk-container-id-6 div.sk-container {/* jupyter's `normalize.less` sets `[hidden] { display: none; }` but bootstrap.min.css set `[hidden] { display: none !important; }` so we also need the `!important` here to be able to override the default hidden behavior on the sphinx rendered scikit-learn.org. See: https://github.com/scikit-learn/scikit-learn/issues/21755 */display: inline-block !important;position: relative;}#sk-container-id-6 div.sk-text-repr-fallback {display: none;}</style><div id=\"sk-container-id-6\" class=\"sk-top-container\"><div class=\"sk-text-repr-fallback\"><pre>KNeighborsClassifier()</pre><b>In a Jupyter environment, please rerun this cell to show the HTML representation or trust the notebook. <br />On GitHub, the HTML representation is unable to render, please try loading this page with nbviewer.org.</b></div><div class=\"sk-container\" hidden><div class=\"sk-item\"><div class=\"sk-estimator sk-toggleable\"><input class=\"sk-toggleable__control sk-hidden--visually\" id=\"sk-estimator-id-18\" type=\"checkbox\" checked><label for=\"sk-estimator-id-18\" class=\"sk-toggleable__label sk-toggleable__label-arrow\">KNeighborsClassifier</label><div class=\"sk-toggleable__content\"><pre>KNeighborsClassifier()</pre></div></div></div></div></div>"
      ],
      "text/plain": [
       "KNeighborsClassifier()"
      ]
     },
     "execution_count": 55,
     "metadata": {},
     "output_type": "execute_result"
    }
   ],
   "source": [
    "HT_model.best_estimator_"
   ]
  },
  {
   "cell_type": "code",
   "execution_count": 56,
   "id": "65dcc917",
   "metadata": {},
   "outputs": [
    {
     "data": {
      "text/plain": [
       "{'weights': 'uniform', 'n_neighbors': 5, 'metric': 'minkowski'}"
      ]
     },
     "execution_count": 56,
     "metadata": {},
     "output_type": "execute_result"
    }
   ],
   "source": [
    "HT_model.best_params_"
   ]
  },
  {
   "cell_type": "code",
   "execution_count": 57,
   "id": "e7e4a62c",
   "metadata": {},
   "outputs": [
    {
     "data": {
      "text/plain": [
       "0.8698811774867521"
      ]
     },
     "execution_count": 57,
     "metadata": {},
     "output_type": "execute_result"
    }
   ],
   "source": [
    "HT_model.best_score_"
   ]
  },
  {
   "cell_type": "code",
   "execution_count": 58,
   "id": "24c5e25d",
   "metadata": {},
   "outputs": [
    {
     "data": {
      "text/plain": [
       "0.9331093463653024"
      ]
     },
     "execution_count": 58,
     "metadata": {},
     "output_type": "execute_result"
    }
   ],
   "source": [
    "HT_model.score(x_train,y_train)"
   ]
  },
  {
   "cell_type": "code",
   "execution_count": 61,
   "id": "8e53243b",
   "metadata": {},
   "outputs": [
    {
     "data": {
      "text/plain": [
       "0.8909541511771994"
      ]
     },
     "execution_count": 61,
     "metadata": {},
     "output_type": "execute_result"
    }
   ],
   "source": [
    "HT_model.score(x_test,y_test)"
   ]
  },
  {
   "cell_type": "code",
   "execution_count": 62,
   "id": "c6cc848b",
   "metadata": {},
   "outputs": [],
   "source": [
    "with open (\"Model.pkl\",\"wb\") as f:\n",
    "    pickle.dump(HT_model,f)"
   ]
  },
  {
   "cell_type": "code",
   "execution_count": 65,
   "id": "1ef23124",
   "metadata": {},
   "outputs": [],
   "source": [
    "with open(\"Model.pkl\",\"rb\") as f:\n",
    "    model=pickle.load(f)"
   ]
  },
  {
   "cell_type": "code",
   "execution_count": 66,
   "id": "b132d2c6",
   "metadata": {},
   "outputs": [
    {
     "data": {
      "text/plain": [
       "0.9331093463653024"
      ]
     },
     "execution_count": 66,
     "metadata": {},
     "output_type": "execute_result"
    }
   ],
   "source": [
    "model.score(x_train,y_train)"
   ]
  },
  {
   "cell_type": "code",
   "execution_count": 67,
   "id": "7b6ca38e",
   "metadata": {},
   "outputs": [
    {
     "data": {
      "text/plain": [
       "0.8909541511771994"
      ]
     },
     "execution_count": 67,
     "metadata": {},
     "output_type": "execute_result"
    }
   ],
   "source": [
    "model.score(x_test,y_test)"
   ]
  },
  {
   "cell_type": "markdown",
   "id": "23e44ee1",
   "metadata": {},
   "source": [
    "#### Predicting with New datapoints"
   ]
  },
  {
   "cell_type": "code",
   "execution_count": 80,
   "id": "71778788",
   "metadata": {},
   "outputs": [
    {
     "data": {
      "text/html": [
       "<div>\n",
       "<style scoped>\n",
       "    .dataframe tbody tr th:only-of-type {\n",
       "        vertical-align: middle;\n",
       "    }\n",
       "\n",
       "    .dataframe tbody tr th {\n",
       "        vertical-align: top;\n",
       "    }\n",
       "\n",
       "    .dataframe thead th {\n",
       "        text-align: right;\n",
       "    }\n",
       "</style>\n",
       "<table border=\"1\" class=\"dataframe\">\n",
       "  <thead>\n",
       "    <tr style=\"text-align: right;\">\n",
       "      <th></th>\n",
       "      <th>Age</th>\n",
       "      <th>TypeofContact</th>\n",
       "      <th>CityTier</th>\n",
       "      <th>DurationOfPitch</th>\n",
       "      <th>Occupation</th>\n",
       "      <th>Gender</th>\n",
       "      <th>NumberOfPersonVisiting</th>\n",
       "      <th>NumberOfFollowups</th>\n",
       "      <th>ProductPitched</th>\n",
       "      <th>PreferredPropertyStar</th>\n",
       "      <th>MaritalStatus</th>\n",
       "      <th>NumberOfTrips</th>\n",
       "      <th>Passport</th>\n",
       "      <th>PitchSatisfactionScore</th>\n",
       "      <th>OwnCar</th>\n",
       "      <th>NumberOfChildrenVisiting</th>\n",
       "      <th>Designation</th>\n",
       "      <th>MonthlyIncome</th>\n",
       "    </tr>\n",
       "  </thead>\n",
       "  <tbody>\n",
       "    <tr>\n",
       "      <th>2938</th>\n",
       "      <td>35.0</td>\n",
       "      <td>Self Enquiry</td>\n",
       "      <td>3</td>\n",
       "      <td>21.0</td>\n",
       "      <td>Large Business</td>\n",
       "      <td>Female</td>\n",
       "      <td>3</td>\n",
       "      <td>4.0</td>\n",
       "      <td>Basic</td>\n",
       "      <td>3.0</td>\n",
       "      <td>Married</td>\n",
       "      <td>3.0</td>\n",
       "      <td>1</td>\n",
       "      <td>5</td>\n",
       "      <td>1</td>\n",
       "      <td>2.0</td>\n",
       "      <td>Executive</td>\n",
       "      <td>21257.0</td>\n",
       "    </tr>\n",
       "  </tbody>\n",
       "</table>\n",
       "</div>"
      ],
      "text/plain": [
       "       Age TypeofContact  CityTier  DurationOfPitch      Occupation  Gender  \\\n",
       "2938  35.0  Self Enquiry         3             21.0  Large Business  Female   \n",
       "\n",
       "      NumberOfPersonVisiting  NumberOfFollowups ProductPitched  \\\n",
       "2938                       3                4.0          Basic   \n",
       "\n",
       "      PreferredPropertyStar MaritalStatus  NumberOfTrips  Passport  \\\n",
       "2938                    3.0       Married            3.0         1   \n",
       "\n",
       "      PitchSatisfactionScore  OwnCar  NumberOfChildrenVisiting Designation  \\\n",
       "2938                       5       1                       2.0   Executive   \n",
       "\n",
       "      MonthlyIncome  \n",
       "2938        21257.0  "
      ]
     },
     "execution_count": 80,
     "metadata": {},
     "output_type": "execute_result"
    }
   ],
   "source": [
    "data.loc[2938:2938,\"Age\":]"
   ]
  },
  {
   "cell_type": "code",
   "execution_count": 100,
   "id": "3c4963d3",
   "metadata": {},
   "outputs": [],
   "source": [
    "new_data_points=np.array(data.loc[2938,\"Age\":])"
   ]
  },
  {
   "cell_type": "code",
   "execution_count": 101,
   "id": "57f3bc9d",
   "metadata": {},
   "outputs": [
    {
     "data": {
      "text/plain": [
       "array([35.0, 'Self Enquiry', 3, 21.0, 'Large Business', 'Female', 3, 4.0,\n",
       "       'Basic', 3.0, 'Married', 3.0, 1, 5, 1, 2.0, 'Executive', 21257.0],\n",
       "      dtype=object)"
      ]
     },
     "execution_count": 101,
     "metadata": {},
     "output_type": "execute_result"
    }
   ],
   "source": [
    "new_data_points=new_data_points\n",
    "new_data_points"
   ]
  },
  {
   "cell_type": "code",
   "execution_count": 106,
   "id": "2fe90437",
   "metadata": {},
   "outputs": [],
   "source": [
    "df_for_model=pd.DataFrame()"
   ]
  },
  {
   "cell_type": "code",
   "execution_count": 107,
   "id": "a65c63e0",
   "metadata": {},
   "outputs": [
    {
     "data": {
      "text/html": [
       "<div>\n",
       "<style scoped>\n",
       "    .dataframe tbody tr th:only-of-type {\n",
       "        vertical-align: middle;\n",
       "    }\n",
       "\n",
       "    .dataframe tbody tr th {\n",
       "        vertical-align: top;\n",
       "    }\n",
       "\n",
       "    .dataframe thead th {\n",
       "        text-align: right;\n",
       "    }\n",
       "</style>\n",
       "<table border=\"1\" class=\"dataframe\">\n",
       "  <thead>\n",
       "    <tr style=\"text-align: right;\">\n",
       "      <th></th>\n",
       "    </tr>\n",
       "  </thead>\n",
       "  <tbody>\n",
       "  </tbody>\n",
       "</table>\n",
       "</div>"
      ],
      "text/plain": [
       "Empty DataFrame\n",
       "Columns: []\n",
       "Index: []"
      ]
     },
     "execution_count": 107,
     "metadata": {},
     "output_type": "execute_result"
    }
   ],
   "source": [
    "df_for_model"
   ]
  },
  {
   "cell_type": "code",
   "execution_count": 104,
   "id": "566acc12",
   "metadata": {},
   "outputs": [
    {
     "data": {
      "text/plain": [
       "18"
      ]
     },
     "execution_count": 104,
     "metadata": {},
     "output_type": "execute_result"
    }
   ],
   "source": [
    "len(new_data_points)"
   ]
  },
  {
   "cell_type": "code",
   "execution_count": 105,
   "id": "060b6d23",
   "metadata": {},
   "outputs": [
    {
     "name": "stdout",
     "output_type": "stream",
     "text": [
      "18\n"
     ]
    },
    {
     "data": {
      "text/plain": [
       "Index(['Age', 'TypeofContact', 'CityTier', 'DurationOfPitch', 'Occupation',\n",
       "       'Gender', 'NumberOfPersonVisiting', 'NumberOfFollowups',\n",
       "       'ProductPitched', 'PreferredPropertyStar', 'MaritalStatus',\n",
       "       'NumberOfTrips', 'Passport', 'PitchSatisfactionScore', 'OwnCar',\n",
       "       'NumberOfChildrenVisiting', 'Designation', 'MonthlyIncome'],\n",
       "      dtype='object')"
      ]
     },
     "execution_count": 105,
     "metadata": {},
     "output_type": "execute_result"
    }
   ],
   "source": [
    "data_columns=x.columns\n",
    "print(len(data_columns))\n",
    "data_columns"
   ]
  },
  {
   "cell_type": "code",
   "execution_count": 108,
   "id": "52b715d8",
   "metadata": {},
   "outputs": [],
   "source": [
    "for i,j in zip(data_columns,new_data_points):\n",
    "    df_for_model[i]=[j]"
   ]
  },
  {
   "cell_type": "code",
   "execution_count": 109,
   "id": "9d558249",
   "metadata": {},
   "outputs": [
    {
     "data": {
      "text/html": [
       "<div>\n",
       "<style scoped>\n",
       "    .dataframe tbody tr th:only-of-type {\n",
       "        vertical-align: middle;\n",
       "    }\n",
       "\n",
       "    .dataframe tbody tr th {\n",
       "        vertical-align: top;\n",
       "    }\n",
       "\n",
       "    .dataframe thead th {\n",
       "        text-align: right;\n",
       "    }\n",
       "</style>\n",
       "<table border=\"1\" class=\"dataframe\">\n",
       "  <thead>\n",
       "    <tr style=\"text-align: right;\">\n",
       "      <th></th>\n",
       "      <th>Age</th>\n",
       "      <th>TypeofContact</th>\n",
       "      <th>CityTier</th>\n",
       "      <th>DurationOfPitch</th>\n",
       "      <th>Occupation</th>\n",
       "      <th>Gender</th>\n",
       "      <th>NumberOfPersonVisiting</th>\n",
       "      <th>NumberOfFollowups</th>\n",
       "      <th>ProductPitched</th>\n",
       "      <th>PreferredPropertyStar</th>\n",
       "      <th>MaritalStatus</th>\n",
       "      <th>NumberOfTrips</th>\n",
       "      <th>Passport</th>\n",
       "      <th>PitchSatisfactionScore</th>\n",
       "      <th>OwnCar</th>\n",
       "      <th>NumberOfChildrenVisiting</th>\n",
       "      <th>Designation</th>\n",
       "      <th>MonthlyIncome</th>\n",
       "    </tr>\n",
       "  </thead>\n",
       "  <tbody>\n",
       "    <tr>\n",
       "      <th>0</th>\n",
       "      <td>35.0</td>\n",
       "      <td>Self Enquiry</td>\n",
       "      <td>3</td>\n",
       "      <td>21.0</td>\n",
       "      <td>Large Business</td>\n",
       "      <td>Female</td>\n",
       "      <td>3</td>\n",
       "      <td>4.0</td>\n",
       "      <td>Basic</td>\n",
       "      <td>3.0</td>\n",
       "      <td>Married</td>\n",
       "      <td>3.0</td>\n",
       "      <td>1</td>\n",
       "      <td>5</td>\n",
       "      <td>1</td>\n",
       "      <td>2.0</td>\n",
       "      <td>Executive</td>\n",
       "      <td>21257.0</td>\n",
       "    </tr>\n",
       "  </tbody>\n",
       "</table>\n",
       "</div>"
      ],
      "text/plain": [
       "    Age TypeofContact  CityTier  DurationOfPitch      Occupation  Gender  \\\n",
       "0  35.0  Self Enquiry         3             21.0  Large Business  Female   \n",
       "\n",
       "   NumberOfPersonVisiting  NumberOfFollowups ProductPitched  \\\n",
       "0                       3                4.0          Basic   \n",
       "\n",
       "   PreferredPropertyStar MaritalStatus  NumberOfTrips  Passport  \\\n",
       "0                    3.0       Married            3.0         1   \n",
       "\n",
       "   PitchSatisfactionScore  OwnCar  NumberOfChildrenVisiting Designation  \\\n",
       "0                       5       1                       2.0   Executive   \n",
       "\n",
       "   MonthlyIncome  \n",
       "0        21257.0  "
      ]
     },
     "execution_count": 109,
     "metadata": {},
     "output_type": "execute_result"
    }
   ],
   "source": [
    "df_for_model"
   ]
  },
  {
   "cell_type": "code",
   "execution_count": 110,
   "id": "f57d5d30",
   "metadata": {},
   "outputs": [],
   "source": [
    "new_arr=preprocessor.transform(df_for_model)"
   ]
  },
  {
   "cell_type": "code",
   "execution_count": 111,
   "id": "55c1200d",
   "metadata": {},
   "outputs": [
    {
     "data": {
      "text/plain": [
       "array([[-0.27371919,  1.4834196 ,  0.67882693,  0.1256426 ,  0.28151084,\n",
       "        -0.73136573, -0.13454257,  1.5675565 ,  1.41018939,  0.783328  ,\n",
       "         0.94029906, -0.44366701,  0.        ,  1.        ,  0.        ,\n",
       "         1.        ,  0.        ,  0.        ,  1.        ,  0.        ,\n",
       "         1.        ,  0.        ,  0.        ,  0.        ,  0.        ,\n",
       "         0.        ,  1.        ,  0.        ,  0.        ,  1.        ,\n",
       "         0.        ,  0.        ,  0.        ]])"
      ]
     },
     "execution_count": 111,
     "metadata": {},
     "output_type": "execute_result"
    }
   ],
   "source": [
    "new_arr"
   ]
  },
  {
   "cell_type": "code",
   "execution_count": 112,
   "id": "a1edde6c",
   "metadata": {},
   "outputs": [
    {
     "data": {
      "text/plain": [
       "array([0], dtype=int64)"
      ]
     },
     "execution_count": 112,
     "metadata": {},
     "output_type": "execute_result"
    }
   ],
   "source": [
    "model.predict(new_arr)"
   ]
  },
  {
   "cell_type": "code",
   "execution_count": 114,
   "id": "b45cb584",
   "metadata": {},
   "outputs": [
    {
     "data": {
      "text/html": [
       "<div>\n",
       "<style scoped>\n",
       "    .dataframe tbody tr th:only-of-type {\n",
       "        vertical-align: middle;\n",
       "    }\n",
       "\n",
       "    .dataframe tbody tr th {\n",
       "        vertical-align: top;\n",
       "    }\n",
       "\n",
       "    .dataframe thead th {\n",
       "        text-align: right;\n",
       "    }\n",
       "</style>\n",
       "<table border=\"1\" class=\"dataframe\">\n",
       "  <thead>\n",
       "    <tr style=\"text-align: right;\">\n",
       "      <th></th>\n",
       "      <th>ProdTaken</th>\n",
       "      <th>Age</th>\n",
       "      <th>TypeofContact</th>\n",
       "      <th>CityTier</th>\n",
       "      <th>DurationOfPitch</th>\n",
       "      <th>Occupation</th>\n",
       "      <th>Gender</th>\n",
       "      <th>NumberOfPersonVisiting</th>\n",
       "      <th>NumberOfFollowups</th>\n",
       "      <th>ProductPitched</th>\n",
       "      <th>PreferredPropertyStar</th>\n",
       "      <th>MaritalStatus</th>\n",
       "      <th>NumberOfTrips</th>\n",
       "      <th>Passport</th>\n",
       "      <th>PitchSatisfactionScore</th>\n",
       "      <th>OwnCar</th>\n",
       "      <th>NumberOfChildrenVisiting</th>\n",
       "      <th>Designation</th>\n",
       "      <th>MonthlyIncome</th>\n",
       "    </tr>\n",
       "  </thead>\n",
       "  <tbody>\n",
       "    <tr>\n",
       "      <th>0</th>\n",
       "      <td>1</td>\n",
       "      <td>41.0</td>\n",
       "      <td>Self Enquiry</td>\n",
       "      <td>3</td>\n",
       "      <td>6.0</td>\n",
       "      <td>Salaried</td>\n",
       "      <td>Female</td>\n",
       "      <td>3</td>\n",
       "      <td>3.0</td>\n",
       "      <td>Deluxe</td>\n",
       "      <td>3.0</td>\n",
       "      <td>Unmarried</td>\n",
       "      <td>1.0</td>\n",
       "      <td>1</td>\n",
       "      <td>2</td>\n",
       "      <td>1</td>\n",
       "      <td>0.0</td>\n",
       "      <td>Manager</td>\n",
       "      <td>20993.0</td>\n",
       "    </tr>\n",
       "    <tr>\n",
       "      <th>1</th>\n",
       "      <td>0</td>\n",
       "      <td>49.0</td>\n",
       "      <td>Company Invited</td>\n",
       "      <td>1</td>\n",
       "      <td>14.0</td>\n",
       "      <td>Salaried</td>\n",
       "      <td>Male</td>\n",
       "      <td>3</td>\n",
       "      <td>4.0</td>\n",
       "      <td>Deluxe</td>\n",
       "      <td>4.0</td>\n",
       "      <td>Divorced</td>\n",
       "      <td>2.0</td>\n",
       "      <td>0</td>\n",
       "      <td>3</td>\n",
       "      <td>1</td>\n",
       "      <td>2.0</td>\n",
       "      <td>Manager</td>\n",
       "      <td>20130.0</td>\n",
       "    </tr>\n",
       "    <tr>\n",
       "      <th>2</th>\n",
       "      <td>1</td>\n",
       "      <td>37.0</td>\n",
       "      <td>Self Enquiry</td>\n",
       "      <td>1</td>\n",
       "      <td>8.0</td>\n",
       "      <td>Free Lancer</td>\n",
       "      <td>Male</td>\n",
       "      <td>3</td>\n",
       "      <td>4.0</td>\n",
       "      <td>Basic</td>\n",
       "      <td>3.0</td>\n",
       "      <td>Unmarried</td>\n",
       "      <td>7.0</td>\n",
       "      <td>1</td>\n",
       "      <td>3</td>\n",
       "      <td>0</td>\n",
       "      <td>0.0</td>\n",
       "      <td>Executive</td>\n",
       "      <td>17090.0</td>\n",
       "    </tr>\n",
       "    <tr>\n",
       "      <th>3</th>\n",
       "      <td>0</td>\n",
       "      <td>33.0</td>\n",
       "      <td>Company Invited</td>\n",
       "      <td>1</td>\n",
       "      <td>9.0</td>\n",
       "      <td>Salaried</td>\n",
       "      <td>Female</td>\n",
       "      <td>2</td>\n",
       "      <td>3.0</td>\n",
       "      <td>Basic</td>\n",
       "      <td>3.0</td>\n",
       "      <td>Divorced</td>\n",
       "      <td>2.0</td>\n",
       "      <td>1</td>\n",
       "      <td>5</td>\n",
       "      <td>1</td>\n",
       "      <td>1.0</td>\n",
       "      <td>Executive</td>\n",
       "      <td>17909.0</td>\n",
       "    </tr>\n",
       "    <tr>\n",
       "      <th>4</th>\n",
       "      <td>0</td>\n",
       "      <td>NaN</td>\n",
       "      <td>Self Enquiry</td>\n",
       "      <td>1</td>\n",
       "      <td>8.0</td>\n",
       "      <td>Small Business</td>\n",
       "      <td>Male</td>\n",
       "      <td>2</td>\n",
       "      <td>3.0</td>\n",
       "      <td>Basic</td>\n",
       "      <td>4.0</td>\n",
       "      <td>Divorced</td>\n",
       "      <td>1.0</td>\n",
       "      <td>0</td>\n",
       "      <td>5</td>\n",
       "      <td>1</td>\n",
       "      <td>0.0</td>\n",
       "      <td>Executive</td>\n",
       "      <td>18468.0</td>\n",
       "    </tr>\n",
       "    <tr>\n",
       "      <th>...</th>\n",
       "      <td>...</td>\n",
       "      <td>...</td>\n",
       "      <td>...</td>\n",
       "      <td>...</td>\n",
       "      <td>...</td>\n",
       "      <td>...</td>\n",
       "      <td>...</td>\n",
       "      <td>...</td>\n",
       "      <td>...</td>\n",
       "      <td>...</td>\n",
       "      <td>...</td>\n",
       "      <td>...</td>\n",
       "      <td>...</td>\n",
       "      <td>...</td>\n",
       "      <td>...</td>\n",
       "      <td>...</td>\n",
       "      <td>...</td>\n",
       "      <td>...</td>\n",
       "      <td>...</td>\n",
       "    </tr>\n",
       "    <tr>\n",
       "      <th>4883</th>\n",
       "      <td>1</td>\n",
       "      <td>49.0</td>\n",
       "      <td>Self Enquiry</td>\n",
       "      <td>3</td>\n",
       "      <td>9.0</td>\n",
       "      <td>Small Business</td>\n",
       "      <td>Male</td>\n",
       "      <td>3</td>\n",
       "      <td>5.0</td>\n",
       "      <td>Deluxe</td>\n",
       "      <td>4.0</td>\n",
       "      <td>Unmarried</td>\n",
       "      <td>2.0</td>\n",
       "      <td>1</td>\n",
       "      <td>1</td>\n",
       "      <td>1</td>\n",
       "      <td>1.0</td>\n",
       "      <td>Manager</td>\n",
       "      <td>26576.0</td>\n",
       "    </tr>\n",
       "    <tr>\n",
       "      <th>4884</th>\n",
       "      <td>1</td>\n",
       "      <td>28.0</td>\n",
       "      <td>Company Invited</td>\n",
       "      <td>1</td>\n",
       "      <td>31.0</td>\n",
       "      <td>Salaried</td>\n",
       "      <td>Male</td>\n",
       "      <td>4</td>\n",
       "      <td>5.0</td>\n",
       "      <td>Basic</td>\n",
       "      <td>3.0</td>\n",
       "      <td>Unmarried</td>\n",
       "      <td>3.0</td>\n",
       "      <td>1</td>\n",
       "      <td>3</td>\n",
       "      <td>1</td>\n",
       "      <td>2.0</td>\n",
       "      <td>Executive</td>\n",
       "      <td>21212.0</td>\n",
       "    </tr>\n",
       "    <tr>\n",
       "      <th>4885</th>\n",
       "      <td>1</td>\n",
       "      <td>52.0</td>\n",
       "      <td>Self Enquiry</td>\n",
       "      <td>3</td>\n",
       "      <td>17.0</td>\n",
       "      <td>Salaried</td>\n",
       "      <td>Female</td>\n",
       "      <td>4</td>\n",
       "      <td>4.0</td>\n",
       "      <td>Standard</td>\n",
       "      <td>4.0</td>\n",
       "      <td>Married</td>\n",
       "      <td>7.0</td>\n",
       "      <td>0</td>\n",
       "      <td>1</td>\n",
       "      <td>1</td>\n",
       "      <td>3.0</td>\n",
       "      <td>Senior Manager</td>\n",
       "      <td>31820.0</td>\n",
       "    </tr>\n",
       "    <tr>\n",
       "      <th>4886</th>\n",
       "      <td>1</td>\n",
       "      <td>19.0</td>\n",
       "      <td>Self Enquiry</td>\n",
       "      <td>3</td>\n",
       "      <td>16.0</td>\n",
       "      <td>Small Business</td>\n",
       "      <td>Male</td>\n",
       "      <td>3</td>\n",
       "      <td>4.0</td>\n",
       "      <td>Basic</td>\n",
       "      <td>3.0</td>\n",
       "      <td>Unmarried</td>\n",
       "      <td>3.0</td>\n",
       "      <td>0</td>\n",
       "      <td>5</td>\n",
       "      <td>0</td>\n",
       "      <td>2.0</td>\n",
       "      <td>Executive</td>\n",
       "      <td>20289.0</td>\n",
       "    </tr>\n",
       "    <tr>\n",
       "      <th>4887</th>\n",
       "      <td>1</td>\n",
       "      <td>36.0</td>\n",
       "      <td>Self Enquiry</td>\n",
       "      <td>1</td>\n",
       "      <td>14.0</td>\n",
       "      <td>Salaried</td>\n",
       "      <td>Male</td>\n",
       "      <td>4</td>\n",
       "      <td>4.0</td>\n",
       "      <td>Basic</td>\n",
       "      <td>4.0</td>\n",
       "      <td>Unmarried</td>\n",
       "      <td>3.0</td>\n",
       "      <td>1</td>\n",
       "      <td>3</td>\n",
       "      <td>1</td>\n",
       "      <td>2.0</td>\n",
       "      <td>Executive</td>\n",
       "      <td>24041.0</td>\n",
       "    </tr>\n",
       "  </tbody>\n",
       "</table>\n",
       "<p>4888 rows × 19 columns</p>\n",
       "</div>"
      ],
      "text/plain": [
       "      ProdTaken   Age    TypeofContact  CityTier  DurationOfPitch  \\\n",
       "0             1  41.0     Self Enquiry         3              6.0   \n",
       "1             0  49.0  Company Invited         1             14.0   \n",
       "2             1  37.0     Self Enquiry         1              8.0   \n",
       "3             0  33.0  Company Invited         1              9.0   \n",
       "4             0   NaN     Self Enquiry         1              8.0   \n",
       "...         ...   ...              ...       ...              ...   \n",
       "4883          1  49.0     Self Enquiry         3              9.0   \n",
       "4884          1  28.0  Company Invited         1             31.0   \n",
       "4885          1  52.0     Self Enquiry         3             17.0   \n",
       "4886          1  19.0     Self Enquiry         3             16.0   \n",
       "4887          1  36.0     Self Enquiry         1             14.0   \n",
       "\n",
       "          Occupation  Gender  NumberOfPersonVisiting  NumberOfFollowups  \\\n",
       "0           Salaried  Female                       3                3.0   \n",
       "1           Salaried    Male                       3                4.0   \n",
       "2        Free Lancer    Male                       3                4.0   \n",
       "3           Salaried  Female                       2                3.0   \n",
       "4     Small Business    Male                       2                3.0   \n",
       "...              ...     ...                     ...                ...   \n",
       "4883  Small Business    Male                       3                5.0   \n",
       "4884        Salaried    Male                       4                5.0   \n",
       "4885        Salaried  Female                       4                4.0   \n",
       "4886  Small Business    Male                       3                4.0   \n",
       "4887        Salaried    Male                       4                4.0   \n",
       "\n",
       "     ProductPitched  PreferredPropertyStar MaritalStatus  NumberOfTrips  \\\n",
       "0            Deluxe                    3.0     Unmarried            1.0   \n",
       "1            Deluxe                    4.0      Divorced            2.0   \n",
       "2             Basic                    3.0     Unmarried            7.0   \n",
       "3             Basic                    3.0      Divorced            2.0   \n",
       "4             Basic                    4.0      Divorced            1.0   \n",
       "...             ...                    ...           ...            ...   \n",
       "4883         Deluxe                    4.0     Unmarried            2.0   \n",
       "4884          Basic                    3.0     Unmarried            3.0   \n",
       "4885       Standard                    4.0       Married            7.0   \n",
       "4886          Basic                    3.0     Unmarried            3.0   \n",
       "4887          Basic                    4.0     Unmarried            3.0   \n",
       "\n",
       "      Passport  PitchSatisfactionScore  OwnCar  NumberOfChildrenVisiting  \\\n",
       "0            1                       2       1                       0.0   \n",
       "1            0                       3       1                       2.0   \n",
       "2            1                       3       0                       0.0   \n",
       "3            1                       5       1                       1.0   \n",
       "4            0                       5       1                       0.0   \n",
       "...        ...                     ...     ...                       ...   \n",
       "4883         1                       1       1                       1.0   \n",
       "4884         1                       3       1                       2.0   \n",
       "4885         0                       1       1                       3.0   \n",
       "4886         0                       5       0                       2.0   \n",
       "4887         1                       3       1                       2.0   \n",
       "\n",
       "         Designation  MonthlyIncome  \n",
       "0            Manager        20993.0  \n",
       "1            Manager        20130.0  \n",
       "2          Executive        17090.0  \n",
       "3          Executive        17909.0  \n",
       "4          Executive        18468.0  \n",
       "...              ...            ...  \n",
       "4883         Manager        26576.0  \n",
       "4884       Executive        21212.0  \n",
       "4885  Senior Manager        31820.0  \n",
       "4886       Executive        20289.0  \n",
       "4887       Executive        24041.0  \n",
       "\n",
       "[4888 rows x 19 columns]"
      ]
     },
     "execution_count": 114,
     "metadata": {},
     "output_type": "execute_result"
    }
   ],
   "source": [
    "data"
   ]
  },
  {
   "cell_type": "code",
   "execution_count": 120,
   "id": "16d9b400",
   "metadata": {},
   "outputs": [],
   "source": [
    "new_points_2=list(x.loc[4887,:])"
   ]
  },
  {
   "cell_type": "code",
   "execution_count": 121,
   "id": "349cd77b",
   "metadata": {},
   "outputs": [
    {
     "data": {
      "text/plain": [
       "[36.0,\n",
       " 'Self Enquiry',\n",
       " 1,\n",
       " 14.0,\n",
       " 'Salaried',\n",
       " 'Male',\n",
       " 4,\n",
       " 4.0,\n",
       " 'Basic',\n",
       " 4.0,\n",
       " 'Unmarried',\n",
       " 3.0,\n",
       " 1,\n",
       " 3,\n",
       " 1,\n",
       " 2.0,\n",
       " 'Executive',\n",
       " 24041.0]"
      ]
     },
     "execution_count": 121,
     "metadata": {},
     "output_type": "execute_result"
    }
   ],
   "source": [
    "new_points_2"
   ]
  },
  {
   "cell_type": "code",
   "execution_count": 122,
   "id": "79c4182c",
   "metadata": {},
   "outputs": [],
   "source": [
    "for i,j in zip(data_columns,new_points_2):\n",
    "    df_for_model[i]=[j]"
   ]
  },
  {
   "cell_type": "code",
   "execution_count": 123,
   "id": "b11e0f59",
   "metadata": {},
   "outputs": [
    {
     "data": {
      "text/html": [
       "<div>\n",
       "<style scoped>\n",
       "    .dataframe tbody tr th:only-of-type {\n",
       "        vertical-align: middle;\n",
       "    }\n",
       "\n",
       "    .dataframe tbody tr th {\n",
       "        vertical-align: top;\n",
       "    }\n",
       "\n",
       "    .dataframe thead th {\n",
       "        text-align: right;\n",
       "    }\n",
       "</style>\n",
       "<table border=\"1\" class=\"dataframe\">\n",
       "  <thead>\n",
       "    <tr style=\"text-align: right;\">\n",
       "      <th></th>\n",
       "      <th>Age</th>\n",
       "      <th>TypeofContact</th>\n",
       "      <th>CityTier</th>\n",
       "      <th>DurationOfPitch</th>\n",
       "      <th>Occupation</th>\n",
       "      <th>Gender</th>\n",
       "      <th>NumberOfPersonVisiting</th>\n",
       "      <th>NumberOfFollowups</th>\n",
       "      <th>ProductPitched</th>\n",
       "      <th>PreferredPropertyStar</th>\n",
       "      <th>MaritalStatus</th>\n",
       "      <th>NumberOfTrips</th>\n",
       "      <th>Passport</th>\n",
       "      <th>PitchSatisfactionScore</th>\n",
       "      <th>OwnCar</th>\n",
       "      <th>NumberOfChildrenVisiting</th>\n",
       "      <th>Designation</th>\n",
       "      <th>MonthlyIncome</th>\n",
       "    </tr>\n",
       "  </thead>\n",
       "  <tbody>\n",
       "    <tr>\n",
       "      <th>0</th>\n",
       "      <td>36.0</td>\n",
       "      <td>Self Enquiry</td>\n",
       "      <td>1</td>\n",
       "      <td>14.0</td>\n",
       "      <td>Salaried</td>\n",
       "      <td>Male</td>\n",
       "      <td>4</td>\n",
       "      <td>4.0</td>\n",
       "      <td>Basic</td>\n",
       "      <td>4.0</td>\n",
       "      <td>Unmarried</td>\n",
       "      <td>3.0</td>\n",
       "      <td>1</td>\n",
       "      <td>3</td>\n",
       "      <td>1</td>\n",
       "      <td>2.0</td>\n",
       "      <td>Executive</td>\n",
       "      <td>24041.0</td>\n",
       "    </tr>\n",
       "  </tbody>\n",
       "</table>\n",
       "</div>"
      ],
      "text/plain": [
       "    Age TypeofContact  CityTier  DurationOfPitch Occupation Gender  \\\n",
       "0  36.0  Self Enquiry         1             14.0   Salaried   Male   \n",
       "\n",
       "   NumberOfPersonVisiting  NumberOfFollowups ProductPitched  \\\n",
       "0                       4                4.0          Basic   \n",
       "\n",
       "   PreferredPropertyStar MaritalStatus  NumberOfTrips  Passport  \\\n",
       "0                    4.0     Unmarried            3.0         1   \n",
       "\n",
       "   PitchSatisfactionScore  OwnCar  NumberOfChildrenVisiting Designation  \\\n",
       "0                       3       1                       2.0   Executive   \n",
       "\n",
       "   MonthlyIncome  \n",
       "0        24041.0  "
      ]
     },
     "execution_count": 123,
     "metadata": {},
     "output_type": "execute_result"
    }
   ],
   "source": [
    "df_for_model"
   ]
  },
  {
   "cell_type": "code",
   "execution_count": 124,
   "id": "34d50d7c",
   "metadata": {},
   "outputs": [],
   "source": [
    "new_arr2=preprocessor.transform(df_for_model)"
   ]
  },
  {
   "cell_type": "code",
   "execution_count": 125,
   "id": "d00ac0e5",
   "metadata": {},
   "outputs": [
    {
     "data": {
      "text/plain": [
       "array([1], dtype=int64)"
      ]
     },
     "execution_count": 125,
     "metadata": {},
     "output_type": "execute_result"
    }
   ],
   "source": [
    "model.predict(new_arr2)"
   ]
  },
  {
   "cell_type": "code",
   "execution_count": null,
   "id": "c9b0af15",
   "metadata": {},
   "outputs": [],
   "source": []
  }
 ],
 "metadata": {
  "kernelspec": {
   "display_name": "Python 3 (ipykernel)",
   "language": "python",
   "name": "python3"
  },
  "language_info": {
   "codemirror_mode": {
    "name": "ipython",
    "version": 3
   },
   "file_extension": ".py",
   "mimetype": "text/x-python",
   "name": "python",
   "nbconvert_exporter": "python",
   "pygments_lexer": "ipython3",
   "version": "3.10.9"
  }
 },
 "nbformat": 4,
 "nbformat_minor": 5
}
